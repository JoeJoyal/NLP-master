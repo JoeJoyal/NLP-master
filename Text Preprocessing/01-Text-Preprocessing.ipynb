{
 "cells": [
  {
   "cell_type": "code",
   "execution_count": null,
   "id": "4b1c8752",
   "metadata": {},
   "outputs": [],
   "source": [
    "# pip install nltk spacy emoji contraction"
   ]
  },
  {
   "cell_type": "code",
   "execution_count": null,
   "id": "da12f93f",
   "metadata": {},
   "outputs": [
    {
     "name": "stdout",
     "output_type": "stream",
     "text": [
      "Collecting en-core-web-sm==3.8.0\n",
      "  Downloading https://github.com/explosion/spacy-models/releases/download/en_core_web_sm-3.8.0/en_core_web_sm-3.8.0-py3-none-any.whl (12.8 MB)\n",
      "     ---------------------------------------- 0.0/12.8 MB ? eta -:--:--\n",
      "     --------- ------------------------------ 2.9/12.8 MB 16.7 MB/s eta 0:00:01\n",
      "     ----------------- ---------------------- 5.5/12.8 MB 15.2 MB/s eta 0:00:01\n",
      "     --------------------- ------------------ 6.8/12.8 MB 11.0 MB/s eta 0:00:01\n",
      "     ------------------------- -------------- 8.1/12.8 MB 9.9 MB/s eta 0:00:01\n",
      "     ------------------------------ --------- 9.7/12.8 MB 9.4 MB/s eta 0:00:01\n",
      "     ------------------------------------ --- 11.5/12.8 MB 9.4 MB/s eta 0:00:01\n",
      "     ---------------------------------------- 12.8/12.8 MB 9.2 MB/s eta 0:00:00\n",
      "Installing collected packages: en-core-web-sm\n",
      "Successfully installed en-core-web-sm-3.8.0\n",
      "\u001b[38;5;2m✔ Download and installation successful\u001b[0m\n",
      "You can now load the package via spacy.load('en_core_web_sm')\n"
     ]
    }
   ],
   "source": [
    "# !python -m spacy download en_core_web_sm"
   ]
  },
  {
   "cell_type": "code",
   "execution_count": 36,
   "id": "de81ea92",
   "metadata": {},
   "outputs": [],
   "source": [
    "text = \"Euron offers 50+ self-paced ai. data science courses! #ai #Learning ., let's isn't\""
   ]
  },
  {
   "cell_type": "code",
   "execution_count": 102,
   "id": "f8d47594",
   "metadata": {},
   "outputs": [],
   "source": [
    "import re, string, nltk, spacy, emoji, contractions\n",
    "from nltk.corpus import stopwords\n",
    "from nltk.stem import PorterStemmer, SnowballStemmer\n",
    "from nltk.tokenize import word_tokenize, sent_tokenize\n",
    "from spacy.lang.en.stop_words import STOP_WORDS as spacy_stopwords"
   ]
  },
  {
   "cell_type": "code",
   "execution_count": 38,
   "id": "614d38f5",
   "metadata": {},
   "outputs": [],
   "source": [
    "import nltk"
   ]
  },
  {
   "cell_type": "code",
   "execution_count": 39,
   "id": "a3ac714b",
   "metadata": {},
   "outputs": [],
   "source": [
    "from nltk.corpus import stopwords"
   ]
  },
  {
   "cell_type": "code",
   "execution_count": 5,
   "id": "6b939e9e",
   "metadata": {},
   "outputs": [
    {
     "name": "stderr",
     "output_type": "stream",
     "text": [
      "[nltk_data] Downloading package punkt_tab to\n",
      "[nltk_data]     C:\\Users\\rootl\\AppData\\Roaming\\nltk_data...\n",
      "[nltk_data]   Package punkt_tab is already up-to-date!\n"
     ]
    },
    {
     "data": {
      "text/plain": [
       "True"
      ]
     },
     "execution_count": 5,
     "metadata": {},
     "output_type": "execute_result"
    }
   ],
   "source": [
    "nltk.download(\"punkt_tab\")"
   ]
  },
  {
   "cell_type": "code",
   "execution_count": 40,
   "id": "cee2002b",
   "metadata": {},
   "outputs": [
    {
     "data": {
      "text/plain": [
       "['a',\n",
       " 'about',\n",
       " 'above',\n",
       " 'after',\n",
       " 'again',\n",
       " 'against',\n",
       " 'ain',\n",
       " 'all',\n",
       " 'am',\n",
       " 'an',\n",
       " 'and',\n",
       " 'any',\n",
       " 'are',\n",
       " 'aren',\n",
       " \"aren't\",\n",
       " 'as',\n",
       " 'at',\n",
       " 'be',\n",
       " 'because',\n",
       " 'been',\n",
       " 'before',\n",
       " 'being',\n",
       " 'below',\n",
       " 'between',\n",
       " 'both',\n",
       " 'but',\n",
       " 'by',\n",
       " 'can',\n",
       " 'couldn',\n",
       " \"couldn't\",\n",
       " 'd',\n",
       " 'did',\n",
       " 'didn',\n",
       " \"didn't\",\n",
       " 'do',\n",
       " 'does',\n",
       " 'doesn',\n",
       " \"doesn't\",\n",
       " 'doing',\n",
       " 'don',\n",
       " \"don't\",\n",
       " 'down',\n",
       " 'during',\n",
       " 'each',\n",
       " 'few',\n",
       " 'for',\n",
       " 'from',\n",
       " 'further',\n",
       " 'had',\n",
       " 'hadn',\n",
       " \"hadn't\",\n",
       " 'has',\n",
       " 'hasn',\n",
       " \"hasn't\",\n",
       " 'have',\n",
       " 'haven',\n",
       " \"haven't\",\n",
       " 'having',\n",
       " 'he',\n",
       " \"he'd\",\n",
       " \"he'll\",\n",
       " 'her',\n",
       " 'here',\n",
       " 'hers',\n",
       " 'herself',\n",
       " \"he's\",\n",
       " 'him',\n",
       " 'himself',\n",
       " 'his',\n",
       " 'how',\n",
       " 'i',\n",
       " \"i'd\",\n",
       " 'if',\n",
       " \"i'll\",\n",
       " \"i'm\",\n",
       " 'in',\n",
       " 'into',\n",
       " 'is',\n",
       " 'isn',\n",
       " \"isn't\",\n",
       " 'it',\n",
       " \"it'd\",\n",
       " \"it'll\",\n",
       " \"it's\",\n",
       " 'its',\n",
       " 'itself',\n",
       " \"i've\",\n",
       " 'just',\n",
       " 'll',\n",
       " 'm',\n",
       " 'ma',\n",
       " 'me',\n",
       " 'mightn',\n",
       " \"mightn't\",\n",
       " 'more',\n",
       " 'most',\n",
       " 'mustn',\n",
       " \"mustn't\",\n",
       " 'my',\n",
       " 'myself',\n",
       " 'needn',\n",
       " \"needn't\",\n",
       " 'no',\n",
       " 'nor',\n",
       " 'not',\n",
       " 'now',\n",
       " 'o',\n",
       " 'of',\n",
       " 'off',\n",
       " 'on',\n",
       " 'once',\n",
       " 'only',\n",
       " 'or',\n",
       " 'other',\n",
       " 'our',\n",
       " 'ours',\n",
       " 'ourselves',\n",
       " 'out',\n",
       " 'over',\n",
       " 'own',\n",
       " 're',\n",
       " 's',\n",
       " 'same',\n",
       " 'shan',\n",
       " \"shan't\",\n",
       " 'she',\n",
       " \"she'd\",\n",
       " \"she'll\",\n",
       " \"she's\",\n",
       " 'should',\n",
       " 'shouldn',\n",
       " \"shouldn't\",\n",
       " \"should've\",\n",
       " 'so',\n",
       " 'some',\n",
       " 'such',\n",
       " 't',\n",
       " 'than',\n",
       " 'that',\n",
       " \"that'll\",\n",
       " 'the',\n",
       " 'their',\n",
       " 'theirs',\n",
       " 'them',\n",
       " 'themselves',\n",
       " 'then',\n",
       " 'there',\n",
       " 'these',\n",
       " 'they',\n",
       " \"they'd\",\n",
       " \"they'll\",\n",
       " \"they're\",\n",
       " \"they've\",\n",
       " 'this',\n",
       " 'those',\n",
       " 'through',\n",
       " 'to',\n",
       " 'too',\n",
       " 'under',\n",
       " 'until',\n",
       " 'up',\n",
       " 've',\n",
       " 'very',\n",
       " 'was',\n",
       " 'wasn',\n",
       " \"wasn't\",\n",
       " 'we',\n",
       " \"we'd\",\n",
       " \"we'll\",\n",
       " \"we're\",\n",
       " 'were',\n",
       " 'weren',\n",
       " \"weren't\",\n",
       " \"we've\",\n",
       " 'what',\n",
       " 'when',\n",
       " 'where',\n",
       " 'which',\n",
       " 'while',\n",
       " 'who',\n",
       " 'whom',\n",
       " 'why',\n",
       " 'will',\n",
       " 'with',\n",
       " 'won',\n",
       " \"won't\",\n",
       " 'wouldn',\n",
       " \"wouldn't\",\n",
       " 'y',\n",
       " 'you',\n",
       " \"you'd\",\n",
       " \"you'll\",\n",
       " 'your',\n",
       " \"you're\",\n",
       " 'yours',\n",
       " 'yourself',\n",
       " 'yourselves',\n",
       " \"you've\"]"
      ]
     },
     "execution_count": 40,
     "metadata": {},
     "output_type": "execute_result"
    }
   ],
   "source": [
    "stopwords.words(\"english\")"
   ]
  },
  {
   "cell_type": "code",
   "execution_count": 41,
   "id": "afeab5ab",
   "metadata": {},
   "outputs": [
    {
     "data": {
      "text/plain": [
       "\"Euron offers 50+ self-paced ai. data science courses! #ai #Learning ., let's isn't\""
      ]
     },
     "execution_count": 41,
     "metadata": {},
     "output_type": "execute_result"
    }
   ],
   "source": [
    "text"
   ]
  },
  {
   "cell_type": "code",
   "execution_count": 7,
   "id": "7c400b6b",
   "metadata": {},
   "outputs": [
    {
     "data": {
      "text/plain": [
       "str"
      ]
     },
     "execution_count": 7,
     "metadata": {},
     "output_type": "execute_result"
    }
   ],
   "source": [
    "type(text)"
   ]
  },
  {
   "cell_type": "markdown",
   "id": "d37cb355",
   "metadata": {},
   "source": [
    "#### <font color='green'>lowercase()</font>"
   ]
  },
  {
   "cell_type": "code",
   "execution_count": 43,
   "id": "3f576dac",
   "metadata": {},
   "outputs": [],
   "source": [
    "text=text.lower()"
   ]
  },
  {
   "cell_type": "code",
   "execution_count": 44,
   "id": "37db7965",
   "metadata": {},
   "outputs": [
    {
     "data": {
      "text/plain": [
       "\"euron offers 50+ self-paced ai. data science courses! #ai #learning ., let's isn't\""
      ]
     },
     "execution_count": 44,
     "metadata": {},
     "output_type": "execute_result"
    }
   ],
   "source": [
    "text"
   ]
  },
  {
   "cell_type": "markdown",
   "id": "9534ed6c",
   "metadata": {},
   "source": [
    "#### <font color='green'>Contractions() </font>\n",
    "\n",
    "- To expand the words\n",
    "\n",
    "- Ex: let's isn't\n",
    "\n",
    "- Recorrect format: let us is not"
   ]
  },
  {
   "cell_type": "code",
   "execution_count": 45,
   "id": "4d7eb968",
   "metadata": {},
   "outputs": [],
   "source": [
    "text = contractions.fix(text)"
   ]
  },
  {
   "cell_type": "code",
   "execution_count": 48,
   "id": "e9811b0c",
   "metadata": {},
   "outputs": [
    {
     "data": {
      "text/plain": [
       "'euron offers 50+ self-paced ai. data science courses! #ai #learning ., let us is not'"
      ]
     },
     "execution_count": 48,
     "metadata": {},
     "output_type": "execute_result"
    }
   ],
   "source": [
    "text"
   ]
  },
  {
   "cell_type": "markdown",
   "id": "e6c65114",
   "metadata": {},
   "source": [
    "#### <font color='green'>Regular Expersion</font>"
   ]
  },
  {
   "cell_type": "code",
   "execution_count": 49,
   "id": "d7a97181",
   "metadata": {},
   "outputs": [
    {
     "data": {
      "text/plain": [
       "'euron offers 50+ self-paced ai. data science courses!   ., let us is not'"
      ]
     },
     "execution_count": 49,
     "metadata": {},
     "output_type": "execute_result"
    }
   ],
   "source": [
    "re.sub(r\"#\\w+\", \"\", text)"
   ]
  },
  {
   "cell_type": "markdown",
   "id": "1d39668e",
   "metadata": {},
   "source": [
    "#### <font color='green'>Punctuation</font>"
   ]
  },
  {
   "cell_type": "code",
   "execution_count": 149,
   "id": "757df04f",
   "metadata": {},
   "outputs": [],
   "source": [
    "text=text.translate(str.maketrans(\"\",\"\",string.punctuation))"
   ]
  },
  {
   "cell_type": "code",
   "execution_count": 150,
   "id": "460a512c",
   "metadata": {},
   "outputs": [
    {
     "data": {
      "text/plain": [
       "'euron offers 50 selfpaced data science courses learning'"
      ]
     },
     "execution_count": 150,
     "metadata": {},
     "output_type": "execute_result"
    }
   ],
   "source": [
    "text"
   ]
  },
  {
   "cell_type": "code",
   "execution_count": 151,
   "id": "1885b7de",
   "metadata": {},
   "outputs": [],
   "source": [
    "# text = \"Euron offers 50+ self-paced ai. data science courses! #ai #Learning ., let's isn't\""
   ]
  },
  {
   "cell_type": "code",
   "execution_count": 152,
   "id": "33fb0fe3",
   "metadata": {},
   "outputs": [
    {
     "data": {
      "text/plain": [
       "['euron offers 50 selfpaced data science courses learning']"
      ]
     },
     "execution_count": 152,
     "metadata": {},
     "output_type": "execute_result"
    }
   ],
   "source": [
    "sent_tokenize(text=text)"
   ]
  },
  {
   "cell_type": "code",
   "execution_count": 153,
   "id": "fda7e77a",
   "metadata": {},
   "outputs": [
    {
     "data": {
      "text/plain": [
       "['euron',\n",
       " 'offers',\n",
       " '50',\n",
       " 'selfpaced',\n",
       " 'data',\n",
       " 'science',\n",
       " 'courses',\n",
       " 'learning']"
      ]
     },
     "execution_count": 153,
     "metadata": {},
     "output_type": "execute_result"
    }
   ],
   "source": [
    "word_tokenize(text)"
   ]
  },
  {
   "cell_type": "code",
   "execution_count": 154,
   "id": "3b4f8343",
   "metadata": {},
   "outputs": [
    {
     "data": {
      "text/plain": [
       "\"tyre\\nrreth\\nle\\natyre\\nkëta\\nmegjithëse\\nkemi\\nper\\nndonëse\\ndytë\\npse\\ntha\\naty\\nndaj\\nke\\nkëtë\\nduhet\\npa\\nperket\\nveç\\nndonje\\nnjë\\nkeshtu\\ns\\njanë\\njane\\nti\\nia\\nmegjithese\\nprej\\nishte\\ntjerë\\nai\\nse\\ntillë\\ndo\\nsi\\nja\\ntonë\\nketa\\npastaj\\nndersa\\nsiç\\nunë\\ngjate\\ndi\\nkësaj\\ncilin\\nkjo\\ndhënë\\nda\\nteper\\nketij\\nama\\npasi\\nfjalë\\nkanë\\nvetem\\nza\\nd.m.th.\\nose\\npas\\nndonjë\\ncila\\nndodhur\\ndyte\\nardhur\\nkësi\\nnga\\nvete\\natij\\nta\\njenë\\nrendit\\ntane\\nkeso\\nderi\\ntone\\ntë\\nprandaj\\nbëjë\\ndomethënë\\ndhe\\nqi\\nmirepo\\ntona\\nqë\\nu\\nkëtu\\ncilet\\njene\\ntjere\\ngjë\\nsë\\ngjatë\\nduhej\\nt\\ndhene\\nthuhet\\npo\\nune\\ndy\\ncfare\\nndërsa\\nsepse\\nedhe\\ncilen\\nto\\nmeqenese\\nmeje\\ntij\\nqene\\njeni\\nthem\\npërket\\nketo\\nni\\nkëso\\nasaj\\najo\\nsic\\nvetëm\\nketyre\\nandaj\\nna\\nsa\\nkesaj\\ncili\\nkëtyre\\ndomethene\\nmirëpo\\ncilën\\nmos\\nmadh\\nqenë\\ncilët\\nthënë\\njemi\\nfjale\\nsoje\\nneve\\ngjitha\\nkështu\\nvet\\nkur\\nty\\nmeqë\\nmeqenëse\\njush\\nketë\\npara\\nkush\\ni\\nmua\\ndite\\nate\\npër\\ntepër\\nnesh\\nmeqe\\nketu\\nku\\ndisa\\nato\\nmbi\\ngje\\nne\\nështë\\ntille\\nteje\\nmegjithate\\nju\\nnese\\nsaj\\nashtu\\nmë\\nmbasi\\nte\\nthene\\njo\\nditë\\nnuk\\ngjithe\\nshume\\nnje\\ntanë\\nmund\\naqsa\\nsot\\nkëto\\ntjera\\ntjetër\\ntjeter\\natë\\nkisha\\nmegjithatë\\nkëtij\\nnëse\\ndimë\\neshte\\nvazhdojmë\\nka\\nkam\\nkesi\\nje\\nvazhdojme\\nduke\\ndime\\nkinse\\npor\\nkane\\npika\\nkeni\\nbeje\\nky\\nparasysh\\napo\\ngjithë\\nme\\nata\\nçfarë\\njam\\njuve\\nkete\\na\\npra\\nqe\\ntash\\nnë\\nvetë\\nvec\\nas\\nndonese\\ntani\\npak\\ne\\nshumë\\nإذ\\nإذا\\nإذما\\nإذن\\nأف\\nأقل\\nأكثر\\nألا\\nإلا\\nالتي\\nالذي\\nالذين\\nاللاتي\\nاللائي\\nاللتان\\nاللتيا\\nاللتين\\nاللذان\\nاللذين\\nاللواتي\\nإلى\\nإليك\\nإليكم\\nإليكما\\nإليكن\\nأم\\nأما\\nأما\\nإما\\nأن\\nإن\\nإنا\\nأنا\\nأنت\\nأنتم\\nأنتما\\nأنتن\\nإنما\\nإنه\\nأنى\\nأنى\\nآه\\nآها\\nأو\\nأولاء\\nأولئك\\nأوه\\nآي\\nأي\\nأيها\\nإي\\nأين\\nأين\\nأينما\\nإيه\\nبخ\\nبس\\nبعد\\nبعض\\nبك\\nبكم\\nبكم\\nبكما\\nبكن\\nبل\\nبلى\\nبما\\nبماذا\\nبمن\\nبنا\\nبه\\nبها\\nبهم\\nبهما\\nبهن\\nبي\\nبين\\nبيد\\nتلك\\nتلكم\\nتلكما\\nته\\nتي\\nتين\\nتينك\\nثم\\nثمة\\nحاشا\\nحبذا\\nحتى\\nحيث\\nحيثما\\nحين\\nخلا\\nدون\\nذا\\nذات\\nذاك\\nذان\\nذانك\\nذلك\\nذلكم\\nذلكما\\nذلكن\\nذه\\nذو\\nذوا\\nذواتا\\nذواتي\\nذي\\nذين\\nذينك\\nريث\\nسوف\\nسوى\\nشتان\\nعدا\\nعسى\\nعل\\nعلى\\nعليك\\nعليه\\nعما\\nعن\\nعند\\nغير\\nفإذا\\nفإن\\nفلا\\nفمن\\nفي\\nفيم\\nفيما\\nفيه\\nفيها\\nقد\\nكأن\\nكأنما\\nكأي\\nكأين\\nكذا\\nكذلك\\nكل\\nكلا\\nكلاهما\\nكلتا\\nكلما\\nكليكما\\nكليهما\\nكم\\nكم\\nكما\\nكي\\nكيت\\nكيف\\nكيفما\\nلا\\nلاسيما\\nلدى\\nلست\\nلستم\\nلستما\\nلستن\\nلسن\\nلسنا\\nلعل\\nلك\\nلكم\\nلكما\\nلكن\\nلكنما\\nلكي\\nلكيلا\\nلم\\nلما\\nلن\\nلنا\\nله\\nلها\\nلهم\\nلهما\\nلهن\\nلو\\nلولا\\nلوما\\nلي\\nلئن\\nليت\\nليس\\nليسا\\nليست\\nليستا\\nليسوا\\nما\\nماذا\\nمتى\\nمذ\\nمع\\nمما\\nممن\\nمن\\nمنه\\nمنها\\nمنذ\\nمه\\nمهما\\nنحن\\nنحو\\nنعم\\nها\\nهاتان\\nهاته\\nهاتي\\nهاتين\\nهاك\\nهاهنا\\nهذا\\nهذان\\nهذه\\nهذي\\nهذين\\nهكذا\\nهل\\nهلا\\nهم\\nهما\\nهن\\nهنا\\nهناك\\nهنالك\\nهو\\nهؤلاء\\nهي\\nهيا\\nهيت\\nهيهات\\nوالذي\\nوالذين\\nوإذ\\nوإذا\\nوإن\\nولا\\nولكن\\nولو\\nوما\\nومن\\nوهو\\nيا\\nأبٌ\\nأخٌ\\nحمٌ\\nفو\\nأنتِ\\nيناير\\nفبراير\\nمارس\\nأبريل\\nمايو\\nيونيو\\nيوليو\\nأغسطس\\nسبتمبر\\nأكتوبر\\nنوفمبر\\nديسمبر\\nجانفي\\nفيفري\\nمارس\\nأفريل\\nماي\\nجوان\\nجويلية\\nأوت\\nكانون\\nشباط\\nآذار\\nنيسان\\nأيار\\nحزيران\\nتموز\\nآب\\nأيلول\\nتشرين\\nدولار\\nدينار\\nريال\\nدرهم\\nليرة\\nجنيه\\nقرش\\nمليم\\nفلس\\nهللة\\nسنتيم\\nيورو\\nين\\nيوان\\nشيكل\\nواحد\\nاثنان\\nثلاثة\\nأربعة\\nخمسة\\nستة\\nسبعة\\nثمانية\\nتسعة\\nعشرة\\nأحد\\nاثنا\\nاثني\\nإحدى\\nثلاث\\nأربع\\nخمس\\nست\\nسبع\\nثماني\\nتسع\\nعشر\\nثمان\\nسبت\\nأحد\\nاثنين\\nثلاثاء\\nأربعاء\\nخميس\\nجمعة\\nأول\\nثان\\nثاني\\nثالث\\nرابع\\nخامس\\nسادس\\nسابع\\nثامن\\nتاسع\\nعاشر\\nحادي\\nأ\\nب\\nت\\nث\\nج\\nح\\nخ\\nد\\nذ\\nر\\nز\\nس\\nش\\nص\\nض\\nط\\nظ\\nع\\nغ\\nف\\nق\\nك\\nل\\nم\\nن\\nه\\nو\\nي\\nء\\nى\\nآ\\nؤ\\nئ\\nأ\\nة\\nألف\\nباء\\nتاء\\nثاء\\nجيم\\nحاء\\nخاء\\nدال\\nذال\\nراء\\nزاي\\nسين\\nشين\\nصاد\\nضاد\\nطاء\\nظاء\\nعين\\nغين\\nفاء\\nقاف\\nكاف\\nلام\\nميم\\nنون\\nهاء\\nواو\\nياء\\nهمزة\\nي\\nنا\\nك\\nكن\\nه\\nإياه\\nإياها\\nإياهما\\nإياهم\\nإياهن\\nإياك\\nإياكما\\nإياكم\\nإياك\\nإياكن\\nإياي\\nإيانا\\nأولالك\\nتانِ\\nتانِك\\nتِه\\nتِي\\nتَيْنِ\\nثمّ\\nثمّة\\nذانِ\\nذِه\\nذِي\\nذَيْنِ\\nهَؤلاء\\nهَاتانِ\\nهَاتِه\\nهَاتِي\\nهَاتَيْنِ\\nهَذا\\nهَذانِ\\nهَذِه\\nهَذِي\\nهَذَيْنِ\\nالألى\\nالألاء\\nأل\\nأنّى\\nأيّ\\nّأيّان\\nأنّى\\nأيّ\\nّأيّان\\nذيت\\nكأيّ\\nكأيّن\\nبضع\\nفلان\\nوا\\nآمينَ\\nآهِ\\nآهٍ\\nآهاً\\nأُفٍّ\\nأُفٍّ\\nأفٍّ\\nأمامك\\nأمامكَ\\nأوّهْ\\nإلَيْكَ\\nإلَيْكَ\\nإليكَ\\nإليكنّ\\nإيهٍ\\nبخٍ\\nبسّ\\nبَسْ\\nبطآن\\nبَلْهَ\\nحاي\\nحَذارِ\\nحيَّ\\nحيَّ\\nدونك\\nرويدك\\nسرعان\\nشتانَ\\nشَتَّانَ\\nصهْ\\nصهٍ\\nطاق\\nطَق\\nعَدَسْ\\nكِخ\\nمكانَك\\nمكانَك\\nمكانَك\\nمكانكم\\nمكانكما\\nمكانكنّ\\nنَخْ\\nهاكَ\\nهَجْ\\nهلم\\nهيّا\\nهَيْهات\\nوا\\nواهاً\\nوراءَك\\nوُشْكَانَ\\nوَيْ\\nيفعلان\\nتفعلان\\nيفعلون\\nتفعلون\\nتفعلين\\nاتخذ\\nألفى\\nتخذ\\nترك\\nتعلَّم\\nجعل\\nحجا\\nحبيب\\nخال\\nحسب\\nخال\\nدرى\\nرأى\\nزعم\\nصبر\\nظنَّ\\nعدَّ\\nعلم\\nغادر\\nذهب\\nوجد\\nورد\\nوهب\\nأسكن\\nأطعم\\nأعطى\\nرزق\\nزود\\nسقى\\nكسا\\nأخبر\\nأرى\\nأعلم\\nأنبأ\\nحدَث\\nخبَّر\\nنبَّا\\nأفعل به\\nما أفعله\\nبئس\\nساء\\nطالما\\nقلما\\nلات\\nلكنَّ\\nءَ\\nأجل\\nإذاً\\nأمّا\\nإمّا\\nإنَّ\\nأنًّ\\nأى\\nإى\\nأيا\\nب\\nثمَّ\\nجلل\\nجير\\nرُبَّ\\nس\\nعلًّ\\nف\\nكأنّ\\nكلَّا\\nكى\\nل\\nلات\\nلعلَّ\\nلكنَّ\\nلكنَّ\\nم\\nنَّ\\nهلّا\\nوا\\nأل\\nإلّا\\nت\\nك\\nلمّا\\nن\\nه\\nو\\nا\\nي\\nتجاه\\nتلقاء\\nجميع\\nحسب\\nسبحان\\nشبه\\nلعمر\\nمثل\\nمعاذ\\nأبو\\nأخو\\nحمو\\nفو\\nمئة\\nمئتان\\nثلاثمئة\\nأربعمئة\\nخمسمئة\\nستمئة\\nسبعمئة\\nثمنمئة\\nتسعمئة\\nمائة\\nثلاثمائة\\nأربعمائة\\nخمسمائة\\nستمائة\\nسبعمائة\\nثمانمئة\\nتسعمائة\\nعشرون\\nثلاثون\\nاربعون\\nخمسون\\nستون\\nسبعون\\nثمانون\\nتسعون\\nعشرين\\nثلاثين\\nاربعين\\nخمسين\\nستين\\nسبعين\\nثمانين\\nتسعين\\nبضع\\nنيف\\nأجمع\\nجميع\\nعامة\\nعين\\nنفس\\nلا سيما\\nأصلا\\nأهلا\\nأيضا\\nبؤسا\\nبعدا\\nبغتة\\nتعسا\\nحقا\\nحمدا\\nخلافا\\nخاصة\\nدواليك\\nسحقا\\nسرا\\nسمعا\\nصبرا\\nصدقا\\nصراحة\\nطرا\\nعجبا\\nعيانا\\nغالبا\\nفرادى\\nفضلا\\nقاطبة\\nكثيرا\\nلبيك\\nمعاذ\\nأبدا\\nإزاء\\nأصلا\\nالآن\\nأمد\\nأمس\\nآنفا\\nآناء\\nأنّى\\nأول\\nأيّان\\nتارة\\nثمّ\\nثمّة\\nحقا\\nصباح\\nمساء\\nضحوة\\nعوض\\nغدا\\nغداة\\nقطّ\\nكلّما\\nلدن\\nلمّا\\nمرّة\\nقبل\\nخلف\\nأمام\\nفوق\\nتحت\\nيمين\\nشمال\\nارتدّ\\nاستحال\\nأصبح\\nأضحى\\nآض\\nأمسى\\nانقلب\\nبات\\nتبدّل\\nتحوّل\\nحار\\nرجع\\nراح\\nصار\\nظلّ\\nعاد\\nغدا\\nكان\\nما انفك\\nما برح\\nمادام\\nمازال\\nمافتئ\\nابتدأ\\nأخذ\\nاخلولق\\nأقبل\\nانبرى\\nأنشأ\\nأوشك\\nجعل\\nحرى\\nشرع\\nطفق\\nعلق\\nقام\\nكرب\\nكاد\\nهبّa\\nad\\naltı\\naltmış\\namma\\narasında\\nartıq\\nay\\naz\\nbax\\nbelə\\nbəli\\nbəlkə\\nbeş\\nbəy\\nbəzən\\nbəzi\\nbilər\\nbir\\nbiraz\\nbiri\\nbirşey\\nbiz\\nbizim\\nbizlər\\nbu\\nbuna\\nbundan\\nbunların\\nbunu\\nbunun\\nburadan\\nbütün\\nci\\ncı\\nçox\\ncu\\ncü\\nçünki\\nda\\ndaha\\ndə\\ndedi\\ndək\\ndən\\ndəqiqə\\ndeyil\\ndir\\ndoqquz\\ndoqsan\\ndörd\\ndüz\\nə\\nedən\\nedir\\nəgər\\nəlbəttə\\nelə\\nəlli\\nən\\nəslində\\net\\netdi\\netmə\\netmək\\nfaiz\\ngilə\\ngörə\\nha\\nhaqqında\\nharada\\nhə\\nheç\\nhəm\\nhəmin\\nhəmişə\\nhər\\nı\\nidi\\niki\\nil\\nildə\\nilə\\nilk\\nin\\nindi\\nisə\\nistifadə\\niyirmi\\nki\\nkim\\nkimə\\nkimi\\nlakin\\nlap\\nməhz\\nmən\\nmənə\\nmirşey\\nnə\\nnəhayət\\nniyə\\no\\nobirisi\\nof\\nolan\\nolar\\nolaraq\\noldu\\nolduğu\\nolmadı\\nolmaz\\nolmuşdur\\nolsun\\nolur\\non\\nona\\nondan\\nonlar\\nonlardan\\nonların \\nonsuzda\\nonu\\nonun\\noradan\\notuz\\nöz\\nözü\\nqarşı\\nqədər\\nqırx\\nsaat\\nsadəcə\\nsaniyə\\nsəhv\\nsəkkiz\\nsəksən\\nsən\\nsənə\\nsənin\\nsiz\\nsizin\\nsizlər\\nsonra\\ntəəssüf\\nü\\nüç\\nüçün\\nvar\\nvə\\nxan\\nxanım\\nxeyr\\nya\\nyalnız\\nyaxşı\\nyeddi\\nyenə\\nyəni\\nyetmiş\\nyox\\nyoxdur\\nyoxsa\\nyüz\\nzamanahala\\naitzitik\\nal\\nala \\nalabadere\\nalabaina\\nalabaina\\naldiz \\nalta\\namaitu\\namaitzeko\\nanitz\\nantzina\\narabera\\narabera\\narabera\\nargi\\narratsaldero\\narte\\nartean\\nasko\\naspaldiko\\naurrera\\naurrera\\nazkenez\\nazkenik\\nazkenik\\nba\\nbada\\nbada \\nbada \\nbada \\nbadarik\\nbadarik\\nbadarik \\nbadere\\nbai\\nbaina\\nbaina\\nbaina \\nbaino\\nbaino\\nbaino\\nbaino\\nbaita\\nbaizik \\nbaldin\\nbaldin\\nbarren\\nbat\\nbatean\\nbatean\\nbatean\\nbatean\\nbatek\\nbaten\\nbatera\\nbatez\\nbati\\nbatzuei\\nbatzuek\\nbatzuetan\\nbatzuk\\nbazen\\nbederen\\nbederik\\nbeharrez\\nbehiala\\nbehin\\nbehin\\nbehin\\nbehin\\nbehinik\\nbehinola\\nbehintzat\\nbera\\nberaiek\\nberanduago\\nberau\\nberauek\\nberaz\\nberaz \\nbere\\nberean\\nberebat\\nberehala\\nberori\\nberoriek\\nberriro\\nberriz\\nbertzalde\\nbertzenaz\\nbestalde\\nbeste\\nbestela\\nbesterik\\nbezain\\nbezala\\nbide\\nbien\\nbigarrenez\\nbigarrenik\\nbitartean\\nbitartean\\nbizkitartean\\nbukaeran\\nbukatzeko \\nda\\ndago\\ndago\\ndela\\ndela\\ndela\\ndelarik\\nden\\ndena\\ndena\\ndezadan\\ndira\\nditu\\ndu\\ndute\\nedo\\nedo \\nedota \\negin\\negin\\negun\\negun\\negunean\\nemateko\\nera\\nerdi\\nere\\nere\\nere\\nere\\nere \\nesan\\nesan\\nesanak\\nesandakoaren\\neta\\neta\\neta\\neta\\neta \\neta \\neurak\\nez\\nez \\nez \\neze \\nezen\\nezer\\nezezik\\nezik\\nezpabere \\nezpada \\nezpere\\nezperen \\nezta\\nfuntsean\\ngabe\\ngain\\ngainera \\ngainera \\t\\ngainerontzean \\ngaur\\ngero\\ngero\\ngero\\ngeroago\\ngisa\\ngu\\ngutxi\\nguzti\\nguztia\\nguztiz \\nhaatik\\nhaiei\\nhaiek\\nhaietan\\nhain\\nhainbeste\\nhainbestez \\nhala\\nhala\\nhala\\nhalaber\\nhalako\\nhalatan\\nhan\\nhandik\\nhango\\nhara\\nhargatik\\nhari\\nhark\\nhartan\\nhartan\\nhasi\\nhasi\\nhasiera\\nhasieran\\nhasteaz\\nhasteko\\nhasteko\\nhau\\nhau\\nhau\\nhau\\nhau\\nhau\\nhauei\\nhauek\\nhauetan\\nhemen\\nhemendik\\nhemengo\\nhi\\nhona\\nhonebestez\\nhonek\\nhonela\\nhonela\\nhonela\\nhonen\\nhonen\\nhonetan\\nhonetaz\\nhoni\\nhor\\nhori\\nhori\\nhori\\nhoriei\\nhoriek\\nhorietan\\nhorko\\nhorra \\t\\nhorratik\\nhorregatik\\nhorregatik\\nhorrek\\nhorrela\\nhorrela\\nhorrela\\nhorren\\nhorrenbestez\\nhorretan\\nhorri\\nhortaz\\nhortaz\\nhortik\\nhura\\nikusi\\nikusi\\nizan\\nizan\\nizan\\njarraituz\\nkariaz\\nkasuaz\\nkontuan\\nlaburbilduz\\nlaburki\\nlaster\\nlaster\\nlehen\\nlehen\\nlehen\\nlehen\\nlehenengo\\nlehenengo\\nlehenik\\nlehen-lehenik\\nlitzateke\\nmedio\\nmendean\\nmundura\\nnahiz\\nni\\nnoiz\\nnola\\nnon\\nnondik\\nnongo\\nnor\\nnora\\non\\nondoren\\nondorio\\nondorioz\\nondorioz\\norain\\nordea \\norduan\\norduan\\norduan \\norduko\\nordura\\norobat\\nostean\\nostera\\nosterantzean \\npentsatuz\\nustez\\nze\\nzein\\nzein \\nzen\\nzen\\nzenbait\\nzenbat\\nzer\\nzeren\\nzergatik\\nzergatik\\nziren\\nzituen\\nzu\\nzuek\\nzuen\\nzuten\\nzuzen\\nна\\r\\nне\\r\\nшто\\r\\nпа\\r\\nда\\r\\nза\\r\\nяк\\r\\nдля\\r\\nгэта\\r\\nад\\r\\nяго\\r\\nаб\\r\\nён\\r\\nкалi\\r\\nякiя\\r\\nмы\\r\\nбольш\\r\\nтаксама\\r\\niх\\r\\nтолькi\\r\\nпра\\r\\nкаб\\r\\nгэтым\\r\\nтак\\r\\nале\\r\\nяшчэ\\r\\nтым\\r\\nякi\\r\\nяе\\r\\nпры\\r\\nцi\\r\\nяны\\r\\nцяпер\\r\\nтаму\\r\\nпасля\\r\\nкаля\\r\\nгэтага\\r\\nгодзе\\r\\nтыс\\r\\nтаго\\r\\nтут\\r\\nтысяч\\r\\nўжо\\r\\nдзе\\r\\nякая\\r\\nса\\r\\nяна\\r\\nгэты\\r\\nпад\\r\\nможна\\r\\nпаводле\\r\\nвельмi\\r\\nва\\r\\nто\\r\\nсёння\\r\\nможа\\r\\nўсё\\r\\nнас\\r\\nвось\\r\\nнават\\r\\nабо\\r\\nсёлета\\r\\nіх\\r\\nтой\\r\\nужо\\r\\nчым\\r\\nтое\\r\\nхто\\r\\nжа\\r\\nбез\\r\\nпраз\\r\\nмяне\\r\\nаднак\\r\\nбо\\r\\nмне\\r\\nтам\\r\\nадзiн\\r\\nдва\\r\\nсярод\\r\\nгэтай\\r\\nсябе\\r\\nкалі\\r\\nтолькі\\r\\nдарэчы\\r\\nмлн\\r\\nпадчас\\r\\nвы\\r\\nусё\\r\\nнашай\\r\\nякія\\r\\niм\\r\\nразам\\r\\nакрамя\\r\\nды\\r\\nякiх\\r\\nмае\\r\\nстала\\r\\nраней\\r\\nшмат\\r\\nамаль\\r\\nусе\\r\\nпершы\\r\\nпакуль\\r\\nнапрыклад\\r\\nтысячы\\r\\nўсе\\r\\nты\\r\\nякой\\r\\nраз\\r\\nсвае\\r\\niншых\\r\\nгэтыя\\r\\nтры\\r\\nяму\\r\\nякі\\r\\nсваю\\r\\nпамiж\\r\\nўсiх\\r\\nёй\\r\\nсваёй\\r\\nхоць\\r\\nнекалькi\\r\\nаднаго\\r\\nменавiта\\r\\nпроста\\r\\nпотым\\r\\nнi\\r\\nзаўсёды\\r\\nменш\\r\\nтады\\r\\nнам\\r\\nсвой\\r\\nякiм\\r\\nсвята\\r\\nтакiм\\r\\nперад\\r\\nвядома\\r\\nбы\\r\\nякое\\r\\nмая\\r\\nтых\\r\\nгэтых\\r\\nтакiя\\r\\nзараз\\r\\nадной\\r\\nадна\\r\\nадным\\r\\nякога\\r\\nдобра\\r\\nнад\\r\\nлетась\\r\\nсправа\\r\\nкожны\\r\\nсвайго\\r\\nсваiх\\r\\nнеабходна\\r\\nтакiх\\r\\nзноў\\r\\nмiльёнаў\\r\\nпрычым\\r\\niншыя\\r\\nднём\\r\\nмлрд\\r\\nсам\\r\\nці\\r\\nнашы\\r\\nсабе\\r\\nадразу\\r\\nусяго\\r\\nдвух\\r\\nтыя\\r\\nнашых\\r\\nякую\\r\\nчаго\\r\\nасаблiва\\r\\nсваiм\\r\\nпершым\\r\\nзгодна\\r\\nтакое\\r\\nнайбольш\\r\\nтакi\\r\\nдзве\\r\\nім\\r\\nвельмі\\r\\nнаша\\r\\nдзвюх\\r\\nну\\r\\nсваё\\r\\nпраўда\\r\\nвас\\r\\nтрох\\r\\nзусiм\\r\\nпяць\\r\\nнекаторыя\\r\\nдык\\r\\nкрыху\\r\\nчаму\\r\\nтакой\\r\\nмагчыма\\r\\nсапраўды\\r\\nтакая\\r\\nвам\\r\\nнешта\\r\\nусiх\\r\\nадно\\r\\nдалей\\r\\nзначыць\\r\\nчатыры\\r\\nсамых\\r\\nхутка\\r\\nсамы\\r\\nдзякуючы\\r\\nнаш\\r\\nчаста\\r\\nсамым\\r\\nпершай\\r\\nадзін\\r\\nсупраць\\r\\nяно\\r\\nдругi\\r\\nудзень\\r\\nнiчога\\r\\nмой\\r\\nпобач\\r\\nঅতএব\\nঅথচ\\nঅথবা\\nঅনুযায়ী\\nঅনেক\\nঅনেকে\\nঅনেকেই\\nঅন্তত\\nঅন্য\\nঅবধি\\nঅবশ্য\\nঅর্থাত\\nআই\\nআগামী\\nআগে\\nআগেই\\nআছে\\nআজ\\nআদ্যভাগে\\nআপনার\\nআপনি\\nআবার\\nআমরা\\nআমাকে\\nআমাদের\\nআমার\\nআমি\\nআর\\nআরও\\nই\\nইত্যাদি\\nইহা\\nউচিত\\nউত্তর\\nউনি\\nউপর\\nউপরে\\nএ\\nএঁদের\\nএঁরা\\nএই\\nএকই\\nএকটি\\nএকবার\\nএকে\\nএক্\\nএখন\\nএখনও\\nএখানে\\nএখানেই\\nএটা\\nএটাই\\nএটি\\nএত\\nএতটাই\\nএতে\\nএদের\\nএব\\nএবং\\nএবার\\nএমন\\nএমনকী\\nএমনি\\nএর\\nএরা\\nএল\\nএস\\nএসে\\nঐ\\nও\\nওঁদের\\nওঁর\\nওঁরা\\nওই\\nওকে\\nওখানে\\nওদের\\nওর\\nওরা\\nকখনও\\nকত\\nকবে\\nকমনে\\nকয়েক\\nকয়েকটি\\nকরছে\\nকরছেন\\nকরতে\\nকরবে\\nকরবেন\\nকরলে\\nকরলেন\\nকরা\\nকরাই\\nকরায়\\nকরার\\nকরি\\nকরিতে\\nকরিয়া\\nকরিয়ে\\nকরে\\nকরেই\\nকরেছিলেন\\nকরেছে\\nকরেছেন\\nকরেন\\nকাউকে\\nকাছ\\nকাছে\\nকাজ\\nকাজে\\nকারও\\nকারণ\\nকি\\nকিংবা\\nকিছু\\nকিছুই\\nকিন্তু\\nকী\\nকে\\nকেউ\\nকেউই\\nকেখা\\nকেন\\nকোটি\\nকোন\\nকোনও\\nকোনো\\nক্ষেত্রে\\nকয়েক\\nখুব\\nগিয়ে\\nগিয়েছে\\nগিয়ে\\nগুলি\\nগেছে\\nগেল\\nগেলে\\nগোটা\\nচলে\\nচান\\nচায়\\nচার\\nচালু\\nচেয়ে\\nচেষ্টা\\nছাড়া\\nছাড়াও\\nছিল\\nছিলেন\\nজন\\nজনকে\\nজনের\\nজন্য\\nজন্যওজে\\nজানতে\\nজানা\\nজানানো\\nজানায়\\nজানিয়ে\\nজানিয়েছে\\nজে\\nজ্নজন\\nটি\\nঠিক\\nতখন\\nতত\\nতথা\\nতবু\\nতবে\\nতা\\nতাঁকে\\nতাঁদের\\nতাঁর\\nতাঁরা\\nতাঁাহারা\\nতাই\\nতাও\\nতাকে\\nতাতে\\nতাদের\\nতার\\nতারপর\\nতারা\\nতারৈ\\nতাহলে\\nতাহা\\nতাহাতে\\nতাহার\\nতিনঐ\\nতিনি\\nতিনিও\\nতুমি\\nতুলে\\nতেমন\\nতো\\nতোমার\\nথাকবে\\nথাকবেন\\nথাকা\\nথাকায়\\nথাকে\\nথাকেন\\nথেকে\\nথেকেই\\nথেকেও\\nদিকে\\nদিতে\\nদিন\\nদিয়ে\\nদিয়েছে\\nদিয়েছেন\\nদিলেন\\nদু\\nদুই\\nদুটি\\nদুটো\\nদেওয়া\\nদেওয়ার\\nদেওয়া\\nদেখতে\\nদেখা\\nদেখে\\nদেন\\nদেয়\\nদ্বারা\\nধরা\\nধরে\\nধামার\\nনতুন\\nনয়\\nনা\\nনাই\\nনাকি\\nনাগাদ\\nনানা\\nনিজে\\nনিজেই\\nনিজেদের\\nনিজের\\nনিতে\\nনিয়ে\\nনিয়ে\\nনেই\\nনেওয়া\\nনেওয়ার\\nনেওয়া\\nনয়\\nপক্ষে\\nপর\\nপরে\\nপরেই\\nপরেও\\nপর্যন্ত\\nপাওয়া\\nপাচ\\nপারি\\nপারে\\nপারেন\\nপি\\nপেয়ে\\nপেয়্র্\\nপ্রতি\\nপ্রথম\\nপ্রভৃতি\\nপ্রযন্ত\\nপ্রাথমিক\\nপ্রায়\\nপ্রায়\\nফলে\\nফিরে\\nফের\\nবক্তব্য\\nবদলে\\nবন\\nবরং\\nবলতে\\nবলল\\nবললেন\\nবলা\\nবলে\\nবলেছেন\\nবলেন\\nবসে\\nবহু\\nবা\\nবাদে\\nবার\\nবি\\nবিনা\\nবিভিন্ন\\nবিশেষ\\nবিষয়টি\\nবেশ\\nবেশি\\nব্যবহার\\nব্যাপারে\\nভাবে\\nভাবেই\\nমতো\\nমতোই\\nমধ্যভাগে\\nমধ্যে\\nমধ্যেই\\nমধ্যেও\\nমনে\\nমাত্র\\nমাধ্যমে\\nমোট\\nমোটেই\\nযখন\\nযত\\nযতটা\\nযথেষ্ট\\nযদি\\nযদিও\\nযা\\nযাঁর\\nযাঁরা\\nযাওয়া\\nযাওয়ার\\nযাওয়া\\nযাকে\\nযাচ্ছে\\nযাতে\\nযাদের\\nযান\\nযাবে\\nযায়\\nযার\\nযারা\\nযিনি\\nযে\\nযেখানে\\nযেতে\\nযেন\\nযেমন\\nর\\nরকম\\nরয়েছে\\nরাখা\\nরেখে\\nলক্ষ\\nশুধু\\nশুরু\\nসঙ্গে\\nসঙ্গেও\\nসব\\nসবার\\nসমস্ত\\nসম্প্রতি\\nসহ\\nসহিত\\nসাধারণ\\nসামনে\\nসি\\nসুতরাং\\nসে\\nসেই\\nসেখান\\nসেখানে\\nসেটা\\nসেটাই\\nসেটাও\\nসেটি\\nস্পষ্ট\\nস্বয়ং\\nহইতে\\nহইবে\\nহইয়া\\nহওয়া\\nহওয়ায়\\nহওয়ার\\nহচ্ছে\\nহত\\nহতে\\nহতেই\\nহন\\nহবে\\nহবেন\\nহয়\\nহয়তো\\nহয়নি\\nহয়ে\\nহয়েই\\nহয়েছিল\\nহয়েছে\\nহয়েছেন\\nহল\\nহলে\\nহলেই\\nহলেও\\nহলো\\nহাজার\\nহিসাবে\\nহৈলে\\nহোক\\nহয়a\\nabans\\nací\\nah\\naixí\\naixò\\nal\\naleshores\\nalgun\\nalguna\\nalgunes\\nalguns\\nalhora\\nallà\\nallí\\nallò\\nals\\naltra\\naltre\\naltres\\namb\\nambdues\\nambdós\\nanar\\nans\\napa\\naquell\\naquella\\naquelles\\naquells\\naquest\\naquesta\\naquestes\\naquests\\naquí\\nbaix\\nbastant\\nbé\\ncada\\ncadascuna\\ncadascunes\\ncadascuns\\ncadascú\\ncom\\nconsegueixo\\nconseguim\\nconseguir\\nconsigueix\\nconsigueixen\\nconsigueixes\\ncontra\\nd'un\\nd'una\\nd'unes\\nd'uns\\ndalt\\nde\\ndel\\ndels\\ndes\\ndes de\\ndesprés\\ndins\\ndintre\\ndonat\\ndoncs\\ndurant\\ne\\neh\\nel\\nelles\\nells\\nels\\nem\\nen\\nencara\\nens\\nentre\\nera\\nerem\\neren\\neres\\nes\\nesta\\nestan\\nestat\\nestava\\nestaven\\nestem\\nesteu\\nestic\\nestà\\nestàvem\\nestàveu\\net\\netc\\nets\\nfa\\nfaig\\nfan\\nfas\\nfem\\nfer\\nfeu\\nfi\\nfins\\nfora\\ngairebé\\nha\\nhan\\nhas\\nhaver\\nhavia\\nhe\\nhem\\nheu\\nhi\\nho\\ni\\nigual\\niguals\\ninclòs\\nja\\njo\\nl'hi\\nla\\nles\\nli\\nli'n\\nllarg\\nllavors\\nm'he\\nma\\nmal\\nmalgrat\\nmateix\\nmateixa\\nmateixes\\nmateixos\\nme\\nmentre\\nmeu\\nmeus\\nmeva\\nmeves\\nmode\\nmolt\\nmolta\\nmoltes\\nmolts\\nmon\\nmons\\nmés\\nn'he\\nn'hi\\nne\\nni\\nno\\nnogensmenys\\nnomés\\nnosaltres\\nnostra\\nnostre\\nnostres\\no\\noh\\noi\\non\\npas\\npel\\npels\\nper\\nper que\\nperquè\\nperò\\npoc\\npoca\\npocs\\npodem\\npoden\\npoder\\npodeu\\npoques\\npotser\\nprimer\\npropi\\npuc\\nqual\\nquals\\nquan\\nquant\\nque\\nquelcom\\nqui\\nquin\\nquina\\nquines\\nquins\\nquè\\ns'ha\\ns'han\\nsa\\nsabem\\nsaben\\nsaber\\nsabeu\\nsap\\nsaps\\nsemblant\\nsemblants\\nsense\\nser\\nses\\nseu\\nseus\\nseva\\nseves\\nsi\\nsobre\\nsobretot\\nsoc\\nsolament\\nsols\\nsom\\nson\\nsons\\nsota\\nsou\\nsóc\\nsón\\nt'ha\\nt'han\\nt'he\\nta\\ntal\\ntambé\\ntampoc\\ntan\\ntant\\ntanta\\ntantes\\nte\\ntene\\ntenim\\ntenir\\nteniu\\nteu\\nteus\\nteva\\nteves\\ntinc\\nton\\ntons\\ntot\\ntota\\ntotes\\ntots\\nun\\nuna\\nunes\\nuns\\nus\\nva\\nvaig\\nvam\\nvan\\nvas\\nveu\\nvosaltres\\nvostra\\nvostre\\nvostres\\nérem\\néreu\\nés\\néssent\\núltim\\nús一\\n一下\\n一些\\n一切\\n一则\\n一天\\n一定\\n一方面\\n一旦\\n一时\\n一来\\n一样\\n一次\\n一片\\n一直\\n一致\\n一般\\n一起\\n一边\\n一面\\n万一\\n上下\\n上升\\n上去\\n上来\\n上述\\n上面\\n下列\\n下去\\n下来\\n下面\\n不一\\n不久\\n不仅\\n不会\\n不但\\n不光\\n不单\\n不变\\n不只\\n不可\\n不同\\n不够\\n不如\\n不得\\n不怕\\n不惟\\n不成\\n不拘\\n不敢\\n不断\\n不是\\n不比\\n不然\\n不特\\n不独\\n不管\\n不能\\n不要\\n不论\\n不足\\n不过\\n不问\\n与\\n与其\\n与否\\n与此同时\\n专门\\n且\\n两者\\n严格\\n严重\\n个\\n个人\\n个别\\n中小\\n中间\\n丰富\\n临\\n为\\n为主\\n为了\\n为什么\\n为什麽\\n为何\\n为着\\n主张\\n主要\\n举行\\n乃\\n乃至\\n么\\n之\\n之一\\n之前\\n之后\\n之後\\n之所以\\n之类\\n乌乎\\n乎\\n乘\\n也\\n也好\\n也是\\n也罢\\n了\\n了解\\n争取\\n于\\n于是\\n于是乎\\n云云\\n互相\\n产生\\n人们\\n人家\\n什么\\n什么样\\n什麽\\n今后\\n今天\\n今年\\n今後\\n仍然\\n从\\n从事\\n从而\\n他\\n他人\\n他们\\n他的\\n代替\\n以\\n以上\\n以下\\n以为\\n以便\\n以免\\n以前\\n以及\\n以后\\n以外\\n以後\\n以来\\n以至\\n以至于\\n以致\\n们\\n任\\n任何\\n任凭\\n任务\\n企图\\n伟大\\n似乎\\n似的\\n但\\n但是\\n何\\n何况\\n何处\\n何时\\n作为\\n你\\n你们\\n你的\\n使得\\n使用\\n例如\\n依\\n依照\\n依靠\\n促进\\n保持\\n俺\\n俺们\\n倘\\n倘使\\n倘或\\n倘然\\n倘若\\n假使\\n假如\\n假若\\n做到\\n像\\n允许\\n充分\\n先后\\n先後\\n先生\\n全部\\n全面\\n兮\\n共同\\n关于\\n其\\n其一\\n其中\\n其二\\n其他\\n其余\\n其它\\n其实\\n其次\\n具体\\n具体地说\\n具体说来\\n具有\\n再者\\n再说\\n冒\\n冲\\n决定\\n况且\\n准备\\n几\\n几乎\\n几时\\n凭\\n凭借\\n出去\\n出来\\n出现\\n分别\\n则\\n别\\n别的\\n别说\\n到\\n前后\\n前者\\n前进\\n前面\\n加之\\n加以\\n加入\\n加强\\n十分\\n即\\n即令\\n即使\\n即便\\n即或\\n即若\\n却不\\n原来\\n又\\n及\\n及其\\n及时\\n及至\\n双方\\n反之\\n反应\\n反映\\n反过来\\n反过来说\\n取得\\n受到\\n变成\\n另\\n另一方面\\n另外\\n只是\\n只有\\n只要\\n只限\\n叫\\n叫做\\n召开\\n叮咚\\n可\\n可以\\n可是\\n可能\\n可见\\n各\\n各个\\n各人\\n各位\\n各地\\n各种\\n各级\\n各自\\n合理\\n同\\n同一\\n同时\\n同样\\n后来\\n后面\\n向\\n向着\\n吓\\n吗\\n否则\\n吧\\n吧哒\\n吱\\n呀\\n呃\\n呕\\n呗\\n呜\\n呜呼\\n呢\\n周围\\n呵\\n呸\\n呼哧\\n咋\\n和\\n咚\\n咦\\n咱\\n咱们\\n咳\\n哇\\n哈\\n哈哈\\n哉\\n哎\\n哎呀\\n哎哟\\n哗\\n哟\\n哦\\n哩\\n哪\\n哪个\\n哪些\\n哪儿\\n哪天\\n哪年\\n哪怕\\n哪样\\n哪边\\n哪里\\n哼\\n哼唷\\n唉\\n啊\\n啐\\n啥\\n啦\\n啪达\\n喂\\n喏\\n喔唷\\n嗡嗡\\n嗬\\n嗯\\n嗳\\n嘎\\n嘎登\\n嘘\\n嘛\\n嘻\\n嘿\\n因\\n因为\\n因此\\n因而\\n固然\\n在\\n在下\\n地\\n坚决\\n坚持\\n基本\\n处理\\n复杂\\n多\\n多少\\n多数\\n多次\\n大力\\n大多数\\n大大\\n大家\\n大批\\n大约\\n大量\\n失去\\n她\\n她们\\n她的\\n好的\\n好象\\n如\\n如上所述\\n如下\\n如何\\n如其\\n如果\\n如此\\n如若\\n存在\\n宁\\n宁可\\n宁愿\\n宁肯\\n它\\n它们\\n它们的\\n它的\\n安全\\n完全\\n完成\\n实现\\n实际\\n宣布\\n容易\\n密切\\n对\\n对于\\n对应\\n将\\n少数\\n尔后\\n尚且\\n尤其\\n就\\n就是\\n就是说\\n尽\\n尽管\\n属于\\n岂但\\n左右\\n巨大\\n巩固\\n己\\n已经\\n帮助\\n常常\\n并\\n并不\\n并不是\\n并且\\n并没有\\n广大\\n广泛\\n应当\\n应用\\n应该\\n开外\\n开始\\n开展\\n引起\\n强烈\\n强调\\n归\\n当\\n当前\\n当时\\n当然\\n当着\\n形成\\n彻底\\n彼\\n彼此\\n往\\n往往\\n待\\n後来\\n後面\\n得\\n得出\\n得到\\n心里\\n必然\\n必要\\n必须\\n怎\\n怎么\\n怎么办\\n怎么样\\n怎样\\n怎麽\\n总之\\n总是\\n总的来看\\n总的来说\\n总的说来\\n总结\\n总而言之\\n恰恰相反\\n您\\n意思\\n愿意\\n慢说\\n成为\\n我\\n我们\\n我的\\n或\\n或是\\n或者\\n战斗\\n所\\n所以\\n所有\\n所谓\\n打\\n扩大\\n把\\n抑或\\n拿\\n按\\n按照\\n换句话说\\n换言之\\n据\\n掌握\\n接着\\n接著\\n故\\n故此\\n整个\\n方便\\n方面\\n旁人\\n无宁\\n无法\\n无论\\n既\\n既是\\n既然\\n时候\\n明显\\n明确\\n是\\n是否\\n是的\\n显然\\n显著\\n普通\\n普遍\\n更加\\n曾经\\n替\\n最后\\n最大\\n最好\\n最後\\n最近\\n最高\\n有\\n有些\\n有关\\n有利\\n有力\\n有所\\n有效\\n有时\\n有点\\n有的\\n有着\\n有著\\n望\\n朝\\n朝着\\n本\\n本着\\n来\\n来着\\n极了\\n构成\\n果然\\n果真\\n某\\n某个\\n某些\\n根据\\n根本\\n欢迎\\n正在\\n正如\\n正常\\n此\\n此外\\n此时\\n此间\\n毋宁\\n每\\n每个\\n每天\\n每年\\n每当\\n比\\n比如\\n比方\\n比较\\n毫不\\n没有\\n沿\\n沿着\\n注意\\n深入\\n清楚\\n满足\\n漫说\\n焉\\n然则\\n然后\\n然後\\n然而\\n照\\n照着\\n特别是\\n特殊\\n特点\\n现代\\n现在\\n甚么\\n甚而\\n甚至\\n用\\n由\\n由于\\n由此可见\\n的\\n的话\\n目前\\n直到\\n直接\\n相似\\n相信\\n相反\\n相同\\n相对\\n相对而言\\n相应\\n相当\\n相等\\n省得\\n看出\\n看到\\n看来\\n看看\\n看见\\n真是\\n真正\\n着\\n着呢\\n矣\\n知道\\n确定\\n离\\n积极\\n移动\\n突出\\n突然\\n立即\\n第\\n等\\n等等\\n管\\n紧接着\\n纵\\n纵令\\n纵使\\n纵然\\n练习\\n组成\\n经\\n经常\\n经过\\n结合\\n结果\\n给\\n绝对\\n继续\\n继而\\n维持\\n综上所述\\n罢了\\n考虑\\n者\\n而\\n而且\\n而况\\n而外\\n而已\\n而是\\n而言\\n联系\\n能\\n能否\\n能够\\n腾\\n自\\n自个儿\\n自从\\n自各儿\\n自家\\n自己\\n自身\\n至\\n至于\\n良好\\n若\\n若是\\n若非\\n范围\\n莫若\\n获得\\n虽\\n虽则\\n虽然\\n虽说\\n行为\\n行动\\n表明\\n表示\\n被\\n要\\n要不\\n要不是\\n要不然\\n要么\\n要是\\n要求\\n规定\\n觉得\\n认为\\n认真\\n认识\\n让\\n许多\\n论\\n设使\\n设若\\n该\\n说明\\n诸位\\n谁\\n谁知\\n赶\\n起\\n起来\\n起见\\n趁\\n趁着\\n越是\\n跟\\n转动\\n转变\\n转贴\\n较\\n较之\\n边\\n达到\\n迅速\\n过\\n过去\\n过来\\n运用\\n还是\\n还有\\n这\\n这个\\n这么\\n这么些\\n这么样\\n这么点儿\\n这些\\n这会儿\\n这儿\\n这就是说\\n这时\\n这样\\n这点\\n这种\\n这边\\n这里\\n这麽\\n进入\\n进步\\n进而\\n进行\\n连\\n连同\\n适应\\n适当\\n适用\\n逐步\\n逐渐\\n通常\\n通过\\n造成\\n遇到\\n遭到\\n避免\\n那\\n那个\\n那么\\n那么些\\n那么样\\n那些\\n那会儿\\n那儿\\n那时\\n那样\\n那边\\n那里\\n那麽\\n部分\\n鄙人\\n采取\\n里面\\n重大\\n重新\\n重要\\n鉴于\\n问题\\n防止\\n阿\\n附近\\n限制\\n除\\n除了\\n除此之外\\n除非\\n随\\n随着\\n随著\\n集中\\n需要\\n非但\\n非常\\n非徒\\n靠\\n顺\\n顺着\\n首先\\n高兴\\n是不是\\nog\\ni\\njeg\\ndet\\nat\\nen\\nden\\ntil\\ner\\nsom\\npå\\nde\\nmed\\nhan\\naf\\nfor\\nikke\\nder\\nvar\\nmig\\nsig\\nmen\\net\\nhar\\nom\\nvi\\nmin\\nhavde\\nham\\nhun\\nnu\\nover\\nda\\nfra\\ndu\\nud\\nsin\\ndem\\nos\\nop\\nman\\nhans\\nhvor\\neller\\nhvad\\nskal\\nselv\\nher\\nalle\\nvil\\nblev\\nkunne\\nind\\nnår\\nvære\\ndog\\nnoget\\nville\\njo\\nderes\\nefter\\nned\\nskulle\\ndenne\\nend\\ndette\\nmit\\nogså\\nunder\\nhave\\ndig\\nanden\\nhende\\nmine\\nalt\\nmeget\\nsit\\nsine\\nvor\\nmod\\ndisse\\nhvis\\ndin\\nnogle\\nhos\\nblive\\nmange\\nad\\nbliver\\nhendes\\nværet\\nthi\\njer\\nsådan\\nde\\nen\\nvan\\nik\\nte\\ndat\\ndie\\nin\\neen\\nhij\\nhet\\nniet\\nzijn\\nis\\nwas\\nop\\naan\\nmet\\nals\\nvoor\\nhad\\ner\\nmaar\\nom\\nhem\\ndan\\nzou\\nof\\nwat\\nmijn\\nmen\\ndit\\nzo\\ndoor\\nover\\nze\\nzich\\nbij\\nook\\ntot\\nje\\nmij\\nuit\\nder\\ndaar\\nhaar\\nnaar\\nheb\\nhoe\\nheeft\\nhebben\\ndeze\\nu\\nwant\\nnog\\nzal\\nme\\nzij\\nnu\\nge\\ngeen\\nomdat\\niets\\nworden\\ntoch\\nal\\nwaren\\nveel\\nmeer\\ndoen\\ntoen\\nmoet\\nben\\nzonder\\nkan\\nhun\\ndus\\nalles\\nonder\\nja\\neens\\nhier\\nwie\\nwerd\\naltijd\\ndoch\\nwordt\\nwezen\\nkunnen\\nons\\nzelf\\ntegen\\nna\\nreeds\\nwil\\nkon\\nniets\\nuw\\niemand\\ngeweest\\nandere\\na\\nabout\\nabove\\nafter\\nagain\\nagainst\\nain\\nall\\nam\\nan\\nand\\nany\\nare\\naren\\naren't\\nas\\nat\\nbe\\nbecause\\nbeen\\nbefore\\nbeing\\nbelow\\nbetween\\nboth\\nbut\\nby\\ncan\\ncouldn\\ncouldn't\\nd\\ndid\\ndidn\\ndidn't\\ndo\\ndoes\\ndoesn\\ndoesn't\\ndoing\\ndon\\ndon't\\ndown\\nduring\\neach\\nfew\\nfor\\nfrom\\nfurther\\nhad\\nhadn\\nhadn't\\nhas\\nhasn\\nhasn't\\nhave\\nhaven\\nhaven't\\nhaving\\nhe\\nhe'd\\nhe'll\\nher\\nhere\\nhers\\nherself\\nhe's\\nhim\\nhimself\\nhis\\nhow\\ni\\ni'd\\nif\\ni'll\\ni'm\\nin\\ninto\\nis\\nisn\\nisn't\\nit\\nit'd\\nit'll\\nit's\\nits\\nitself\\ni've\\njust\\nll\\nm\\nma\\nme\\nmightn\\nmightn't\\nmore\\nmost\\nmustn\\nmustn't\\nmy\\nmyself\\nneedn\\nneedn't\\nno\\nnor\\nnot\\nnow\\no\\nof\\noff\\non\\nonce\\nonly\\nor\\nother\\nour\\nours\\nourselves\\nout\\nover\\nown\\nre\\ns\\nsame\\nshan\\nshan't\\nshe\\nshe'd\\nshe'll\\nshe's\\nshould\\nshouldn\\nshouldn't\\nshould've\\nso\\nsome\\nsuch\\nt\\nthan\\nthat\\nthat'll\\nthe\\ntheir\\ntheirs\\nthem\\nthemselves\\nthen\\nthere\\nthese\\nthey\\nthey'd\\nthey'll\\nthey're\\nthey've\\nthis\\nthose\\nthrough\\nto\\ntoo\\nunder\\nuntil\\nup\\nve\\nvery\\nwas\\nwasn\\nwasn't\\nwe\\nwe'd\\nwe'll\\nwe're\\nwere\\nweren\\nweren't\\nwe've\\nwhat\\nwhen\\nwhere\\nwhich\\nwhile\\nwho\\nwhom\\nwhy\\nwill\\nwith\\nwon\\nwon't\\nwouldn\\nwouldn't\\ny\\nyou\\nyou'd\\nyou'll\\nyour\\nyou're\\nyours\\nyourself\\nyourselves\\nyou've\\nolla\\nolen\\nolet\\non\\nolemme\\nolette\\novat\\nole\\noli\\nolisi\\nolisit\\nolisin\\nolisimme\\nolisitte\\nolisivat\\nolit\\nolin\\nolimme\\nolitte\\nolivat\\nollut\\nolleet\\nen\\net\\nei\\nemme\\nette\\neivät\\nminä\\nminun\\nminut\\nminua\\nminussa\\nminusta\\nminuun\\nminulla\\nminulta\\nminulle\\nsinä\\nsinun\\nsinut\\nsinua\\nsinussa\\nsinusta\\nsinuun\\nsinulla\\nsinulta\\nsinulle\\nhän\\nhänen\\nhänet\\nhäntä\\nhänessä\\nhänestä\\nhäneen\\nhänellä\\nhäneltä\\nhänelle\\nme\\nmeidän\\nmeidät\\nmeitä\\nmeissä\\nmeistä\\nmeihin\\nmeillä\\nmeiltä\\nmeille\\nte\\nteidän\\nteidät\\nteitä\\nteissä\\nteistä\\nteihin\\nteillä\\nteiltä\\nteille\\nhe\\nheidän\\nheidät\\nheitä\\nheissä\\nheistä\\nheihin\\nheillä\\nheiltä\\nheille\\ntämä\\ntämän\\ntätä\\ntässä\\ntästä\\ntähän\\ntallä\\ntältä\\ntälle\\ntänä\\ntäksi\\ntuo\\ntuon\\ntuotä\\ntuossa\\ntuosta\\ntuohon\\ntuolla\\ntuolta\\ntuolle\\ntuona\\ntuoksi\\nse\\nsen\\nsitä\\nsiinä\\nsiitä\\nsiihen\\nsillä\\nsiltä\\nsille\\nsinä\\nsiksi\\nnämä\\nnäiden\\nnäitä\\nnäissä\\nnäistä\\nnäihin\\nnäillä\\nnäiltä\\nnäille\\nnäinä\\nnäiksi\\nnuo\\nnoiden\\nnoita\\nnoissa\\nnoista\\nnoihin\\nnoilla\\nnoilta\\nnoille\\nnoina\\nnoiksi\\nne\\nniiden\\nniitä\\nniissä\\nniistä\\nniihin\\nniillä\\nniiltä\\nniille\\nniinä\\nniiksi\\nkuka\\nkenen\\nkenet\\nketä\\nkenessä\\nkenestä\\nkeneen\\nkenellä\\nkeneltä\\nkenelle\\nkenenä\\nkeneksi\\nketkä\\nkeiden\\nketkä\\nkeitä\\nkeissä\\nkeistä\\nkeihin\\nkeillä\\nkeiltä\\nkeille\\nkeinä\\nkeiksi\\nmikä\\nminkä\\nminkä\\nmitä\\nmissä\\nmistä\\nmihin\\nmillä\\nmiltä\\nmille\\nminä\\nmiksi\\nmitkä\\njoka\\njonka\\njota\\njossa\\njosta\\njohon\\njolla\\njolta\\njolle\\njona\\njoksi\\njotka\\njoiden\\njoita\\njoissa\\njoista\\njoihin\\njoilla\\njoilta\\njoille\\njoina\\njoiksi\\nettä\\nja\\njos\\nkoska\\nkuin\\nmutta\\nniin\\nsekä\\nsillä\\ntai\\nvaan\\nvai\\nvaikka\\nkanssa\\nmukaan\\nnoin\\npoikki\\nyli\\nkun\\nniin\\nnyt\\nitse\\nau\\naux\\navec\\nce\\nces\\ndans\\nde\\ndes\\ndu\\nelle\\nen\\net\\neux\\nil\\nils\\nje\\nla\\nle\\nles\\nleur\\nlui\\nma\\nmais\\nme\\nmême\\nmes\\nmoi\\nmon\\nne\\nnos\\nnotre\\nnous\\non\\nou\\npar\\npas\\npour\\nqu\\nque\\nqui\\nsa\\nse\\nses\\nson\\nsur\\nta\\nte\\ntes\\ntoi\\nton\\ntu\\nun\\nune\\nvos\\nvotre\\nvous\\nc\\nd\\nj\\nl\\nà\\nm\\nn\\ns\\nt\\ny\\nété\\nétée\\nétées\\nétés\\nétant\\nétante\\nétants\\nétantes\\nsuis\\nes\\nest\\nsommes\\nêtes\\nsont\\nserai\\nseras\\nsera\\nserons\\nserez\\nseront\\nserais\\nserait\\nserions\\nseriez\\nseraient\\nétais\\nétait\\nétions\\nétiez\\nétaient\\nfus\\nfut\\nfûmes\\nfûtes\\nfurent\\nsois\\nsoit\\nsoyons\\nsoyez\\nsoient\\nfusse\\nfusses\\nfût\\nfussions\\nfussiez\\nfussent\\nayant\\nayante\\nayantes\\nayants\\neu\\neue\\neues\\neus\\nai\\nas\\navons\\navez\\nont\\naurai\\nauras\\naura\\naurons\\naurez\\nauront\\naurais\\naurait\\naurions\\nauriez\\nauraient\\navais\\navait\\navions\\naviez\\navaient\\neut\\neûmes\\neûtes\\neurent\\naie\\naies\\nait\\nayons\\nayez\\naient\\neusse\\neusses\\neût\\neussions\\neussiez\\neussent\\naber\\nalle\\nallem\\nallen\\naller\\nalles\\nals\\nalso\\nam\\nan\\nander\\nandere\\nanderem\\nanderen\\nanderer\\nanderes\\nanderm\\nandern\\nanderr\\nanders\\nauch\\nauf\\naus\\nbei\\nbin\\nbis\\nbist\\nda\\ndamit\\ndann\\nder\\nden\\ndes\\ndem\\ndie\\ndas\\ndass\\ndaß\\nderselbe\\nderselben\\ndenselben\\ndesselben\\ndemselben\\ndieselbe\\ndieselben\\ndasselbe\\ndazu\\ndein\\ndeine\\ndeinem\\ndeinen\\ndeiner\\ndeines\\ndenn\\nderer\\ndessen\\ndich\\ndir\\ndu\\ndies\\ndiese\\ndiesem\\ndiesen\\ndieser\\ndieses\\ndoch\\ndort\\ndurch\\nein\\neine\\neinem\\neinen\\neiner\\neines\\neinig\\neinige\\neinigem\\neinigen\\neiniger\\neiniges\\neinmal\\ner\\nihn\\nihm\\nes\\netwas\\neuer\\neure\\neurem\\neuren\\neurer\\neures\\nfür\\ngegen\\ngewesen\\nhab\\nhabe\\nhaben\\nhat\\nhatte\\nhatten\\nhier\\nhin\\nhinter\\nich\\nmich\\nmir\\nihr\\nihre\\nihrem\\nihren\\nihrer\\nihres\\neuch\\nim\\nin\\nindem\\nins\\nist\\njede\\njedem\\njeden\\njeder\\njedes\\njene\\njenem\\njenen\\njener\\njenes\\njetzt\\nkann\\nkein\\nkeine\\nkeinem\\nkeinen\\nkeiner\\nkeines\\nkönnen\\nkönnte\\nmachen\\nman\\nmanche\\nmanchem\\nmanchen\\nmancher\\nmanches\\nmein\\nmeine\\nmeinem\\nmeinen\\nmeiner\\nmeines\\nmit\\nmuss\\nmusste\\nnach\\nnicht\\nnichts\\nnoch\\nnun\\nnur\\nob\\noder\\nohne\\nsehr\\nsein\\nseine\\nseinem\\nseinen\\nseiner\\nseines\\nselbst\\nsich\\nsie\\nihnen\\nsind\\nso\\nsolche\\nsolchem\\nsolchen\\nsolcher\\nsolches\\nsoll\\nsollte\\nsondern\\nsonst\\nüber\\num\\nund\\nuns\\nunsere\\nunserem\\nunseren\\nunser\\nunseres\\nunter\\nviel\\nvom\\nvon\\nvor\\nwährend\\nwar\\nwaren\\nwarst\\nwas\\nweg\\nweil\\nweiter\\nwelche\\nwelchem\\nwelchen\\nwelcher\\nwelches\\nwenn\\nwerde\\nwerden\\nwie\\nwieder\\nwill\\nwir\\nwird\\nwirst\\nwo\\nwollen\\nwollte\\nwürde\\nwürden\\nzu\\nzum\\nzur\\nzwar\\nzwischen\\nαλλα\\nαν\\nαντι\\nαπο\\nαυτα\\nαυτεσ\\nαυτη\\nαυτο\\nαυτοι\\nαυτοσ\\nαυτουσ\\nαυτων\\nαἱ\\nαἳ\\nαἵ\\nαὐτόσ\\nαὐτὸς\\nαὖ\\nγάρ\\nγα\\nγα^\\nγε\\nγια\\nγοῦν\\nγὰρ\\nδ'\\nδέ\\nδή\\nδαί\\nδαίσ\\nδαὶ\\nδαὶς\\nδε\\nδεν\\nδι'\\nδιά\\nδιὰ\\nδὲ\\nδὴ\\nδ’\\nεαν\\nειμαι\\nειμαστε\\nειναι\\nεισαι\\nειστε\\nεκεινα\\nεκεινεσ\\nεκεινη\\nεκεινο\\nεκεινοι\\nεκεινοσ\\nεκεινουσ\\nεκεινων\\nενω\\nεπ\\nεπι\\nεἰ\\nεἰμί\\nεἰμὶ\\nεἰς\\nεἰσ\\nεἴ\\nεἴμι\\nεἴτε\\nη\\nθα\\nισωσ\\nκ\\nκαί\\nκαίτοι\\nκαθ\\nκαι\\nκατ\\nκατά\\nκατα\\nκατὰ\\nκαὶ\\nκι\\nκἀν\\nκἂν\\nμέν\\nμή\\nμήτε\\nμα\\nμε\\nμεθ\\nμετ\\nμετά\\nμετα\\nμετὰ\\nμη\\nμην\\nμἐν\\nμὲν\\nμὴ\\nμὴν\\nνα\\nο\\nοι\\nομωσ\\nοπωσ\\nοσο\\nοτι\\nοἱ\\nοἳ\\nοἷς\\nοὐ\\nοὐδ\\nοὐδέ\\nοὐδείσ\\nοὐδεὶς\\nοὐδὲ\\nοὐδὲν\\nοὐκ\\nοὐχ\\nοὐχὶ\\nοὓς\\nοὔτε\\nοὕτω\\nοὕτως\\nοὕτωσ\\nοὖν\\nοὗ\\nοὗτος\\nοὗτοσ\\nπαρ\\nπαρά\\nπαρα\\nπαρὰ\\nπερί\\nπερὶ\\nποια\\nποιεσ\\nποιο\\nποιοι\\nποιοσ\\nποιουσ\\nποιων\\nποτε\\nπου\\nποῦ\\nπρο\\nπροσ\\nπρόσ\\nπρὸ\\nπρὸς\\nπως\\nπωσ\\nσε\\nστη\\nστην\\nστο\\nστον\\nσόσ\\nσύ\\nσύν\\nσὸς\\nσὺ\\nσὺν\\nτά\\nτήν\\nτί\\nτίς\\nτίσ\\nτα\\nταῖς\\nτε\\nτην\\nτησ\\nτι\\nτινα\\nτις\\nτισ\\nτο\\nτοί\\nτοι\\nτοιοῦτος\\nτοιοῦτοσ\\nτον\\nτοτε\\nτου\\nτούσ\\nτοὺς\\nτοῖς\\nτοῦ\\nτων\\nτό\\nτόν\\nτότε\\nτὰ\\nτὰς\\nτὴν\\nτὸ\\nτὸν\\nτῆς\\nτῆσ\\nτῇ\\nτῶν\\nτῷ\\nωσ\\nἀλλ'\\nἀλλά\\nἀλλὰ\\nἀλλ’\\nἀπ\\nἀπό\\nἀπὸ\\nἀφ\\nἂν\\nἃ\\nἄλλος\\nἄλλοσ\\nἄν\\nἄρα\\nἅμα\\nἐάν\\nἐγώ\\nἐγὼ\\nἐκ\\nἐμόσ\\nἐμὸς\\nἐν\\nἐξ\\nἐπί\\nἐπεὶ\\nἐπὶ\\nἐστι\\nἐφ\\nἐὰν\\nἑαυτοῦ\\nἔτι\\nἡ\\nἢ\\nἣ\\nἤ\\nἥ\\nἧς\\nἵνα\\nὁ\\nὃ\\nὃν\\nὃς\\nὅ\\nὅδε\\nὅθεν\\nὅπερ\\nὅς\\nὅσ\\nὅστις\\nὅστισ\\nὅτε\\nὅτι\\nὑμόσ\\nὑπ\\nὑπέρ\\nὑπό\\nὑπὲρ\\nὑπὸ\\nὡς\\nὡσ\\nὥς\\nὥστε\\nὦ\\nᾧ\\nאני\\nאת\\nאתה\\nאנחנו\\nאתן\\nאתם\\nהם\\nהן\\nהיא\\nהוא\\nשלי\\nשלו\\nשלך\\nשלה\\nשלנו\\nשלכם\\nשלכן\\nשלהם\\nשלהן\\nלי\\nלו\\nלה\\nלנו\\nלכם\\nלכן\\nלהם\\nלהן\\nאותה\\nאותו\\nזה\\nזאת\\nאלה\\nאלו\\nתחת\\nמתחת\\nמעל\\nבין\\nעם\\nעד\\nנגר\\nעל\\nאל\\nמול\\nשל\\nאצל\\nכמו\\nאחר\\nאותו\\nבלי\\nלפני\\nאחרי\\nמאחורי\\nעלי\\nעליו\\nעליה\\nעליך\\nעלינו\\nעליכם\\nלעיכן\\nעליהם\\nעליהן\\nכל\\nכולם\\nכולן\\nכך\\nככה\\nכזה\\nזה\\nזות\\nאותי\\nאותה\\nאותם\\nאותך\\nאותו\\nאותן\\nאותנו\\nואת\\nאת\\nאתכם\\nאתכן\\nאיתי\\nאיתו\\nאיתך\\nאיתה\\nאיתם\\nאיתן\\nאיתנו\\nאיתכם\\nאיתכן\\nיהיה\\nתהיה\\nהיתי\\nהיתה\\nהיה\\nלהיות\\nעצמי\\nעצמו\\nעצמה\\nעצמם\\nעצמן\\nעצמנו\\nעצמהם\\nעצמהן\\nמי\\nמה\\nאיפה\\nהיכן\\nבמקום שבו\\nאם\\nלאן\\nלמקום שבו\\nמקום בו\\nאיזה\\nמהיכן\\nאיך\\nכיצד\\nבאיזו מידה\\nמתי\\nבשעה ש\\nכאשר\\nכש\\nלמרות\\nלפני\\nאחרי\\nמאיזו סיבה\\nהסיבה שבגללה\\nלמה\\nמדוע\\nלאיזו תכלית\\nכי\\nיש\\nאין\\nאך\\nמנין\\nמאין\\nמאיפה\\nיכל\\nיכלה\\nיכלו\\nיכול\\nיכולה\\nיכולים\\nיכולות\\nיוכלו\\nיוכל\\nמסוגל\\nלא\\nרק\\nאולי\\nאין\\nלאו\\nאי\\nכלל\\nנגד\\nאם\\nעם\\nאל\\nאלה\\nאלו\\nאף\\nעל\\nמעל\\nמתחת\\nמצד\\nבשביל\\nלבין\\nבאמצע\\nבתוך\\nדרך\\nמבעד\\nבאמצעות\\nלמעלה\\nלמטה\\nמחוץ\\nמן\\nלעבר\\nמכאן\\nכאן\\nהנה\\nהרי\\nפה\\nשם\\nאך\\nברם\\nשוב\\nאבל\\nמבלי\\nבלי\\nמלבד\\nרק\\nבגלל\\nמכיוון\\nעד\\nאשר\\nואילו\\nלמרות\\nאס\\nכמו\\nכפי\\nאז\\nאחרי\\nכן\\nלכן\\nלפיכך\\nמאד\\nעז\\nמעט\\nמעטים\\nבמידה\\nשוב\\nיותר\\nמדי\\nגם\\nכן\\nנו\\nאחר\\nאחרת\\nאחרים\\nאחרות\\nאשר\\nאוa\\naadi\\naaj\\naap\\naapne\\naata\\naati\\naaya\\naaye\\nab\\nabbe\\nabbey\\nabe\\nabhi\\nable\\nabout\\nabove\\naccha\\naccording\\naccordingly\\nacha\\nachcha\\nacross\\nactually\\nafter\\nafterwards\\nagain\\nagainst\\nagar\\nain\\naint\\nain't\\naisa\\naise\\naisi\\nalag\\nall\\nallow\\nallows\\nalmost\\nalone\\nalong\\nalready\\nalso\\nalthough\\nalways\\nam\\namong\\namongst\\nan\\nand\\nandar\\nanother\\nany\\nanybody\\nanyhow\\nanyone\\nanything\\nanyway\\nanyways\\nanywhere\\nap\\napan\\napart\\napna\\napnaa\\napne\\napni\\nappear\\nare\\naren\\narent\\naren't\\naround\\narre\\nas\\naside\\nask\\nasking\\nat\\naur\\navum\\naya\\naye\\nbaad\\nbaar\\nbad\\nbahut\\nbana\\nbanae\\nbanai\\nbanao\\nbanaya\\nbanaye\\nbanayi\\nbanda\\nbande\\nbandi\\nbane\\nbani\\nbas\\nbata\\nbatao\\nbc\\nbe\\nbecame\\nbecause\\nbecome\\nbecomes\\nbecoming\\nbeen\\nbefore\\nbeforehand\\nbehind\\nbeing\\nbelow\\nbeside\\nbesides\\nbest\\nbetter\\nbetween\\nbeyond\\nbhai\\nbheetar\\nbhi\\nbhitar\\nbht\\nbilkul\\nbohot\\nbol\\nbola\\nbole\\nboli\\nbolo\\nbolta\\nbolte\\nbolti\\nboth\\nbrief\\nbro\\nbtw\\nbut\\nby\\ncame\\ncan\\ncannot\\ncant\\ncan't\\ncause\\ncauses\\ncertain\\ncertainly\\nchahiye\\nchaiye\\nchal\\nchalega\\nchhaiye\\nclearly\\nc'mon\\ncom\\ncome\\ncomes\\ncould\\ncouldn\\ncouldnt\\ncouldn't\\nd\\nde\\ndede\\ndega\\ndegi\\ndekh\\ndekha\\ndekhe\\ndekhi\\ndekho\\ndenge\\ndhang\\ndi\\ndid\\ndidn\\ndidnt\\ndidn't\\ndijiye\\ndiya\\ndiyaa\\ndiye\\ndiyo\\ndo\\ndoes\\ndoesn\\ndoesnt\\ndoesn't\\ndoing\\ndone\\ndono\\ndont\\ndon't\\ndoosra\\ndoosre\\ndown\\ndownwards\\ndude\\ndunga\\ndungi\\nduring\\ndusra\\ndusre\\ndusri\\ndvaara\\ndvara\\ndwaara\\ndwara\\neach\\nedu\\neg\\neight\\neither\\nek\\nelse\\nelsewhere\\nenough\\netc\\neven\\never\\nevery\\neverybody\\neveryone\\neverything\\neverywhere\\nex\\nexactly\\nexample\\nexcept\\nfar\\nfew\\nfifth\\nfir\\nfirst\\nfive\\nfollowed\\nfollowing\\nfollows\\nfor\\nforth\\nfour\\nfrom\\nfurther\\nfurthermore\\ngaya\\ngaye\\ngayi\\nget\\ngets\\ngetting\\nghar\\ngiven\\ngives\\ngo\\ngoes\\ngoing\\ngone\\ngood\\ngot\\ngotten\\ngreetings\\nhaan\\nhad\\nhadd\\nhadn\\nhadnt\\nhadn't\\nhai\\nhain\\nhamara\\nhamare\\nhamari\\nhamne\\nhan\\nhappens\\nhar\\nhardly\\nhas\\nhasn\\nhasnt\\nhasn't\\nhave\\nhaven\\nhavent\\nhaven't\\nhaving\\nhe\\nhello\\nhelp\\nhence\\nher\\nhere\\nhereafter\\nhereby\\nherein\\nhere's\\nhereupon\\nhers\\nherself\\nhe's\\nhi\\nhim\\nhimself\\nhis\\nhither\\nhm\\nhmm\\nho\\nhoga\\nhoge\\nhogi\\nhona\\nhonaa\\nhone\\nhonge\\nhongi\\nhoni\\nhopefully\\nhota\\nhotaa\\nhote\\nhoti\\nhow\\nhowbeit\\nhowever\\nhoyenge\\nhoyengi\\nhu\\nhua\\nhue\\nhuh\\nhui\\nhum\\nhumein\\nhumne\\nhun\\nhuye\\nhuyi\\ni\\ni'd\\nidk\\nie\\nif\\ni'll\\ni'm\\nimo\\nin\\ninasmuch\\ninc\\ninhe\\ninhi\\ninho\\ninka\\ninkaa\\ninke\\ninki\\ninn\\ninner\\ninse\\ninsofar\\ninto\\ninward\\nis\\nise\\nisi\\niska\\niskaa\\niske\\niski\\nisme\\nisn\\nisne\\nisnt\\nisn't\\niss\\nisse\\nissi\\nisski\\nit\\nit'd\\nit'll\\nitna\\nitne\\nitni\\nitno\\nits\\nit's\\nitself\\nityaadi\\nityadi\\ni've\\nja\\njaa\\njab\\njabh\\njaha\\njahaan\\njahan\\njaisa\\njaise\\njaisi\\njata\\njayega\\njidhar\\njin\\njinhe\\njinhi\\njinho\\njinhone\\njinka\\njinke\\njinki\\njinn\\njis\\njise\\njiska\\njiske\\njiski\\njisme\\njiss\\njisse\\njitna\\njitne\\njitni\\njo\\njust\\njyaada\\njyada\\nk\\nka\\nkaafi\\nkab\\nkabhi\\nkafi\\nkaha\\nkahaa\\nkahaan\\nkahan\\nkahi\\nkahin\\nkahte\\nkaisa\\nkaise\\nkaisi\\nkal\\nkam\\nkar\\nkara\\nkare\\nkarega\\nkaregi\\nkaren\\nkarenge\\nkari\\nkarke\\nkarna\\nkarne\\nkarni\\nkaro\\nkarta\\nkarte\\nkarti\\nkaru\\nkarun\\nkarunga\\nkarungi\\nkaun\\nkaunsa\\nkayi\\nkch\\nke\\nkeep\\nkeeps\\nkeh\\nkehte\\nkept\\nkhud\\nki\\nkin\\nkine\\nkinhe\\nkinho\\nkinka\\nkinke\\nkinki\\nkinko\\nkinn\\nkino\\nkis\\nkise\\nkisi\\nkiska\\nkiske\\nkiski\\nkisko\\nkisliye\\nkisne\\nkitna\\nkitne\\nkitni\\nkitno\\nkiya\\nkiye\\nknow\\nknown\\nknows\\nko\\nkoi\\nkon\\nkonsa\\nkoyi\\nkrna\\nkrne\\nkuch\\nkuchch\\nkuchh\\nkul\\nkull\\nkya\\nkyaa\\nkyu\\nkyuki\\nkyun\\nkyunki\\nlagta\\nlagte\\nlagti\\nlast\\nlately\\nlater\\nle\\nleast\\nlekar\\nlekin\\nless\\nlest\\nlet\\nlet's\\nli\\nlike\\nliked\\nlikely\\nlittle\\nliya\\nliye\\nll\\nlo\\nlog\\nlogon\\nlol\\nlook\\nlooking\\nlooks\\nltd\\nlunga\\nm\\nmaan\\nmaana\\nmaane\\nmaani\\nmaano\\nmagar\\nmai\\nmain\\nmaine\\nmainly\\nmana\\nmane\\nmani\\nmano\\nmany\\nmat\\nmay\\nmaybe\\nme\\nmean\\nmeanwhile\\nmein\\nmera\\nmere\\nmerely\\nmeri\\nmight\\nmightn\\nmightnt\\nmightn't\\nmil\\nmjhe\\nmore\\nmoreover\\nmost\\nmostly\\nmuch\\nmujhe\\nmust\\nmustn\\nmustnt\\nmustn't\\nmy\\nmyself\\nna\\nnaa\\nnaah\\nnahi\\nnahin\\nnai\\nname\\nnamely\\nnd\\nne\\nnear\\nnearly\\nnecessary\\nneeche\\nneed\\nneedn\\nneednt\\nneedn't\\nneeds\\nneither\\nnever\\nnevertheless\\nnew\\nnext\\nnhi\\nnine\\nno\\nnobody\\nnon\\nnone\\nnoone\\nnope\\nnor\\nnormally\\nnot\\nnothing\\nnovel\\nnow\\nnowhere\\no\\nobviously\\nof\\noff\\noften\\noh\\nok\\nokay\\nold\\non\\nonce\\none\\nones\\nonly\\nonto\\nor\\nother\\nothers\\notherwise\\nought\\nour\\nours\\nourselves\\nout\\noutside\\nover\\noverall\\nown\\npar\\npata\\npe\\npehla\\npehle\\npehli\\npeople\\nper\\nperhaps\\nphla\\nphle\\nphli\\nplaced\\nplease\\nplus\\npoora\\npoori\\nprovides\\npura\\npuri\\nq\\nque\\nquite\\nraha\\nrahaa\\nrahe\\nrahi\\nrakh\\nrakha\\nrakhe\\nrakhen\\nrakhi\\nrakho\\nrather\\nre\\nreally\\nreasonably\\nregarding\\nregardless\\nregards\\nrehte\\nrha\\nrhaa\\nrhe\\nrhi\\nri\\nright\\ns\\nsa\\nsaara\\nsaare\\nsaath\\nsab\\nsabhi\\nsabse\\nsahi\\nsaid\\nsakta\\nsaktaa\\nsakte\\nsakti\\nsame\\nsang\\nsara\\nsath\\nsaw\\nsay\\nsaying\\nsays\\nse\\nsecond\\nsecondly\\nsee\\nseeing\\nseem\\nseemed\\nseeming\\nseems\\nseen\\nself\\nselves\\nsensible\\nsent\\nserious\\nseriously\\nseven\\nseveral\\nshall\\nshan\\nshant\\nshan't\\nshe\\nshe's\\nshould\\nshouldn\\nshouldnt\\nshouldn't\\nshould've\\nsi\\nsince\\nsix\\nso\\nsoch\\nsome\\nsomebody\\nsomehow\\nsomeone\\nsomething\\nsometime\\nsometimes\\nsomewhat\\nsomewhere\\nsoon\\nstill\\nsub\\nsuch\\nsup\\nsure\\nt\\ntab\\ntabh\\ntak\\ntake\\ntaken\\ntarah\\nteen\\nteeno\\nteesra\\nteesre\\nteesri\\ntell\\ntends\\ntera\\ntere\\nteri\\nth\\ntha\\nthan\\nthank\\nthanks\\nthanx\\nthat\\nthat'll\\nthats\\nthat's\\nthe\\ntheek\\ntheir\\ntheirs\\nthem\\nthemselves\\nthen\\nthence\\nthere\\nthereafter\\nthereby\\ntherefore\\ntherein\\ntheres\\nthere's\\nthereupon\\nthese\\nthey\\nthey'd\\nthey'll\\nthey're\\nthey've\\nthi\\nthik\\nthing\\nthink\\nthinking\\nthird\\nthis\\ntho\\nthoda\\nthodi\\nthorough\\nthoroughly\\nthose\\nthough\\nthought\\nthree\\nthrough\\nthroughout\\nthru\\nthus\\ntjhe\\nto\\ntogether\\ntoh\\ntoo\\ntook\\ntoward\\ntowards\\ntried\\ntries\\ntrue\\ntruly\\ntry\\ntrying\\ntu\\ntujhe\\ntum\\ntumhara\\ntumhare\\ntumhari\\ntune\\ntwice\\ntwo\\num\\numm\\nun\\nunder\\nunhe\\nunhi\\nunho\\nunhone\\nunka\\nunkaa\\nunke\\nunki\\nunko\\nunless\\nunlikely\\nunn\\nunse\\nuntil\\nunto\\nup\\nupar\\nupon\\nus\\nuse\\nused\\nuseful\\nuses\\nusi\\nusing\\nuska\\nuske\\nusne\\nuss\\nusse\\nussi\\nusually\\nvaala\\nvaale\\nvaali\\nvahaan\\nvahan\\nvahi\\nvahin\\nvaisa\\nvaise\\nvaisi\\nvala\\nvale\\nvali\\nvarious\\nve\\nvery\\nvia\\nviz\\nvo\\nwaala\\nwaale\\nwaali\\nwagaira\\nwagairah\\nwagerah\\nwaha\\nwahaan\\nwahan\\nwahi\\nwahin\\nwaisa\\nwaise\\nwaisi\\nwala\\nwale\\nwali\\nwant\\nwants\\nwas\\nwasn\\nwasnt\\nwasn't\\nway\\nwe\\nwe'd\\nwell\\nwe'll\\nwent\\nwere\\nwe're\\nweren\\nwerent\\nweren't\\nwe've\\nwhat\\nwhatever\\nwhat's\\nwhen\\nwhence\\nwhenever\\nwhere\\nwhereafter\\nwhereas\\nwhereby\\nwherein\\nwhere's\\nwhereupon\\nwherever\\nwhether\\nwhich\\nwhile\\nwho\\nwhoever\\nwhole\\nwhom\\nwho's\\nwhose\\nwhy\\nwill\\nwilling\\nwith\\nwithin\\nwithout\\nwo\\nwoh\\nwohi\\nwon\\nwont\\nwon't\\nwould\\nwouldn\\nwouldnt\\nwouldn't\\ny\\nya\\nyadi\\nyah\\nyaha\\nyahaan\\nyahan\\nyahi\\nyahin\\nye\\nyeah\\nyeh\\nyehi\\nyes\\nyet\\nyou\\nyou'd\\nyou'll\\nyour\\nyou're\\nyours\\nyourself\\nyourselves\\nyou've\\nyup\\na\\nahogy\\nahol\\naki\\nakik\\nakkor\\nalatt\\náltal\\náltalában\\namely\\namelyek\\namelyekben\\namelyeket\\namelyet\\namelynek\\nami\\namit\\namolyan\\namíg\\namikor\\nát\\nabban\\nahhoz\\nannak\\narra\\narról\\naz\\nazok\\nazon\\nazt\\nazzal\\nazért\\naztán\\nazután\\nazonban\\nbár\\nbe\\nbelül\\nbenne\\ncikk\\ncikkek\\ncikkeket\\ncsak\\nde\\ne\\neddig\\negész\\negy\\negyes\\negyetlen\\negyéb\\negyik\\negyre\\nekkor\\nel\\nelég\\nellen\\nelõ\\nelõször\\nelõtt\\nelsõ\\nén\\néppen\\nebben\\nehhez\\nemilyen\\nennek\\nerre\\nez\\nezt\\nezek\\nezen\\nezzel\\nezért\\nés\\nfel\\nfelé\\nhanem\\nhiszen\\nhogy\\nhogyan\\nigen\\nígy\\nilletve\\nill.\\nill\\nilyen\\nilyenkor\\nison\\nismét\\nitt\\njó\\njól\\njobban\\nkell\\nkellett\\nkeresztül\\nkeressünk\\nki\\nkívül\\nközött\\nközül\\nlegalább\\nlehet\\nlehetett\\nlegyen\\nlenne\\nlenni\\nlesz\\nlett\\nmaga\\nmagát\\nmajd\\nmajd\\nmár\\nmás\\nmásik\\nmeg\\nmég\\nmellett\\nmert\\nmely\\nmelyek\\nmi\\nmit\\nmíg\\nmiért\\nmilyen\\nmikor\\nminden\\nmindent\\nmindenki\\nmindig\\nmint\\nmintha\\nmivel\\nmost\\nnagy\\nnagyobb\\nnagyon\\nne\\nnéha\\nnekem\\nneki\\nnem\\nnéhány\\nnélkül\\nnincs\\nolyan\\nott\\nössze\\nõ\\nõk\\nõket\\npedig\\npersze\\nrá\\ns\\nsaját\\nsem\\nsemmi\\nsok\\nsokat\\nsokkal\\nszámára\\nszemben\\nszerint\\nszinte\\ntalán\\ntehát\\nteljes\\ntovább\\ntovábbá\\ntöbb\\núgy\\nugyanis\\núj\\nújabb\\nújra\\nután\\nutána\\nutolsó\\nvagy\\nvagyis\\nvalaki\\nvalami\\nvalamint\\nvaló\\nvagyok\\nvan\\nvannak\\nvolt\\nvoltam\\nvoltak\\nvoltunk\\nvissza\\nvele\\nviszont\\nvolna\\nada\\nadalah\\nadanya\\nadapun\\nagak\\nagaknya\\nagar\\nakan\\nakankah\\nakhir\\nakhiri\\nakhirnya\\naku\\nakulah\\namat\\namatlah\\nanda\\nandalah\\nantar\\nantara\\nantaranya\\napa\\napaan\\napabila\\napakah\\napalagi\\napatah\\nartinya\\nasal\\nasalkan\\natas\\natau\\nataukah\\nataupun\\nawal\\nawalnya\\nbagai\\nbagaikan\\nbagaimana\\nbagaimanakah\\nbagaimanapun\\nbagi\\nbagian\\nbahkan\\nbahwa\\nbahwasanya\\nbaik\\nbakal\\nbakalan\\nbalik\\nbanyak\\nbapak\\nbaru\\nbawah\\nbeberapa\\nbegini\\nbeginian\\nbeginikah\\nbeginilah\\nbegitu\\nbegitukah\\nbegitulah\\nbegitupun\\nbekerja\\nbelakang\\nbelakangan\\nbelum\\nbelumlah\\nbenar\\nbenarkah\\nbenarlah\\nberada\\nberakhir\\nberakhirlah\\nberakhirnya\\nberapa\\nberapakah\\nberapalah\\nberapapun\\nberarti\\nberawal\\nberbagai\\nberdatangan\\nberi\\nberikan\\nberikut\\nberikutnya\\nberjumlah\\nberkali-kali\\nberkata\\nberkehendak\\nberkeinginan\\nberkenaan\\nberlainan\\nberlalu\\nberlangsung\\nberlebihan\\nbermacam\\nbermacam-macam\\nbermaksud\\nbermula\\nbersama\\nbersama-sama\\nbersiap\\nbersiap-siap\\nbertanya\\nbertanya-tanya\\nberturut\\nberturut-turut\\nbertutur\\nberujar\\nberupa\\nbesar\\nbetul\\nbetulkah\\nbiasa\\nbiasanya\\nbila\\nbilakah\\nbisa\\nbisakah\\nboleh\\nbolehkah\\nbolehlah\\nbuat\\nbukan\\nbukankah\\nbukanlah\\nbukannya\\nbulan\\nbung\\ncara\\ncaranya\\ncukup\\ncukupkah\\ncukuplah\\ncuma\\ndahulu\\ndalam\\ndan\\ndapat\\ndari\\ndaripada\\ndatang\\ndekat\\ndemi\\ndemikian\\ndemikianlah\\ndengan\\ndepan\\ndi\\ndia\\ndiakhiri\\ndiakhirinya\\ndialah\\ndiantara\\ndiantaranya\\ndiberi\\ndiberikan\\ndiberikannya\\ndibuat\\ndibuatnya\\ndidapat\\ndidatangkan\\ndigunakan\\ndiibaratkan\\ndiibaratkannya\\ndiingat\\ndiingatkan\\ndiinginkan\\ndijawab\\ndijelaskan\\ndijelaskannya\\ndikarenakan\\ndikatakan\\ndikatakannya\\ndikerjakan\\ndiketahui\\ndiketahuinya\\ndikira\\ndilakukan\\ndilalui\\ndilihat\\ndimaksud\\ndimaksudkan\\ndimaksudkannya\\ndimaksudnya\\ndiminta\\ndimintai\\ndimisalkan\\ndimulai\\ndimulailah\\ndimulainya\\ndimungkinkan\\ndini\\ndipastikan\\ndiperbuat\\ndiperbuatnya\\ndipergunakan\\ndiperkirakan\\ndiperlihatkan\\ndiperlukan\\ndiperlukannya\\ndipersoalkan\\ndipertanyakan\\ndipunyai\\ndiri\\ndirinya\\ndisampaikan\\ndisebut\\ndisebutkan\\ndisebutkannya\\ndisini\\ndisinilah\\nditambahkan\\nditandaskan\\nditanya\\nditanyai\\nditanyakan\\nditegaskan\\nditujukan\\nditunjuk\\nditunjuki\\nditunjukkan\\nditunjukkannya\\nditunjuknya\\ndituturkan\\ndituturkannya\\ndiucapkan\\ndiucapkannya\\ndiungkapkan\\ndong\\ndua\\ndulu\\nempat\\nenggak\\nenggaknya\\nentah\\nentahlah\\nguna\\ngunakan\\nhal\\nhampir\\nhanya\\nhanyalah\\nhari\\nharus\\nharuslah\\nharusnya\\nhendak\\nhendaklah\\nhendaknya\\nhingga\\nia\\nialah\\nibarat\\nibaratkan\\nibaratnya\\nibu\\nikut\\ningat\\ningat-ingat\\ningin\\ninginkah\\ninginkan\\nini\\ninikah\\ninilah\\nitu\\nitukah\\nitulah\\njadi\\njadilah\\njadinya\\njangan\\njangankan\\njanganlah\\njauh\\njawab\\njawaban\\njawabnya\\njelas\\njelaskan\\njelaslah\\njelasnya\\njika\\njikalau\\njuga\\njumlah\\njumlahnya\\njustru\\nkala\\nkalau\\nkalaulah\\nkalaupun\\nkalian\\nkami\\nkamilah\\nkamu\\nkamulah\\nkan\\nkapan\\nkapankah\\nkapanpun\\nkarena\\nkarenanya\\nkasus\\nkata\\nkatakan\\nkatakanlah\\nkatanya\\nke\\nkeadaan\\nkebetulan\\nkecil\\nkedua\\nkeduanya\\nkeinginan\\nkelamaan\\nkelihatan\\nkelihatannya\\nkelima\\nkeluar\\nkembali\\nkemudian\\nkemungkinan\\nkemungkinannya\\nkenapa\\nkepada\\nkepadanya\\nkesampaian\\nkeseluruhan\\nkeseluruhannya\\nketerlaluan\\nketika\\nkhususnya\\nkini\\nkinilah\\nkira\\nkira-kira\\nkiranya\\nkita\\nkitalah\\nkok\\nkurang\\nlagi\\nlagian\\nlah\\nlain\\nlainnya\\nlalu\\nlama\\nlamanya\\nlanjut\\nlanjutnya\\nlebih\\nlewat\\nlima\\nluar\\nmacam\\nmaka\\nmakanya\\nmakin\\nmalah\\nmalahan\\nmampu\\nmampukah\\nmana\\nmanakala\\nmanalagi\\nmasa\\nmasalah\\nmasalahnya\\nmasih\\nmasihkah\\nmasing\\nmasing-masing\\nmau\\nmaupun\\nmelainkan\\nmelakukan\\nmelalui\\nmelihat\\nmelihatnya\\nmemang\\nmemastikan\\nmemberi\\nmemberikan\\nmembuat\\nmemerlukan\\nmemihak\\nmeminta\\nmemintakan\\nmemisalkan\\nmemperbuat\\nmempergunakan\\nmemperkirakan\\nmemperlihatkan\\nmempersiapkan\\nmempersoalkan\\nmempertanyakan\\nmempunyai\\nmemulai\\nmemungkinkan\\nmenaiki\\nmenambahkan\\nmenandaskan\\nmenanti\\nmenanti-nanti\\nmenantikan\\nmenanya\\nmenanyai\\nmenanyakan\\nmendapat\\nmendapatkan\\nmendatang\\nmendatangi\\nmendatangkan\\nmenegaskan\\nmengakhiri\\nmengapa\\nmengatakan\\nmengatakannya\\nmengenai\\nmengerjakan\\nmengetahui\\nmenggunakan\\nmenghendaki\\nmengibaratkan\\nmengibaratkannya\\nmengingat\\nmengingatkan\\nmenginginkan\\nmengira\\nmengucapkan\\nmengucapkannya\\nmengungkapkan\\nmenjadi\\nmenjawab\\nmenjelaskan\\nmenuju\\nmenunjuk\\nmenunjuki\\nmenunjukkan\\nmenunjuknya\\nmenurut\\nmenuturkan\\nmenyampaikan\\nmenyangkut\\nmenyatakan\\nmenyebutkan\\nmenyeluruh\\nmenyiapkan\\nmerasa\\nmereka\\nmerekalah\\nmerupakan\\nmeski\\nmeskipun\\nmeyakini\\nmeyakinkan\\nminta\\nmirip\\nmisal\\nmisalkan\\nmisalnya\\nmula\\nmulai\\nmulailah\\nmulanya\\nmungkin\\nmungkinkah\\nnah\\nnaik\\nnamun\\nnanti\\nnantinya\\nnyaris\\nnyatanya\\noleh\\nolehnya\\npada\\npadahal\\npadanya\\npak\\npaling\\npanjang\\npantas\\npara\\npasti\\npastilah\\npenting\\npentingnya\\nper\\npercuma\\nperlu\\nperlukah\\nperlunya\\npernah\\npersoalan\\npertama\\npertama-tama\\npertanyaan\\npertanyakan\\npihak\\npihaknya\\npukul\\npula\\npun\\npunya\\nrasa\\nrasanya\\nrata\\nrupanya\\nsaat\\nsaatnya\\nsaja\\nsajalah\\nsaling\\nsama\\nsama-sama\\nsambil\\nsampai\\nsampai-sampai\\nsampaikan\\nsana\\nsangat\\nsangatlah\\nsatu\\nsaya\\nsayalah\\nse\\nsebab\\nsebabnya\\nsebagai\\nsebagaimana\\nsebagainya\\nsebagian\\nsebaik\\nsebaik-baiknya\\nsebaiknya\\nsebaliknya\\nsebanyak\\nsebegini\\nsebegitu\\nsebelum\\nsebelumnya\\nsebenarnya\\nseberapa\\nsebesar\\nsebetulnya\\nsebisanya\\nsebuah\\nsebut\\nsebutlah\\nsebutnya\\nsecara\\nsecukupnya\\nsedang\\nsedangkan\\nsedemikian\\nsedikit\\nsedikitnya\\nseenaknya\\nsegala\\nsegalanya\\nsegera\\nseharusnya\\nsehingga\\nseingat\\nsejak\\nsejauh\\nsejenak\\nsejumlah\\nsekadar\\nsekadarnya\\nsekali\\nsekali-kali\\nsekalian\\nsekaligus\\nsekalipun\\nsekarang\\nsekarang\\nsekecil\\nseketika\\nsekiranya\\nsekitar\\nsekitarnya\\nsekurang-kurangnya\\nsekurangnya\\nsela\\nselain\\nselaku\\nselalu\\nselama\\nselama-lamanya\\nselamanya\\nselanjutnya\\nseluruh\\nseluruhnya\\nsemacam\\nsemakin\\nsemampu\\nsemampunya\\nsemasa\\nsemasih\\nsemata\\nsemata-mata\\nsemaunya\\nsementara\\nsemisal\\nsemisalnya\\nsempat\\nsemua\\nsemuanya\\nsemula\\nsendiri\\nsendirian\\nsendirinya\\nseolah\\nseolah-olah\\nseorang\\nsepanjang\\nsepantasnya\\nsepantasnyalah\\nseperlunya\\nseperti\\nsepertinya\\nsepihak\\nsering\\nseringnya\\nserta\\nserupa\\nsesaat\\nsesama\\nsesampai\\nsesegera\\nsesekali\\nseseorang\\nsesuatu\\nsesuatunya\\nsesudah\\nsesudahnya\\nsetelah\\nsetempat\\nsetengah\\nseterusnya\\nsetiap\\nsetiba\\nsetibanya\\nsetidak-tidaknya\\nsetidaknya\\nsetinggi\\nseusai\\nsewaktu\\nsiap\\nsiapa\\nsiapakah\\nsiapapun\\nsini\\nsinilah\\nsoal\\nsoalnya\\nsuatu\\nsudah\\nsudahkah\\nsudahlah\\nsupaya\\ntadi\\ntadinya\\ntahu\\ntahun\\ntak\\ntambah\\ntambahnya\\ntampak\\ntampaknya\\ntandas\\ntandasnya\\ntanpa\\ntanya\\ntanyakan\\ntanyanya\\ntapi\\ntegas\\ntegasnya\\ntelah\\ntempat\\ntengah\\ntentang\\ntentu\\ntentulah\\ntentunya\\ntepat\\nterakhir\\nterasa\\nterbanyak\\nterdahulu\\nterdapat\\nterdiri\\nterhadap\\nterhadapnya\\nteringat\\nteringat-ingat\\nterjadi\\nterjadilah\\nterjadinya\\nterkira\\nterlalu\\nterlebih\\nterlihat\\ntermasuk\\nternyata\\ntersampaikan\\ntersebut\\ntersebutlah\\ntertentu\\ntertuju\\nterus\\nterutama\\ntetap\\ntetapi\\ntiap\\ntiba\\ntiba-tiba\\ntidak\\ntidakkah\\ntidaklah\\ntiga\\ntinggi\\ntoh\\ntunjuk\\nturut\\ntutur\\ntuturnya\\nucap\\nucapnya\\nujar\\nujarnya\\numum\\numumnya\\nungkap\\nungkapnya\\nuntuk\\nusah\\nusai\\nwaduh\\nwah\\nwahai\\nwaktu\\nwaktunya\\nwalau\\nwalaupun\\nwong\\nyaitu\\nyakin\\nyakni\\nyangad\\nal\\nallo\\nai\\nagli\\nall\\nagl\\nalla\\nalle\\ncon\\ncol\\ncoi\\nda\\ndal\\ndallo\\ndai\\ndagli\\ndall\\ndagl\\ndalla\\ndalle\\ndi\\ndel\\ndello\\ndei\\ndegli\\ndell\\ndegl\\ndella\\ndelle\\nin\\nnel\\nnello\\nnei\\nnegli\\nnell\\nnegl\\nnella\\nnelle\\nsu\\nsul\\nsullo\\nsui\\nsugli\\nsull\\nsugl\\nsulla\\nsulle\\nper\\ntra\\ncontro\\nio\\ntu\\nlui\\nlei\\nnoi\\nvoi\\nloro\\nmio\\nmia\\nmiei\\nmie\\ntuo\\ntua\\ntuoi\\ntue\\nsuo\\nsua\\nsuoi\\nsue\\nnostro\\nnostra\\nnostri\\nnostre\\nvostro\\nvostra\\nvostri\\nvostre\\nmi\\nti\\nci\\nvi\\nlo\\nla\\nli\\nle\\ngli\\nne\\nil\\nun\\nuno\\nuna\\nma\\ned\\nse\\nperché\\nanche\\ncome\\ndov\\ndove\\nche\\nchi\\ncui\\nnon\\npiù\\nquale\\nquanto\\nquanti\\nquanta\\nquante\\nquello\\nquelli\\nquella\\nquelle\\nquesto\\nquesti\\nquesta\\nqueste\\nsi\\ntutto\\ntutti\\na\\nc\\ne\\ni\\nl\\no\\nho\\nhai\\nha\\nabbiamo\\navete\\nhanno\\nabbia\\nabbiate\\nabbiano\\navrò\\navrai\\navrà\\navremo\\navrete\\navranno\\navrei\\navresti\\navrebbe\\navremmo\\navreste\\navrebbero\\navevo\\navevi\\naveva\\navevamo\\navevate\\navevano\\nebbi\\navesti\\nebbe\\navemmo\\naveste\\nebbero\\navessi\\navesse\\navessimo\\navessero\\navendo\\navuto\\navuta\\navuti\\navute\\nsono\\nsei\\nè\\nsiamo\\nsiete\\nsia\\nsiate\\nsiano\\nsarò\\nsarai\\nsarà\\nsaremo\\nsarete\\nsaranno\\nsarei\\nsaresti\\nsarebbe\\nsaremmo\\nsareste\\nsarebbero\\nero\\neri\\nera\\neravamo\\neravate\\nerano\\nfui\\nfosti\\nfu\\nfummo\\nfoste\\nfurono\\nfossi\\nfosse\\nfossimo\\nfossero\\nessendo\\nfaccio\\nfai\\nfacciamo\\nfanno\\nfaccia\\nfacciate\\nfacciano\\nfarò\\nfarai\\nfarà\\nfaremo\\nfarete\\nfaranno\\nfarei\\nfaresti\\nfarebbe\\nfaremmo\\nfareste\\nfarebbero\\nfacevo\\nfacevi\\nfaceva\\nfacevamo\\nfacevate\\nfacevano\\nfeci\\nfacesti\\nfece\\nfacemmo\\nfaceste\\nfecero\\nfacessi\\nfacesse\\nfacessimo\\nfacessero\\nfacendo\\nsto\\nstai\\nsta\\nstiamo\\nstanno\\nstia\\nstiate\\nstiano\\nstarò\\nstarai\\nstarà\\nstaremo\\nstarete\\nstaranno\\nstarei\\nstaresti\\nstarebbe\\nstaremmo\\nstareste\\nstarebbero\\nstavo\\nstavi\\nstava\\nstavamo\\nstavate\\nstavano\\nstetti\\nstesti\\nstette\\nstemmo\\nsteste\\nstettero\\nstessi\\nstesse\\nstessimo\\nstessero\\nstando\\nах\\nох\\nэх\\nай\\nэй\\nой\\nтағы\\nтағыда\\nәрине\\nжоқ\\nсондай\\nосындай\\nосылай\\nсолай\\nмұндай\\nбұндай\\nмен\\nсен\\nол\\nбіз\\nбіздер\\nолар\\nсіз\\nсіздер\\nмаған\\nоған\\nсаған\\nбіздің\\nсіздің\\nоның\\nбізге\\nсізге\\nоларға\\nбіздерге\\nсіздерге\\nоларға\\nменімен\\nсенімен\\nонымен\\nбізбен\\nсізбен\\nолармен\\nбіздермен\\nсіздермен\\nменің\\nсенің\\nбіздің\\nсіздің\\nоның\\nбіздердің\\nсіздердің\\nолардың\\nмаған\\nсаған\\nоған\\nменен\\nсенен\\nодан\\nбізден\\nсізден\\nолардан\\nбіздерден\\nсіздерден\\nолардан\\nайтпақшы\\nсонымен\\nсондықтан\\nбұл\\nосы\\nсол\\nанау\\nмынау\\nсонау\\nосынау\\nана\\nмына\\nсона\\nәні\\nміне\\nөй\\nүйт\\nбүйт\\nбіреу\\nкейбіреу\\nкейбір\\nқайсыбір\\nәрбір\\nбірнеше\\nбірдеме\\nбірнеше\\nәркім\\nәрне\\nәрқайсы\\nәрқалай\\nәлдекім\\nәлдене\\nәлдеқайдан\\nәлденеше\\nәлдеқалай\\nәлдеқашан\\nалдақашан\\nеш\\nешкім\\nешбір\\nештеме\\nдәнеңе\\nешқашан\\nешқандай\\nешқайсы\\nемес\\nбәрі\\nбарлық\\nбарша\\nбар\\nкүллі\\nбүкіл\\nтүгел\\nөз\\nөзім\\nөзің\\nөзінің\\nөзіме\\nөзіне\\nөзімнің\\nөзі\\nөзге\\nменде\\nсенде\\nонда\\nменен\\nсенен\\tонан\\nодан\\nау\\nпа\\nей\\nәй\\nе\\nуа\\nуау\\nуай\\nя\\nпай\\nә\\nо\\nоһо\\nой\\nие\\nаһа\\nау\\nбеу\\nмәссаған\\nбәрекелді\\nәттегенай\\nжаракімалла\\nмасқарай\\nастапыралла\\nяпырмай\\nойпырмай\\nкәне\\nкәнеки\\nал\\nәйда\\nкәні\\nміне\\nәні\\nсорап\\nқош-қош\\nпфша\\nпішә\\nқұрау-құрау\\nшәйт\\nшек\\nмоһ\\nтәк\\nқұрау\\nқұр\\nкә\\nкәһ\\nкүшім\\nкүшім\\nмышы\\nпырс\\nәукім\\nалақай\\nпаһ-паһ\\nбәрекелді\\nура\\nәттең\\nәттеген-ай\\nқап\\nтүге\\nпішту\\nшіркін\\nалатау\\nпай-пай\\nүшін\\nсайын\\nсияқты\\nтуралы\\nарқылы\\nбойы\\nбойымен\\nшамалы\\nшақты\\nқаралы\\nғұрлы\\nғұрлым\\nшейін\\nдейін\\nқарай\\nтаман\\nсалым\\nтарта\\nжуық\\nтаяу\\nгөрі\\nбері\\nкейін\\nсоң\\nбұрын\\nбетер\\nқатар\\nбірге\\nқоса\\nарс\\n\\nгүрс\\n\\nдүрс\\n\\nқорс\\n\\nтарс\\n\\nтырс\\n\\nырс\\n\\nбарқ\\n\\nборт\\n\\nкүрт\\n\\nкірт\\n\\nморт\\n\\nсарт\\n\\nшырт\\n\\nдүңк\\n\\nкүңк\\n\\nқыңқ\\n\\nмыңқ\\n\\nмаңқ\\n\\nсаңқ\\n\\nшаңқ\\n\\nшіңк\\n\\nсыңқ\\n\\nтаңқ\\n\\nтыңқ\\n\\nыңқ\\n\\nболп\\n\\nбылп\\n\\nжалп\\n\\nжелп\\n\\nқолп\\n\\nірк\\n\\nырқ\\n\\nсарт-сұрт\\n\\nтарс-тұрс\\n\\nарс-ұрс\\n\\nжалт-жалт\\n\\nжалт-жұлт\\n\\nқалт-қалт\\n\\nқалт-құлт\\n\\nқаңқ-қаңқ\\n\\nқаңқ-құңқ\\n\\nшаңқ-шаңқ\\n\\nшаңқ-шұңқ\\n\\nарбаң-арбаң\\n\\nбүгжең-бүгжең\\n\\nарсалаң-арсалаң\\n\\nербелең-ербелең\\n\\nбатыр-бұтыр\\n\\nдалаң-далаң\\n\\nтарбаң-тарбаң\\n\\nқызараң-қызараң\\n\\nқаңғыр-күңгір\\n\\nқайқаң-құйқаң\\n\\nмитың-митың\\n\\nсалаң-сұлаң\\n\\nыржың-тыржың\\nбірақ\\nалайда\\nдегенмен\\nәйтпесе\\nәйткенмен\\nсебебі\\nөйткені\\nсондықтан\\nүшін\\nсайын\\nсияқты\\nтуралы\\nарқылы\\nбойы\\nбойымен\\nшамалы\\nшақты\\nқаралы\\nғұрлы\\nғұрлым\\nгөрі\\nбері\\nкейін\\nсоң\\nбұрын\\nбетер\\nқатар\\nбірге\\nқоса\\nшейін\\nдейін\\nқарай\\nтаман\\nсалым\\nтарта\\nжуық\\nтаяу\\nарнайы\\nосындай\\nғана\\nқана\\nтек\\nәншейін\\nछ\\nर\\nपनि\\nछन्\\nलागि\\nभएको\\nगरेको\\nभने\\nगर्न\\nगर्ने\\nहो\\nतथा\\nयो\\nरहेको\\nउनले\\nथियो\\nहुने\\nगरेका\\nथिए\\nगर्दै\\nतर\\nनै\\nको\\nमा\\nहुन्\\nभन्ने\\nहुन\\nगरी\\nत\\nहुन्छ\\nअब\\nके\\nरहेका\\nगरेर\\nछैन\\nदिए\\nभए\\nयस\\nले\\nगर्नु\\nऔं\\nसो\\nत्यो\\nकि\\nजुन\\nयी\\nका\\nगरि\\nती\\nन\\nछु\\nछौं\\nलाई\\nनि\\nउप\\nअक्सर\\nआदि\\nकसरी\\nक्रमशः\\nचाले\\nअगाडी\\nअझै\\nअनुसार\\nअन्तर्गत\\nअन्य\\nअन्यत्र\\nअन्यथा\\nअरु\\nअरुलाई\\nअर्को\\nअर्थात\\nअर्थात्\\nअलग\\nआए\\nआजको\\nओठ\\nआत्म\\nआफू\\nआफूलाई\\nआफ्नै\\nआफ्नो\\nआयो\\nउदाहरण\\nउनको\\nउहालाई\\nएउटै\\nएक\\nएकदम\\nकतै\\nकम से कम\\nकसै\\nकसैले\\nकहाँबाट\\nकहिलेकाहीं\\nका\\nकिन\\nकिनभने\\nकुनै\\nकुरा\\nकृपया\\nकेही\\nकोही\\nगए\\nगरौं\\nगर्छ\\nगर्छु\\nगर्नुपर्छ\\nगयौ\\nगैर\\nचार\\nचाहनुहुन्छ\\nचाहन्छु\\nचाहिए\\nछू\\nजताततै\\nजब\\nजबकि\\nजसको\\nजसबाट\\nजसमा\\nजसलाई\\nजसले\\nजस्तै\\nजस्तो\\nजस्तोसुकै\\nजहाँ\\nजान\\nजाहिर\\nजे\\nजो\\nठीक\\nतत्काल\\nतदनुसार\\nतपाईको\\nतपाई\\nपर्याप्त\\nपहिले\\nपहिलो\\nपहिल्यै\\nपाँच\\nपाँचौं\\nतल\\nतापनी\\nतिनी\\nतिनीहरू\\nतिनीहरुको\\nतिनिहरुलाई\\nतिमी\\nतिर\\nतीन\\nतुरुन्तै\\nतेस्रो\\nतेस्कारण\\nपूर्व\\nप्रति\\nप्रतेक\\nप्लस\\nफेरी\\nबने\\nत्सपछि\\nत्सैले\\nत्यहाँ\\nथिएन\\nदिनुभएको\\nदिनुहुन्छ\\nदुई\\nदेखि\\nबरु\\nबारे\\nबाहिर\\nदेखिन्छ\\nदेखियो\\nदेखे\\nदेखेको\\nदेखेर\\nदोस्रो\\nधेरै\\nनजिकै\\nनत्र\\nनयाँ\\nनिम्ति\\nबाहेक\\nबीच\\nबीचमा\\nभन\\nनिम्न\\nनिम्नानुसार\\nनिर्दिष्ट\\nनौ\\nपक्का\\nपक्कै\\nपछि\\nपछिल्लो\\nपटक\\nपर्छ\\nपर्थ्यो\\nभन्छन्\\nभन्\\nभन्छु\\nभन्दा\\nभन्नुभयो\\nभर\\nभित्र\\nभित्री\\nम\\nमलाई\\nमात्र\\nमाथि\\nमुख्य\\nमेरो\\nयति\\nयथोचित\\nयदि\\nयद्यपि\\nयसको\\nयसपछि\\nयसबाहेक\\nयसरी\\nयसो\\nयस्तो\\nयहाँ\\nयहाँसम्म\\nया\\nरही\\nराखे\\nराख्छ\\nराम्रो\\nरूप\\nलगभग\\nवरीपरी\\nवास्तवमा\\nबिरुद्ध\\nबिशेष\\nसायद\\nशायद\\nसंग\\nसंगै\\nसक्छ\\nसट्टा\\nसधै\\nसबै\\nसबैलाई\\nसमय\\nसम्भव\\nसम्म\\nसही\\nसाँच्चै\\nसात\\nसाथ\\nसाथै\\nसारा\\nसोही\\nस्पष्ट\\nहरे\\nहरेकog\\ni\\njeg\\ndet\\nat\\nen\\net\\nden\\ntil\\ner\\nsom\\npå\\nde\\nmed\\nhan\\nav\\nikke\\nikkje\\nder\\nså\\nvar\\nmeg\\nseg\\nmen\\nett\\nhar\\nom\\nvi\\nmin\\nmitt\\nha\\nhadde\\nhun\\nnå\\nover\\nda\\nved\\nfra\\ndu\\nut\\nsin\\ndem\\noss\\nopp\\nman\\nkan\\nhans\\nhvor\\neller\\nhva\\nskal\\nselv\\nsjøl\\nher\\nalle\\nvil\\nbli\\nble\\nblei\\nblitt\\nkunne\\ninn\\nnår\\nvære\\nkom\\nnoen\\nnoe\\nville\\ndere\\nsom\\nderes\\nkun\\nja\\netter\\nned\\nskulle\\ndenne\\nfor\\ndeg\\nsi\\nsine\\nsitt\\nmot\\nå\\nmeget\\nhvorfor\\ndette\\ndisse\\nuten\\nhvordan\\ningen\\ndin\\nditt\\nblir\\nsamme\\nhvilken\\nhvilke\\nsånn\\ninni\\nmellom\\nvår\\nhver\\nhvem\\nvors\\nhvis\\nbåde\\nbare\\nenn\\nfordi\\nfør\\nmange\\nogså\\nslik\\nvært\\nvære\\nbåe\\nbegge\\nsiden\\ndykk\\ndykkar\\ndei\\ndeira\\ndeires\\ndeim\\ndi\\ndå\\neg\\nein\\neit\\neitt\\nelles\\nhonom\\nhjå\\nho\\nhoe\\nhenne\\nhennar\\nhennes\\nhoss\\nhossen\\nikkje\\ningi\\ninkje\\nkorleis\\nkorso\\nkva\\nkvar\\nkvarhelst\\nkven\\nkvi\\nkvifor\\nme\\nmedan\\nmi\\nmine\\nmykje\\nno\\nnokon\\nnoka\\nnokor\\nnoko\\nnokre\\nsi\\nsia\\nsidan\\nso\\nsomt\\nsomme\\num\\nupp\\nvere\\nvore\\nverte\\nvort\\nvarte\\nvart\\na\\nà\\nao\\naos\\naquela\\naquelas\\naquele\\naqueles\\naquilo\\nas\\nàs\\naté\\ncom\\ncomo\\nda\\ndas\\nde\\ndela\\ndelas\\ndele\\ndeles\\ndepois\\ndo\\ndos\\ne\\né\\nela\\nelas\\nele\\neles\\nem\\nentre\\nera\\neram\\néramos\\nessa\\nessas\\nesse\\nesses\\nesta\\nestá\\nestamos\\nestão\\nestar\\nestas\\nestava\\nestavam\\nestávamos\\neste\\nesteja\\nestejam\\nestejamos\\nestes\\nesteve\\nestive\\nestivemos\\nestiver\\nestivera\\nestiveram\\nestivéramos\\nestiverem\\nestivermos\\nestivesse\\nestivessem\\nestivéssemos\\nestou\\neu\\nfoi\\nfomos\\nfor\\nfora\\nforam\\nfôramos\\nforem\\nformos\\nfosse\\nfossem\\nfôssemos\\nfui\\nhá\\nhaja\\nhajam\\nhajamos\\nhão\\nhavemos\\nhaver\\nhei\\nhouve\\nhouvemos\\nhouver\\nhouvera\\nhouverá\\nhouveram\\nhouvéramos\\nhouverão\\nhouverei\\nhouverem\\nhouveremos\\nhouveria\\nhouveriam\\nhouveríamos\\nhouvermos\\nhouvesse\\nhouvessem\\nhouvéssemos\\nisso\\nisto\\njá\\nlhe\\nlhes\\nmais\\nmas\\nme\\nmesmo\\nmeu\\nmeus\\nminha\\nminhas\\nmuito\\nna\\nnão\\nnas\\nnem\\nno\\nnos\\nnós\\nnossa\\nnossas\\nnosso\\nnossos\\nnum\\nnuma\\no\\nos\\nou\\npara\\npela\\npelas\\npelo\\npelos\\npor\\nqual\\nquando\\nque\\nquem\\nsão\\nse\\nseja\\nsejam\\nsejamos\\nsem\\nser\\nserá\\nserão\\nserei\\nseremos\\nseria\\nseriam\\nseríamos\\nseu\\nseus\\nsó\\nsomos\\nsou\\nsua\\nsuas\\ntambém\\nte\\ntem\\ntém\\ntemos\\ntenha\\ntenham\\ntenhamos\\ntenho\\nterá\\nterão\\nterei\\nteremos\\nteria\\nteriam\\nteríamos\\nteu\\nteus\\nteve\\ntinha\\ntinham\\ntínhamos\\ntive\\ntivemos\\ntiver\\ntivera\\ntiveram\\ntivéramos\\ntiverem\\ntivermos\\ntivesse\\ntivessem\\ntivéssemos\\ntu\\ntua\\ntuas\\num\\numa\\nvocê\\nvocês\\nvos\\na\\nabia\\nacea\\naceasta\\naceastă\\naceea\\naceeasi\\nacei\\naceia\\nacel\\nacela\\nacelasi\\nacele\\nacelea\\nacest\\nacesta\\naceste\\nacestea\\nacestei\\nacestia\\nacestui\\naceşti\\naceştia\\nadica\\nai\\naia\\naibă\\naici\\nal\\nala\\nale\\nalea\\nalt\\nalta\\naltceva\\naltcineva\\nalte\\naltfel\\nalti\\naltii\\naltul\\nam\\nanume\\napoi\\nar\\nare\\nas\\nasa\\nasta\\nastea\\nastfel\\nasupra\\natare\\natat\\natata\\natatea\\natatia\\nati\\natit\\natita\\natitea\\natitia\\natunci\\nau\\navea\\navem\\naveţi\\navut\\naş\\naţi\\nba\\nca\\ncam\\ncand\\ncare\\ncareia\\ncarora\\ncaruia\\ncat\\ncatre\\nce\\ncea\\nceea\\ncei\\nceilalti\\ncel\\ncele\\ncelor\\nceva\\nchiar\\nci\\ncind\\ncine\\ncineva\\ncit\\ncita\\ncite\\nciteva\\nciti\\ncitiva\\ncu\\ncui\\ncum\\ncumva\\ncât\\ncâte\\ncâtva\\ncâţi\\ncînd\\ncît\\ncîte\\ncîtva\\ncîţi\\ncă\\ncăci\\ncărei\\ncăror\\ncărui\\ncătre\\nda\\ndaca\\ndacă\\ndar\\ndat\\ndată\\ndau\\nde\\ndeasupra\\ndeci\\ndecit\\ndeja\\ndesi\\ndespre\\ndeşi\\ndin\\ndintr\\ndintr-\\ndintre\\ndoar\\ndoi\\ndoilea\\ndouă\\ndrept\\ndupa\\ndupă\\ndă\\ne\\nea\\nei\\nel\\nele\\nera\\neram\\neste\\neu\\neşti\\nface\\nfara\\nfata\\nfel\\nfi\\nfie\\nfiecare\\nfii\\nfim\\nfiu\\nfiţi\\nfoarte\\nfost\\nfără\\ni\\nia\\niar\\nii\\nil\\nimi\\nin\\ninainte\\ninapoi\\ninca\\nincit\\ninsa\\nintr\\nintre\\nisi\\niti\\nla\\nle\\nli\\nlor\\nlui\\nlângă\\nlîngă\\nm\\nma\\nmai\\nmea\\nmei\\nmele\\nmereu\\nmeu\\nmi\\nmie\\nmine\\nmod\\nmult\\nmulta\\nmulte\\nmulti\\nmultă\\nmulţi\\nmâine\\nmîine\\nmă\\nne\\nni\\nnici\\nnimeni\\nnimic\\nniste\\nnişte\\nnoastre\\nnoastră\\nnoi\\nnostri\\nnostru\\nnou\\nnoua\\nnouă\\nnoştri\\nnu\\nnumai\\no\\nor\\nori\\noricare\\norice\\noricine\\noricum\\noricând\\noricât\\noricînd\\noricît\\noriunde\\npai\\nparca\\npatra\\npatru\\npe\\npentru\\npeste\\npic\\npina\\npoate\\npot\\nprea\\nprima\\nprimul\\nprin\\nprintr-\\nputini\\npuţin\\npuţina\\npuţină\\npână\\npînă\\nsa\\nsa-mi\\nsa-ti\\nsai\\nsale\\nsau\\nse\\nsi\\nsint\\nsintem\\nspate\\nspre\\nsub\\nsunt\\nsuntem\\nsunteţi\\nsus\\nsă\\nsăi\\nsău\\nt\\nta\\ntale\\nte\\nti\\ntine\\ntoata\\ntoate\\ntoată\\ntocmai\\ntot\\ntoti\\ntotul\\ntotusi\\ntotuşi\\ntoţi\\ntrei\\ntreia\\ntreilea\\ntu\\ntuturor\\ntăi\\ntău\\nu\\nul\\nului\\nun\\nuna\\nunde\\nundeva\\nunei\\nuneia\\nunele\\nuneori\\nunii\\nunor\\nunora\\nunu\\nunui\\nunuia\\nunul\\nv\\nva\\nvi\\nvoastre\\nvoastră\\nvoi\\nvom\\nvor\\nvostru\\nvouă\\nvoştri\\nvreo\\nvreun\\nvă\\nzi\\nzice\\nîi\\nîl\\nîmi\\nîn\\nîţi\\năla\\nălea\\năsta\\năstea\\năştia\\nşi\\nţi\\nţieи\\nв\\nво\\nне\\nчто\\nон\\nна\\nя\\nс\\nсо\\nкак\\nа\\nто\\nвсе\\nона\\nтак\\nего\\nно\\nда\\nты\\nк\\nу\\nже\\nвы\\nза\\nбы\\nпо\\nтолько\\nее\\nмне\\nбыло\\nвот\\nот\\nменя\\nеще\\nнет\\nо\\nиз\\nему\\nтеперь\\nкогда\\nдаже\\nну\\nвдруг\\nли\\nесли\\nуже\\nили\\nни\\nбыть\\nбыл\\nнего\\nдо\\nвас\\nнибудь\\nопять\\nуж\\nвам\\nведь\\nтам\\nпотом\\nсебя\\nничего\\nей\\nможет\\nони\\nтут\\nгде\\nесть\\nнадо\\nней\\nдля\\nмы\\nтебя\\nих\\nчем\\nбыла\\nсам\\nчтоб\\nбез\\nбудто\\nчего\\nраз\\nтоже\\nсебе\\nпод\\nбудет\\nж\\nтогда\\nкто\\nэтот\\nтого\\nпотому\\nэтого\\nкакой\\nсовсем\\nним\\nздесь\\nэтом\\nодин\\nпочти\\nмой\\nтем\\nчтобы\\nнее\\nсейчас\\nбыли\\nкуда\\nзачем\\nвсех\\nникогда\\nможно\\nпри\\nнаконец\\nдва\\nоб\\nдругой\\nхоть\\nпосле\\nнад\\nбольше\\nтот\\nчерез\\nэти\\nнас\\nпро\\nвсего\\nних\\nкакая\\nмного\\nразве\\nтри\\nэту\\nмоя\\nвпрочем\\nхорошо\\nсвою\\nэтой\\nперед\\nиногда\\nлучше\\nчуть\\nтом\\nнельзя\\nтакой\\nим\\nболее\\nвсегда\\nконечно\\nвсю\\nмежду\\nali\\nampak\\nbodisi\\nin\\nkajti\\nmarveč\\nnamreč\\nne\\nniti\\noziroma\\npa\\nsaj\\nsicer\\ntemveč\\nter\\ntoda\\ntorej\\nvendar\\nvendarle\\nzakaj\\nče\\nčeprav\\nčeravno\\nčetudi\\nčim\\nda\\nkadar\\nkakor\\nker\\nki\\nko\\nkot\\nnaj\\nnajsi\\nodkar\\npreden\\ndve\\ndvema\\ndveh\\nšest\\nšestdeset\\nšestindvajset\\nšestintrideset\\nšestnajst\\nšeststo\\nštiri\\nštirideset\\nštiriindvajset\\nštirinajst\\nštiristo\\ndeset\\ndevet\\ndevetdeset\\ndevetintrideset\\ndevetnajst\\ndevetsto\\ndvainšestdeset\\ndvaindvajset\\ndvajset\\ndvanajst\\ndvesto\\nenaindvajset\\nenaintrideset\\nenajst\\nnič\\nosem\\nosemdeset\\noseminštirideset\\nosemindevetdeset\\nosemnajst\\npet\\npetdeset\\npetinštirideset\\npetindevetdeset\\npetindvajset\\npetinosemdeset\\npetinpetdeset\\npetinsedemdeset\\npetintrideset\\npetnajst\\npetsto\\nsedem\\nsedemdeset\\nsedeminšestdeset\\nsedemindvajset\\nsedeminpetdeset\\nsedemnajst\\nsedemsto\\nsto\\ntisoč\\ntri\\ntrideset\\ntriinšestdeset\\ntriindvajset\\ntriinpetdeset\\ntrinajst\\ntristo\\nšestdesetim\\nšestim\\nšestindvajsetim\\nšestintridesetim\\nšestnajstim\\nšeststotim\\nštiridesetim\\nštiriindvajsetim\\nštirim\\nštirinajstim\\nštiristotim\\ndesetim\\ndevetdesetim\\ndevetim\\ndevetintridesetim\\ndevetnajstim\\ndevetstotim\\ndvainšestdesetim\\ndvaindvajsetim\\ndvajsetim\\ndvanajstim\\ndvestotim\\nenaindvajsetim\\nenaintridesetim\\nenajstim\\nosemdesetim\\noseminštiridesetim\\nosemindevetdesetim\\nosemnajstim\\nosmim\\npetdesetim\\npetim\\npetinštiridesetim\\npetindevetdesetim\\npetindvajsetim\\npetinosemdesetim\\npetinpetdesetim\\npetinsedemdesetim\\npetintridesetim\\npetnajstim\\npetstotim\\nsedemdesetim\\nsedeminšestdesetim\\nsedemindvajsetim\\nsedeminpetdesetim\\nsedemnajstim\\nsedemstotim\\nsedmim\\nstotim\\ntisočim\\ntrem\\ntridesetim\\ntriinšestdesetim\\ntriindvajsetim\\ntriinpetdesetim\\ntrinajstim\\ntristotim\\nšestdesetih\\nšestih\\nšestindvajsetih\\nšestintridesetih\\nšestnajstih\\nšeststotih\\nštiridesetih\\nštirih\\nštiriindvajsetih\\nštirinajstih\\nštiristotih\\ndesetih\\ndevetdesetih\\ndevetih\\ndevetintridesetih\\ndevetnajstih\\ndevetstotih\\ndvainšestdesetih\\ndvaindvajsetih\\ndvajsetih\\ndvanajstih\\ndvestotih\\nenaindvajsetih\\nenaintridesetih\\nenajstih\\nosemdesetih\\noseminštiridesetih\\nosemindevetdesetih\\nosemnajstih\\nosmih\\npetdesetih\\npetih\\npetinštiridesetih\\npetindevetdesetih\\npetindvajsetih\\npetinosemdesetih\\npetinpetdesetih\\npetinsedemdesetih\\npetintridesetih\\npetnajstih\\npetstotih\\nsedemdesetih\\nsedeminšestdesetih\\nsedemindvajsetih\\nsedeminpetdesetih\\nsedemnajstih\\nsedemstotih\\nsedmih\\nstotih\\ntisočih\\ntreh\\ntridesetih\\ntriinšestdesetih\\ntriindvajsetih\\ntriinpetdesetih\\ntrinajstih\\ntristotih\\nšestdesetimi\\nšestimi\\nšestindvajsetimi\\nšestintridesetimi\\nšestnajstimi\\nšeststotimi\\nštiridesetimi\\nštiriindvajsetimi\\nštirimi\\nštirinajstimi\\nštiristotimi\\ndesetimi\\ndevetdesetimi\\ndevetimi\\ndevetintridesetimi\\ndevetnajstimi\\ndevetstotimi\\ndvainšestdesetimi\\ndvaindvajsetimi\\ndvajsetimi\\ndvanajstimi\\ndvestotimi\\nenaindvajsetimi\\nenaintridesetimi\\nenajstimi\\nosemdesetimi\\noseminštiridesetimi\\nosemindevetdesetimi\\nosemnajstimi\\nosmimi\\npetdesetimi\\npetimi\\npetinštiridesetimi\\npetindevetdesetimi\\npetindvajsetimi\\npetinosemdesetimi\\npetinpetdesetimi\\npetinsedemdesetimi\\npetintridesetimi\\npetnajstimi\\npetstotimi\\nsedemdesetimi\\nsedeminšestdesetimi\\nsedemindvajsetimi\\nsedeminpetdesetimi\\nsedemnajstimi\\nsedemstotimi\\nsedmimi\\nstotimi\\ntisočimi\\ntremi\\ntridesetimi\\ntriinšestdesetimi\\ntriindvajsetimi\\ntriinpetdesetimi\\ntrinajstimi\\ntristotimi\\neno\\neni\\nene\\nena\\ndva\\nštirje\\ntrije\\nen\\nenega\\nenemu\\nenim\\nenem\\neden\\ndvojni\\ntrojni\\ndvojnima\\ntrojnima\\ndvojnih\\ntrojnih\\ndvojne\\ntrojne\\ndvojnim\\ntrojnim\\ndvojnimi\\ntrojnimi\\ndvojno\\ntrojno\\ndvojna\\ntrojna\\ndvojnega\\ntrojnega\\ndvojen\\ntrojen\\ndvojnemu\\ntrojnemu\\ndvojnem\\ntrojnem\\nčetrti\\nšestdeseti\\nšesti\\nšestnajsti\\nštirideseti\\nštiriindvajseti\\nštirinajsti\\ndeseti\\ndevetdeseti\\ndeveti\\ndevetnajsti\\ndrugi\\ndvaindevetdeseti\\ndvajseti\\ndvanajsti\\ndvestoti\\nenaindvajseti\\nenajsti\\nosemdeseti\\nosemnajsti\\nosmi\\npetdeseti\\npeti\\npetinštirideseti\\npetindvajseti\\npetinosemdeseti\\npetintrideseti\\npetnajsti\\nprvi\\nsedemdeseti\\nsedemindvajseti\\nsedemnajsti\\nsedmi\\nstoti\\ntisoči\\ntretji\\ntrideseti\\ntriindvajseti\\ntriintrideseti\\ntrinajsti\\ntristoti\\nčetrtima\\nšestdesetima\\nšestima\\nšestnajstima\\nštiridesetima\\nštiriindvajsetima\\nštirinajstima\\ndesetima\\ndevetdesetima\\ndevetima\\ndevetnajstima\\ndrugima\\ndvaindevetdesetima\\ndvajsetima\\ndvanajstima\\ndvestotima\\nenaindvajsetima\\nenajstima\\nosemdesetima\\nosemnajstima\\nosmima\\npetdesetima\\npetima\\npetinštiridesetima\\npetindvajsetima\\npetinosemdesetima\\npetintridesetima\\npetnajstima\\nprvima\\nsedemdesetima\\nsedemindvajsetima\\nsedemnajstima\\nsedmima\\nstotima\\ntisočima\\ntretjima\\ntridesetima\\ntriindvajsetima\\ntriintridesetima\\ntrinajstima\\ntristotima\\nčetrtih\\ndrugih\\ndvaindevetdesetih\\nprvih\\ntretjih\\ntriintridesetih\\nčetrte\\nšestdesete\\nšeste\\nšestnajste\\nštiridesete\\nštiriindvajsete\\nštirinajste\\ndesete\\ndevetdesete\\ndevete\\ndevetnajste\\ndruge\\ndvaindevetdesete\\ndvajsete\\ndvanajste\\ndvestote\\nenaindvajsete\\nenajste\\nosemdesete\\nosemnajste\\nosme\\npetdesete\\npete\\npetinštiridesete\\npetindvajsete\\npetinosemdesete\\npetintridesete\\npetnajste\\nprve\\nsedemdesete\\nsedemindvajsete\\nsedemnajste\\nsedme\\nstote\\ntisoče\\ntretje\\ntridesete\\ntriindvajsete\\ntriintridesete\\ntrinajste\\ntristote\\nčetrtim\\ndrugim\\ndvaindevetdesetim\\nprvim\\ntretjim\\ntriintridesetim\\nčetrtimi\\ndrugimi\\ndvaindevetdesetimi\\nprvimi\\ntretjimi\\ntriintridesetimi\\nčetrto\\nšestdeseto\\nšestnajsto\\nšesto\\nštirideseto\\nštiriindvajseto\\nštirinajsto\\ndeseto\\ndevetdeseto\\ndevetnajsto\\ndeveto\\ndrugo\\ndvaindevetdeseto\\ndvajseto\\ndvanajsto\\ndvestoto\\nenaindvajseto\\nenajsto\\nosemdeseto\\nosemnajsto\\nosmo\\npetdeseto\\npetinštirideseto\\npetindvajseto\\npetinosemdeseto\\npetintrideseto\\npetnajsto\\npeto\\nprvo\\nsedemdeseto\\nsedemindvajseto\\nsedemnajsto\\nsedmo\\nstoto\\ntisočo\\ntretjo\\ntrideseto\\ntriindvajseto\\ntriintrideseto\\ntrinajsto\\ntristoto\\nčetrta\\nšesta\\nšestdeseta\\nšestnajsta\\nštirideseta\\nštiriindvajseta\\nštirinajsta\\ndeseta\\ndeveta\\ndevetdeseta\\ndevetnajsta\\ndruga\\ndvaindevetdeseta\\ndvajseta\\ndvanajsta\\ndvestota\\nenaindvajseta\\nenajsta\\nosemdeseta\\nosemnajsta\\nosma\\npeta\\npetdeseta\\npetinštirideseta\\npetindvajseta\\npetinosemdeseta\\npetintrideseta\\npetnajsta\\nprva\\nsedemdeseta\\nsedemindvajseta\\nsedemnajsta\\nsedma\\nstota\\ntisoča\\ntretja\\ntrideseta\\ntriindvajseta\\ntriintrideseta\\ntrinajsta\\ntristota\\nčetrtega\\nšestdesetega\\nšestega\\nšestnajstega\\nštiridesetega\\nštiriindvajsetega\\nštirinajstega\\ndesetega\\ndevetdesetega\\ndevetega\\ndevetnajstega\\ndrugega\\ndvaindevetdesetega\\ndvajsetega\\ndvanajstega\\ndvestotega\\nenaindvajsetega\\nenajstega\\nosemdesetega\\nosemnajstega\\nosmega\\npetdesetega\\npetega\\npetinštiridesetega\\npetindvajsetega\\npetinosemdesetega\\npetintridesetega\\npetnajstega\\nprvega\\nsedemdesetega\\nsedemindvajsetega\\nsedemnajstega\\nsedmega\\nstotega\\ntisočega\\ntretjega\\ntridesetega\\ntriindvajsetega\\ntriintridesetega\\ntrinajstega\\ntristotega\\nčetrtemu\\nšestdesetemu\\nšestemu\\nšestnajstemu\\nštiridesetemu\\nštiriindvajsetemu\\nštirinajstemu\\ndesetemu\\ndevetdesetemu\\ndevetemu\\ndevetnajstemu\\ndrugemu\\ndvaindevetdesetemu\\ndvajsetemu\\ndvanajstemu\\ndvestotemu\\nenaindvajsetemu\\nenajstemu\\nosemdesetemu\\nosemnajstemu\\nosmemu\\npetdesetemu\\npetemu\\npetinštiridesetemu\\npetindvajsetemu\\npetinosemdesetemu\\npetintridesetemu\\npetnajstemu\\nprvemu\\nsedemdesetemu\\nsedemindvajsetemu\\nsedemnajstemu\\nsedmemu\\nstotemu\\ntisočemu\\ntretjemu\\ntridesetemu\\ntriindvajsetemu\\ntriintridesetemu\\ntrinajstemu\\ntristotemu\\nčetrtem\\nšestdesetem\\nšestem\\nšestnajstem\\nštiridesetem\\nštiriindvajsetem\\nštirinajstem\\ndesetem\\ndevetdesetem\\ndevetem\\ndevetnajstem\\ndrugem\\ndvaindevetdesetem\\ndvajsetem\\ndvanajstem\\ndvestotem\\nenaindvajsetem\\nenajstem\\nosemdesetem\\nosemnajstem\\nosmem\\npetdesetem\\npetem\\npetinštiridesetem\\npetindvajsetem\\npetinosemdesetem\\npetintridesetem\\npetnajstem\\nprvem\\nsedemdesetem\\nsedemindvajsetem\\nsedemnajstem\\nsedmem\\nstotem\\ntisočem\\ntretjem\\ntridesetem\\ntriindvajsetem\\ntriintridesetem\\ntrinajstem\\ntristotem\\ndeseteri\\ndvakratni\\ndvoji\\nenkratni\\npeteri\\nstoteri\\ntisočeri\\ntrikratni\\ntroji\\ndeseterima\\ndvakratnima\\ndvojima\\nenkratnima\\npeterima\\nstoterima\\ntisočerima\\ntrikratnima\\ntrojima\\ndeseterih\\ndvakratnih\\ndvojih\\nenkratnih\\npeterih\\nstoterih\\ntisočerih\\ntrikratnih\\ntrojih\\ndesetere\\ndvakratne\\ndvoje\\nenkratne\\npetere\\nstotere\\ntisočere\\ntrikratne\\ntroje\\ndeseterim\\ndvakratnim\\ndvojim\\nenkratnim\\npeterim\\nstoterim\\ntisočerim\\ntrikratnim\\ntrojim\\ndeseterimi\\ndvakratnimi\\ndvojimi\\nenkratnimi\\npeterimi\\nstoterimi\\ntisočerimi\\ntrikratnimi\\ntrojimi\\ndesetero\\ndvakratno\\ndvojo\\nenkratno\\npetero\\nstotero\\ntisočero\\ntrikratno\\ntrojo\\ndesetera\\ndvakratna\\ndvoja\\nenkratna\\npetera\\nstotera\\ntisočera\\ntrikratna\\ntroja\\ndeseterega\\ndvakratnega\\ndvojega\\nenkratnega\\npeterega\\nstoterega\\ntisočerega\\ntrikratnega\\ntrojega\\ndeseter\\ndvakraten\\ndvoj\\nenkraten\\npeter\\nstoter\\ntisočer\\ntrikraten\\ntroj\\ndeseteremu\\ndvakratnemu\\ndvojemu\\nenkratnemu\\npeteremu\\nstoteremu\\ntisočeremu\\ntrikratnemu\\ntrojemu\\ndeseterem\\ndvakratnem\\ndvojem\\nenkratnem\\npeterem\\nstoterem\\ntisočerem\\ntrikratnem\\ntrojem\\nle-onega\\nle-tega\\nle-tistega\\nle-toliko\\nonega\\ntega\\ntistega\\ntoliko\\nle-oni\\nle-takšni\\nle-taki\\nle-te\\nle-ti\\nle-tisti\\noni\\ntakšni\\ntaki\\nte\\nti\\ntisti\\nle-onima\\nle-takšnima\\nle-takima\\nle-tema\\nle-tistima\\nonima\\ntakšnima\\ntakima\\ntema\\ntistima\\nle-onih\\nle-takšnih\\nle-takih\\nle-teh\\nle-tistih\\nonih\\ntakšnih\\ntakih\\nteh\\ntistih\\nle-one\\nle-takšne\\nle-take\\nle-tiste\\none\\ntakšne\\ntake\\ntiste\\nle-onim\\nle-takšnim\\nle-takim\\nle-tem\\nle-tistim\\nonim\\ntakšnim\\ntakim\\ntem\\ntistim\\nle-onimi\\nle-takšnimi\\nle-takimi\\nle-temi\\nle-tistimi\\nonimi\\ntakšnimi\\ntakimi\\ntemi\\ntistimi\\nle-ono\\nle-takšno\\nle-tako\\nle-tisto\\nle-to\\nono\\ntakšno\\ntako\\ntisto\\nto\\nle-tej\\ntej\\nle-ona\\nle-ta\\nle-takšna\\nle-taka\\nle-tista\\nona\\nta\\ntakšna\\ntaka\\ntista\\nle-tak\\nle-takšen\\ntak\\ntakšen\\nle-takšnega\\nle-takega\\ntakšnega\\ntakega\\nle-onemu\\nle-takšnemu\\nle-takemu\\nle-temu\\nle-tistemu\\nonemu\\ntakšnemu\\ntakemu\\ntemu\\ntemuintemu\\ntistemu\\nle-onem\\nle-takšnem\\nle-takem\\nle-tistem\\nonem\\ntakšnem\\ntakem\\ntistem\\nvsakogar\\nvsakomur\\nvsakomer\\nvsakdo\\nobe\\nvsaki\\nvsakršni\\nvsi\\nobema\\nvsakima\\nvsakršnima\\nvsema\\nobeh\\nvsakih\\nvsakršnih\\nvseh\\nvsake\\nvsakršne\\nvse\\nvsakim\\nvsakršnim\\nvsem\\nvsakimi\\nvsakršnimi\\nvsemi\\nvsako\\nvsakršno\\nvso\\nvsej\\nvsa\\nvsaka\\nvsakršna\\noba\\nves\\nvsak\\nvsakršen\\nvsakega\\nvsakršnega\\nvsega\\nvsakemu\\nvsakršnemu\\nvsemu\\nvsakem\\nvsakršnem\\nenako\\nistega\\nkoliko\\nmnogo\\nnekoga\\nnekoliko\\nprecej\\nkaj\\nkoga\\nmarsikaj\\nmarsikoga\\nnekaj\\nčemu\\nkomu\\nmarsičemu\\nmarsikomu\\nnečemu\\nnekomu\\nčesa\\nmarsičesa\\nnečesa\\nkom\\nmarsičim\\nmarsikom\\nnečim\\nnekom\\nčem\\nmarsičem\\nnečem\\nkdo\\nmarsikdo\\nnekdo\\nčigavi\\ndrugačni\\nenaki\\nisti\\nkakšni\\nkaki\\nkakršnikoli\\nkateri\\nkaterikoli\\nkolikšni\\nkoliki\\nmarsikateri\\nnekakšni\\nnekaki\\nnekateri\\nneki\\ntakile\\ntele\\ntile\\ntolikšni\\ntoliki\\nčigavima\\ndrugačnima\\nenakima\\nenima\\nistima\\nkakšnima\\nkakima\\nkakršnimakoli\\nkaterima\\nkaterimakoli\\nkolikšnima\\nkolikima\\nmarsikaterima\\nnekakšnima\\nnekakima\\nnekaterima\\nnekima\\ntakimale\\ntemale\\ntolikšnima\\ntolikima\\nčigavih\\ndrugačnih\\nenakih\\nenih\\nistih\\nkakšnih\\nkakih\\nkakršnihkoli\\nkaterih\\nkaterihkoli\\nkolikšnih\\nkolikih\\nmarsikaterih\\nnekakšnih\\nnekakih\\nnekaterih\\nnekih\\ntakihle\\ntehle\\ntolikšnih\\ntolikih\\nčigave\\ndrugačne\\nenake\\niste\\nkakšne\\nkake\\nkakršnekoli\\nkatere\\nkaterekoli\\nkolikšne\\nkolike\\nmarsikatere\\nnekakšne\\nnekake\\nnekatere\\nneke\\ntakele\\ntolikšne\\ntolike\\nčigavim\\ndrugačnim\\nenakim\\nistim\\nkakšnim\\nkakim\\nkakršnimkoli\\nkaterim\\nkaterimkoli\\nkolikšnim\\nkolikim\\nmarsikaterim\\nnekakšnim\\nnekakim\\nnekaterim\\nnekim\\ntakimle\\ntemle\\ntolikšnim\\ntolikim\\nčigavimi\\ndrugačnimi\\nenakimi\\nenimi\\nistimi\\nkakšnimi\\nkakimi\\nkakršnimikoli\\nkaterimi\\nkaterimikoli\\nkolikšnimi\\nkolikimi\\nmarsikaterimi\\nnekakšnimi\\nnekakimi\\nnekaterimi\\nnekimi\\ntakimile\\ntemile\\ntolikšnimi\\ntolikimi\\nčigavo\\ndrugačno\\nisto\\nkakšno\\nkako\\nkakršnokoli\\nkatero\\nkaterokoli\\nkolikšno\\nmarsikatero\\nnekakšno\\nnekako\\nnekatero\\nneko\\ntakole\\ntole\\ntolikšno\\ntejle\\nčigava\\ndrugačna\\nenaka\\nista\\nkakšna\\nkaka\\nkakršnakoli\\nkatera\\nkaterakoli\\nkolikšna\\nkolika\\nmarsikatera\\nneka\\nnekakšna\\nnekaka\\nnekatera\\ntakale\\ntale\\ntolikšna\\ntolika\\nčigav\\ndrug\\ndrugačen\\nenak\\nkak\\nkakšen\\nkakršenkoli\\nkakršnegakoli\\nkateregakoli\\nkolik\\nkolikšen\\nnek\\nnekak\\nnekakšen\\ntakegale\\ntakle\\ntegale\\ntolik\\ntolikšen\\nčigavega\\ndrugačnega\\nenakega\\nkakšnega\\nkakega\\nkaterega\\nkolikšnega\\nkolikega\\nmarsikaterega\\nnekakšnega\\nnekakega\\nnekaterega\\nnekega\\ntolikšnega\\ntolikega\\nčigavemu\\ndrugačnemu\\nenakemu\\nistemu\\nkakšnemu\\nkakemu\\nkakršnemukoli\\nkateremu\\nkateremukoli\\nkolikšnemu\\nkolikemu\\nmarsikateremu\\nnekakšnemu\\nnekakemu\\nnekateremu\\nnekemu\\ntakemule\\ntemule\\ntolikšnemu\\ntolikemu\\nčigavem\\ndrugačnem\\nenakem\\nistem\\nkakšnem\\nkakem\\nkakršnemkoli\\nkaterem\\nkateremkoli\\nkolikšnem\\nkolikem\\nmarsikaterem\\nnekakšnem\\nnekakem\\nnekaterem\\nnekem\\ntakemle\\ntolikšnem\\ntolikem\\nnaju\\nnama\\nmidva\\nnas\\nnam\\nnami\\nmi\\nmene\\nme\\nmeni\\nmano\\nmenoj\\njaz\\nvaju\\nvama\\nvidva\\nvas\\nvam\\nvami\\nvi\\ntebe\\ntebi\\ntabo\\nteboj\\nnjiju\\njih\\nju\\nnjima\\njima\\nonedve\\nonidve\\nnje\\nnjih\\nnjim\\njim\\nnjimi\\nnjo\\njo\\nnjej\\nnji\\nji\\nje\\nonadva\\nnjega\\nga\\nnjemu\\nmu\\nnjem\\non\\nčigar\\nkolikor\\nkar\\nkarkoli\\nkogar\\nkogarkoli\\nčemur\\nčemurkoli\\nkomur\\nkomurkoli\\nčesar\\nčesarkoli\\nčimer\\nčimerkoli\\nkomer\\nkomerkoli\\nčemer\\nčemerkoli\\nkdor\\nkdorkoli\\nkakršni\\nkakršnima\\nkakršnih\\nkakršne\\nkakršnim\\nkakršnimi\\nkakršno\\nkakršna\\nkakršen\\nkakršnega\\nkakršnemu\\nkakršnem\\nnajini\\nnaši\\nmoji\\nnajinima\\nnašima\\nmojima\\nnajinih\\nnaših\\nmojih\\nnajine\\nnaše\\nmoje\\nnajinim\\nnašim\\nmojim\\nnajinimi\\nnašimi\\nmojimi\\nnajino\\nnašo\\nmojo\\nnajina\\nnaša\\nmoja\\nnajin\\nnajinega\\nnaš\\nnašega\\nmoj\\nmojega\\nnajinemu\\nnašemu\\nmojemu\\nnajinem\\nnašem\\nmojem\\nvajini\\nvaši\\ntvoji\\nvajinima\\nvašima\\ntvojima\\nvajinih\\nvaših\\ntvojih\\nvajine\\nvaše\\ntvoje\\nvajinim\\nvašim\\ntvojim\\nvajinimi\\nvašimi\\ntvojimi\\nvajino\\nvašo\\ntvojo\\nvajina\\nvaša\\ntvoja\\nvajin\\nvajinega\\nvaš\\nvašega\\ntvoj\\ntvojega\\nvajinemu\\nvašemu\\ntvojemu\\nvajinem\\nvašem\\ntvojem\\nnjuni\\nnjihovi\\nnjeni\\nnjegovi\\nnjunima\\nnjihovima\\nnjenima\\nnjegovima\\nnjunih\\nnjihovih\\nnjenih\\nnjegovih\\nnjune\\nnjihove\\nnjene\\nnjegove\\nnjunim\\nnjihovim\\nnjenim\\nnjegovim\\nnjunimi\\nnjihovimi\\nnjenimi\\nnjegovimi\\nnjuno\\nnjihovo\\nnjeno\\nnjegovo\\nnjuna\\nnjihova\\nnjena\\nnjegova\\nnjun\\nnjunega\\nnjihov\\nnjihovega\\nnjen\\nnjenega\\nnjegov\\nnjegovega\\nnjunemu\\nnjihovemu\\nnjenemu\\nnjegovemu\\nnjunem\\nnjihovem\\nnjenem\\nnjegovem\\nse\\nsi\\nsebe\\nsebi\\nsabo\\nseboj\\nsvoji\\nsvojima\\nsvojih\\nsvoje\\nsvojim\\nsvojimi\\nsvojo\\nsvoja\\nsvoj\\nsvojega\\nsvojemu\\nsvojem\\nnikogar\\nnoben\\nničemur\\nnikomur\\nničesar\\nničimer\\nnikomer\\nničemer\\nnihče\\nnikakršni\\nnobeni\\nnikakršnima\\nnobenima\\nnikakršnih\\nnobenih\\nnikakršne\\nnobene\\nnikakršnim\\nnobenim\\nnikakršnimi\\nnobenimi\\nnikakršno\\nnobeno\\nnikakršna\\nnobena\\nnikakršen\\nnikakršnega\\nnobenega\\nnikakršnemu\\nnobenemu\\nnikakršnem\\nnobenem\\nše\\nšele\\nžal\\nže\\nbaje\\nbojda\\nbržčas\\nbržkone\\ncelo\\ndobesedno\\ndomala\\nedinole\\ngotovo\\nitak\\nja\\nkajne\\nkajpada\\nkajpak\\nkoli\\nkomaj\\nle\\nmalone\\nmar\\nmenda\\nmorda\\nmorebiti\\nnadvse\\nnajbrž\\nnemara\\nnerad\\nneradi\\nnikar\\npač\\npogodu\\nprav\\npravzaprav\\npredvsem\\npreprosto\\nrad\\nrada\\nrade\\nradi\\nravno\\nres\\nresda\\nsamo\\nseveda\\nskoraj\\nskorajda\\nspet\\nsploh\\ntudi\\nvšeč\\nverjetno\\nvnovič\\nvred\\nvsaj\\nzadosti\\nzapored\\nzares\\nzgolj\\nzlasti\\nzopet\\nčezenj\\nčeznje\\nmednje\\nmednju\\nmedse\\nnadenj\\nnadme\\nnadnje\\nname\\nnanj\\nnanje\\nnanjo\\nnanju\\nnase\\nnate\\nobenj\\npodnjo\\npome\\nponj\\nponje\\nponjo\\npote\\npredenj\\npredme\\nprednje\\npredse\\nskozenj\\nskoznje\\nskoznjo\\nskozte\\nvame\\nvanj\\nvanje\\nvanjo\\nvanju\\nvase\\nvate\\nzame\\nzanj\\nzanje\\nzanjo\\nzanju\\nzase\\nzate\\nčez\\nmed\\nna\\nnad\\nob\\npo\\npod\\npred\\nraz\\nskoz\\nskozi\\nv\\nza\\nzoper\\nh\\nk\\nkljub\\nnasproti\\nnavkljub\\nnavzlic\\nproti\\nž\\nblizu\\nbrez\\ndno\\ndo\\niz\\nizmed\\niznad\\nizpod\\nizpred\\nizven\\nizza\\nkrog\\nmimo\\nnamesto\\nnaokoli\\nnaproti\\nod\\nokoli\\nokrog\\nonkraj\\nonstran\\npoleg\\npovrh\\npovrhu\\nprek\\npreko\\nrazen\\ns\\nspod\\nspričo\\nsredi\\nvštric\\nvpričo\\nvrh\\nvrhu\\nvzdolž\\nz\\nzaradi\\nzavoljo\\nzraven\\nzunaj\\no\\npri\\nbi\\nbova\\nbomo\\nbom\\nbosta\\nboste\\nboš\\nbodo\\nbojo\\nbo\\nsva\\nnisva\\nsmo\\nnismo\\nsem\\nnisem\\nsta\\nnista\\nste\\nniste\\nnisi\\nso\\nniso\\nni\\nbodiva\\nbodimo\\nbodita\\nbodite\\nbodi\\nbiti\\nbili\\nbila\\nbile\\nbil\\nbilo\\nželiva\\ndovoliva\\nhočeva\\nmarava\\nmorava\\nmoreva\\nsmeva\\nzmoreva\\nnočeva\\nželimo\\ndovolimo\\nhočemo\\nmaramo\\nmoramo\\nmoremo\\nsmemo\\nzmoremo\\nnočemo\\nželim\\ndovolim\\nhočem\\nmaram\\nmoram\\nmorem\\nsmem\\nzmorem\\nnočem\\nželita\\ndovolita\\nhočeta\\nmarata\\nmorata\\nmoreta\\nsmeta\\nzmoreta\\nnočeta\\nželite\\ndovolite\\nhočete\\nmarate\\nmorate\\nmorete\\nsmete\\nzmorete\\nnočete\\nželiš\\ndovoliš\\nhočeš\\nmaraš\\nmoraš\\nmoreš\\nsmeš\\nzmoreš\\nnočeš\\nželijo\\ndovolijo\\nhočejo\\nmarajo\\nmorajo\\nmorejo\\nsmejo\\nzmorejo\\nnočejo\\nželi\\ndovoli\\nhoče\\nmara\\nmora\\nmore\\nsme\\nzmore\\nnoče\\nhotiva\\nmarajva\\nhotimo\\nmarajmo\\nhotita\\nmarajta\\nhotite\\nmarajte\\nhoti\\nmaraj\\nželeti\\ndovoliti\\nhoteti\\nmarati\\nmoči\\nmorati\\nsmeti\\nzmoči\\nželeni\\ndovoljeni\\nželena\\ndovoljena\\nželene\\ndovoljene\\nželen\\ndovoljen\\nželeno\\ndovoljeno\\nželeli\\ndovolili\\nhoteli\\nmarali\\nmogli\\nmorali\\nsmeli\\nzmogli\\nželela\\ndovolila\\nhotela\\nmarala\\nmogla\\nmorala\\nsmela\\nzmogla\\nželele\\ndovolile\\nhotele\\nmarale\\nmogle\\nmorale\\nsmele\\nzmogle\\nželel\\ndovolil\\nhotel\\nmaral\\nmogel\\nmoral\\nsmel\\nzmogel\\nželelo\\ndovolilo\\nhotelo\\nmaralo\\nmoglo\\nmoralo\\nsmelo\\nzmogl\\nde\\nla\\nque\\nel\\nen\\ny\\na\\nlos\\ndel\\nse\\nlas\\npor\\nun\\npara\\ncon\\nno\\nuna\\nsu\\nal\\nlo\\ncomo\\nmás\\npero\\nsus\\nle\\nya\\no\\neste\\nsí\\nporque\\nesta\\nentre\\ncuando\\nmuy\\nsin\\nsobre\\ntambién\\nme\\nhasta\\nhay\\ndonde\\nquien\\ndesde\\ntodo\\nnos\\ndurante\\ntodos\\nuno\\nles\\nni\\ncontra\\notros\\nese\\neso\\nante\\nellos\\ne\\nesto\\nmí\\nantes\\nalgunos\\nqué\\nunos\\nyo\\notro\\notras\\notra\\nél\\ntanto\\nesa\\nestos\\nmucho\\nquienes\\nnada\\nmuchos\\ncual\\npoco\\nella\\nestar\\nestas\\nalgunas\\nalgo\\nnosotros\\nmi\\nmis\\ntú\\nte\\nti\\ntu\\ntus\\nellas\\nnosotras\\nvosotros\\nvosotras\\nos\\nmío\\nmía\\nmíos\\nmías\\ntuyo\\ntuya\\ntuyos\\ntuyas\\nsuyo\\nsuya\\nsuyos\\nsuyas\\nnuestro\\nnuestra\\nnuestros\\nnuestras\\nvuestro\\nvuestra\\nvuestros\\nvuestras\\nesos\\nesas\\nestoy\\nestás\\nestá\\nestamos\\nestáis\\nestán\\nesté\\nestés\\nestemos\\nestéis\\nestén\\nestaré\\nestarás\\nestará\\nestaremos\\nestaréis\\nestarán\\nestaría\\nestarías\\nestaríamos\\nestaríais\\nestarían\\nestaba\\nestabas\\nestábamos\\nestabais\\nestaban\\nestuve\\nestuviste\\nestuvo\\nestuvimos\\nestuvisteis\\nestuvieron\\nestuviera\\nestuvieras\\nestuviéramos\\nestuvierais\\nestuvieran\\nestuviese\\nestuvieses\\nestuviésemos\\nestuvieseis\\nestuviesen\\nestando\\nestado\\nestada\\nestados\\nestadas\\nestad\\nhe\\nhas\\nha\\nhemos\\nhabéis\\nhan\\nhaya\\nhayas\\nhayamos\\nhayáis\\nhayan\\nhabré\\nhabrás\\nhabrá\\nhabremos\\nhabréis\\nhabrán\\nhabría\\nhabrías\\nhabríamos\\nhabríais\\nhabrían\\nhabía\\nhabías\\nhabíamos\\nhabíais\\nhabían\\nhube\\nhubiste\\nhubo\\nhubimos\\nhubisteis\\nhubieron\\nhubiera\\nhubieras\\nhubiéramos\\nhubierais\\nhubieran\\nhubiese\\nhubieses\\nhubiésemos\\nhubieseis\\nhubiesen\\nhabiendo\\nhabido\\nhabida\\nhabidos\\nhabidas\\nsoy\\neres\\nes\\nsomos\\nsois\\nson\\nsea\\nseas\\nseamos\\nseáis\\nsean\\nseré\\nserás\\nserá\\nseremos\\nseréis\\nserán\\nsería\\nserías\\nseríamos\\nseríais\\nserían\\nera\\neras\\néramos\\nerais\\neran\\nfui\\nfuiste\\nfue\\nfuimos\\nfuisteis\\nfueron\\nfuera\\nfueras\\nfuéramos\\nfuerais\\nfueran\\nfuese\\nfueses\\nfuésemos\\nfueseis\\nfuesen\\nsintiendo\\nsentido\\nsentida\\nsentidos\\nsentidas\\nsiente\\nsentid\\ntengo\\ntienes\\ntiene\\ntenemos\\ntenéis\\ntienen\\ntenga\\ntengas\\ntengamos\\ntengáis\\ntengan\\ntendré\\ntendrás\\ntendrá\\ntendremos\\ntendréis\\ntendrán\\ntendría\\ntendrías\\ntendríamos\\ntendríais\\ntendrían\\ntenía\\ntenías\\nteníamos\\nteníais\\ntenían\\ntuve\\ntuviste\\ntuvo\\ntuvimos\\ntuvisteis\\ntuvieron\\ntuviera\\ntuvieras\\ntuviéramos\\ntuvierais\\ntuvieran\\ntuviese\\ntuvieses\\ntuviésemos\\ntuvieseis\\ntuviesen\\nteniendo\\ntenido\\ntenida\\ntenidos\\ntenidas\\ntened\\noch\\ndet\\natt\\ni\\nen\\njag\\nhon\\nsom\\nhan\\npå\\nden\\nmed\\nvar\\nsig\\nför\\nså\\ntill\\när\\nmen\\nett\\nom\\nhade\\nde\\nav\\nicke\\nmig\\ndu\\nhenne\\ndå\\nsin\\nnu\\nhar\\ninte\\nhans\\nhonom\\nskulle\\nhennes\\ndär\\nmin\\nman\\nej\\nvid\\nkunde\\nnågot\\nfrån\\nut\\nnär\\nefter\\nupp\\nvi\\ndem\\nvara\\nvad\\növer\\nän\\ndig\\nkan\\nsina\\nhär\\nha\\nmot\\nalla\\nunder\\nnågon\\neller\\nallt\\nmycket\\nsedan\\nju\\ndenna\\nsjälv\\ndetta\\nåt\\nutan\\nvarit\\nhur\\ningen\\nmitt\\nni\\nbli\\nblev\\noss\\ndin\\ndessa\\nnågra\\nderas\\nblir\\nmina\\nsamma\\nvilken\\ner\\nsådan\\nvår\\nblivit\\ndess\\ninom\\nmellan\\nsådant\\nvarför\\nvarje\\nvilka\\nditt\\nvem\\nvilket\\nsitta\\nsådana\\nvart\\ndina\\nvars\\nvårt\\nvåra\\nert\\nera\\nvilkas\\nаз\\nдар\\nба\\nбо\\nбарои\\nбе\\nто\\nҷуз\\nпеши\\nназди\\nрӯйи\\nболои \\nпаси\\nғайри\\nҳамон\\nҳамоно\\nинҷониб\\nзамон\\nзамоно\\nэътиборан\\nпеш\\nқабл\\nдида\\nсар карда\\nагар \\nагар ки\\nвалекин \\nки\\nлекин\\nаммо\\nвале\\nбалки\\nва\\nҳарчанд\\nчунки\\nзеро\\nзеро ки\\nвақте ки\\nто вақте ки\\nбарои он ки\\nбо нияти он ки\\nлекин ва ҳол он ки\\nё\\nё ин ки  \\nбе он ки \\nдар ҳолате ки\\nто даме ки \\nбаъд аз он ки\\nдаме ки\\nба тразе ки \\nаз баҳри он ки\\nгар \\nар\\nба шарте\\nазбаски \\nмодоме ки\\nагар чи\\nгарчанде ки \\nбо вуҷуди он ки\\nгӯё\\nаз-баски \\nчун-ки\\nагар-чанд\\nагар-чи \\nгар-чи\\nто ки\\nчунон ки\\nто даме ки\\nҳар қадар ки\\nмагар \\nоё\\nнаход\\nҳатто \\nҳам \\nбале \\nоре \\nхуб \\nхуш\\nхайр\\nне\\nна\\nмана\\nэ\\nфақат\\nтанҳо\\nкошки \\nмабодо\\nҳтимол\\nана ҳамин\\nнаход ки\\nҳатто ки\\nаз афташ\\nмайлаш куя\\nана\\nҳа\\nканӣ\\nгӯё ки\\nҳо ана\\nна ин ки\\nваҳ\\nҳой\\nи\\nа\\nо\\nэҳ\\nҳе\\nҳу\\nаҳа\\nоҳе\\nуҳа\\nҳм\\nнм\\nоббо\\nӯббо\\nҳой-ҳой \\nвой-вой\\nту-ту\\nҳмм\\nэҳа\\nтавба\\nӯҳӯ\\nаҷабо\\nало\\nаё\\nой\\nӯим \\nором\\nхом?ш\\nҳай-ҳай \\nбай-бай\\nаз \\nон\\nбаъд\\nазбаски\\nӯ\\nҳангоми\\nчӣ\\nкадом\\nин\\nҷо\\nҳам\\nё ки\\nбояд\\nаст\\nчанд\\nҳар\\nбар\\nчаро ки\\nагар\\nто кӣ\\nбинобар\\nбинобар ин\\nҳаргиз\\nасло\\nнахот\\nнахот ки\\nкошкӣ\\nшояд\\nшояд ки\\nохир\\nаз рӯи\\nаз рӯйи \\nрӯஅங்கு\\nஅங்கே\\nஅடுத்த\\nஅதனால்\\nஅதன்\\nஅதற்கு\\nஅதிக\\nஅதில்\\nஅது\\nஅதே\\nஅதை\\nஅந்த\\nஅந்தக்\\nஅந்தப்\\nஅன்று\\nஅல்லது\\nஅவன்\\nஅவரது\\nஅவர்\\nஅவர்கள்\\nஅவள்\\nஅவை\\nஆகிய\\nஆகியோர்\\nஆகும்\\nஇங்கு\\nஇங்கே\\nஇடத்தில்\\nஇடம்\\nஇதனால்\\nஇதனை\\nஇதன்\\nஇதற்கு\\nஇதில்\\nஇது\\nஇதை\\nஇந்த\\nஇந்தக்\\nஇந்தத்\\nஇந்தப்\\nஇன்னும்\\nஇப்போது\\nஇரு\\nஇருக்கும்\\nஇருந்த\\nஇருந்தது\\nஇருந்து\\nஇவர்\\nஇவை\\nஉன்\\nஉள்ள\\nஉள்ளது\\nஉள்ளன\\nஎந்த\\nஎன\\nஎனக்\\nஎனக்கு\\nஎனப்படும்\\nஎனவும்\\nஎனவே\\nஎனினும்\\nஎனும்\\nஎன்\\nஎன்ன\\nஎன்னும்\\nஎன்பது\\nஎன்பதை\\nஎன்ற\\nஎன்று\\nஎன்றும்\\nஎல்லாம்\\nஏன்\\nஒரு\\nஒரே\\nஓர்\\nகொண்ட\\nகொண்டு\\nகொள்ள\\nசற்று\\nசிறு\\nசில\\nசேர்ந்த\\nதனது\\nதன்\\nதவிர\\nதான்\\nநான்\\nநாம்\\nநீ\\nபற்றி\\nபற்றிய\\nபல\\nபலரும்\\nபல்வேறு\\nபின்\\nபின்னர்\\nபிற\\nபிறகு\\nபெரும்\\nபேர்\\nபோது\\nபோன்ற\\nபோல\\nபோல்\\nமட்டுமே\\nமட்டும்\\nமற்ற\\nமற்றும்\\nமிக\\nமிகவும்\\nமீது\\nமுதல்\\nமுறை\\nமேலும்\\nமேல்\\nயார்\\nவந்த\\nவந்து\\nவரும்\\nவரை\\nவரையில்\\nவிட\\nவிட்டு\\nவேண்டும்\\nவேறுacaba\\nama\\naslında\\naz\\nbazı\\nbelki\\nbiri\\nbirkaç\\nbirşey\\nbiz\\nbu\\nçok\\nçünkü\\nda\\ndaha\\nde\\ndefa\\ndiye\\neğer\\nen\\ngibi\\nhem\\nhep\\nhepsi\\nher\\nhiç\\niçin\\nile\\nise\\nkez\\nki\\nkim\\nmı\\nmu\\nmü\\nnasıl\\nne\\nneden\\nnerde\\nnerede\\nnereye\\nniçin\\nniye\\no\\nsanki\\nşey\\nsiz\\nşu\\ntüm\\nve\\nveya\\nya\\nyani\\n\""
      ]
     },
     "execution_count": 154,
     "metadata": {},
     "output_type": "execute_result"
    }
   ],
   "source": [
    "stopwords.raw()"
   ]
  },
  {
   "cell_type": "code",
   "execution_count": 155,
   "id": "b3ad5ce5",
   "metadata": {},
   "outputs": [
    {
     "data": {
      "text/plain": [
       "['tyre',\n",
       " 'rreth',\n",
       " 'le',\n",
       " 'atyre',\n",
       " 'këta',\n",
       " 'megjithëse',\n",
       " 'kemi',\n",
       " 'per',\n",
       " 'ndonëse',\n",
       " 'dytë',\n",
       " 'pse',\n",
       " 'tha',\n",
       " 'aty',\n",
       " 'ndaj',\n",
       " 'ke',\n",
       " 'këtë',\n",
       " 'duhet',\n",
       " 'pa',\n",
       " 'perket',\n",
       " 'veç',\n",
       " 'ndonje',\n",
       " 'një',\n",
       " 'keshtu',\n",
       " 's',\n",
       " 'janë',\n",
       " 'jane',\n",
       " 'ti',\n",
       " 'ia',\n",
       " 'megjithese',\n",
       " 'prej',\n",
       " 'ishte',\n",
       " 'tjerë',\n",
       " 'ai',\n",
       " 'se',\n",
       " 'tillë',\n",
       " 'do',\n",
       " 'si',\n",
       " 'ja',\n",
       " 'tonë',\n",
       " 'keta',\n",
       " 'pastaj',\n",
       " 'ndersa',\n",
       " 'siç',\n",
       " 'unë',\n",
       " 'gjate',\n",
       " 'di',\n",
       " 'kësaj',\n",
       " 'cilin',\n",
       " 'kjo',\n",
       " 'dhënë',\n",
       " 'da',\n",
       " 'teper',\n",
       " 'ketij',\n",
       " 'ama',\n",
       " 'pasi',\n",
       " 'fjalë',\n",
       " 'kanë',\n",
       " 'vetem',\n",
       " 'za',\n",
       " 'd.m.th.',\n",
       " 'ose',\n",
       " 'pas',\n",
       " 'ndonjë',\n",
       " 'cila',\n",
       " 'ndodhur',\n",
       " 'dyte',\n",
       " 'ardhur',\n",
       " 'kësi',\n",
       " 'nga',\n",
       " 'vete',\n",
       " 'atij',\n",
       " 'ta',\n",
       " 'jenë',\n",
       " 'rendit',\n",
       " 'tane',\n",
       " 'keso',\n",
       " 'deri',\n",
       " 'tone',\n",
       " 'të',\n",
       " 'prandaj',\n",
       " 'bëjë',\n",
       " 'domethënë',\n",
       " 'dhe',\n",
       " 'qi',\n",
       " 'mirepo',\n",
       " 'tona',\n",
       " 'që',\n",
       " 'u',\n",
       " 'këtu',\n",
       " 'cilet',\n",
       " 'jene',\n",
       " 'tjere',\n",
       " 'gjë',\n",
       " 'së',\n",
       " 'gjatë',\n",
       " 'duhej',\n",
       " 't',\n",
       " 'dhene',\n",
       " 'thuhet',\n",
       " 'po',\n",
       " 'une',\n",
       " 'dy',\n",
       " 'cfare',\n",
       " 'ndërsa',\n",
       " 'sepse',\n",
       " 'edhe',\n",
       " 'cilen',\n",
       " 'to',\n",
       " 'meqenese',\n",
       " 'meje',\n",
       " 'tij',\n",
       " 'qene',\n",
       " 'jeni',\n",
       " 'them',\n",
       " 'përket',\n",
       " 'keto',\n",
       " 'ni',\n",
       " 'këso',\n",
       " 'asaj',\n",
       " 'ajo',\n",
       " 'sic',\n",
       " 'vetëm',\n",
       " 'ketyre',\n",
       " 'andaj',\n",
       " 'na',\n",
       " 'sa',\n",
       " 'kesaj',\n",
       " 'cili',\n",
       " 'këtyre',\n",
       " 'domethene',\n",
       " 'mirëpo',\n",
       " 'cilën',\n",
       " 'mos',\n",
       " 'madh',\n",
       " 'qenë',\n",
       " 'cilët',\n",
       " 'thënë',\n",
       " 'jemi',\n",
       " 'fjale',\n",
       " 'soje',\n",
       " 'neve',\n",
       " 'gjitha',\n",
       " 'kështu',\n",
       " 'vet',\n",
       " 'kur',\n",
       " 'ty',\n",
       " 'meqë',\n",
       " 'meqenëse',\n",
       " 'jush',\n",
       " 'ketë',\n",
       " 'para',\n",
       " 'kush',\n",
       " 'i',\n",
       " 'mua',\n",
       " 'dite',\n",
       " 'ate',\n",
       " 'për',\n",
       " 'tepër',\n",
       " 'nesh',\n",
       " 'meqe',\n",
       " 'ketu',\n",
       " 'ku',\n",
       " 'disa',\n",
       " 'ato',\n",
       " 'mbi',\n",
       " 'gje',\n",
       " 'ne',\n",
       " 'është',\n",
       " 'tille',\n",
       " 'teje',\n",
       " 'megjithate',\n",
       " 'ju',\n",
       " 'nese',\n",
       " 'saj',\n",
       " 'ashtu',\n",
       " 'më',\n",
       " 'mbasi',\n",
       " 'te',\n",
       " 'thene',\n",
       " 'jo',\n",
       " 'ditë',\n",
       " 'nuk',\n",
       " 'gjithe',\n",
       " 'shume',\n",
       " 'nje',\n",
       " 'tanë',\n",
       " 'mund',\n",
       " 'aqsa',\n",
       " 'sot',\n",
       " 'këto',\n",
       " 'tjera',\n",
       " 'tjetër',\n",
       " 'tjeter',\n",
       " 'atë',\n",
       " 'kisha',\n",
       " 'megjithatë',\n",
       " 'këtij',\n",
       " 'nëse',\n",
       " 'dimë',\n",
       " 'eshte',\n",
       " 'vazhdojmë',\n",
       " 'ka',\n",
       " 'kam',\n",
       " 'kesi',\n",
       " 'je',\n",
       " 'vazhdojme',\n",
       " 'duke',\n",
       " 'dime',\n",
       " 'kinse',\n",
       " 'por',\n",
       " 'kane',\n",
       " 'pika',\n",
       " 'keni',\n",
       " 'beje',\n",
       " 'ky',\n",
       " 'parasysh',\n",
       " 'apo',\n",
       " 'gjithë',\n",
       " 'me',\n",
       " 'ata',\n",
       " 'çfarë',\n",
       " 'jam',\n",
       " 'juve',\n",
       " 'kete',\n",
       " 'a',\n",
       " 'pra',\n",
       " 'qe',\n",
       " 'tash',\n",
       " 'në',\n",
       " 'vetë',\n",
       " 'vec',\n",
       " 'as',\n",
       " 'ndonese',\n",
       " 'tani',\n",
       " 'pak',\n",
       " 'e',\n",
       " 'shumë',\n",
       " 'إذ',\n",
       " 'إذا',\n",
       " 'إذما',\n",
       " 'إذن',\n",
       " 'أف',\n",
       " 'أقل',\n",
       " 'أكثر',\n",
       " 'ألا',\n",
       " 'إلا',\n",
       " 'التي',\n",
       " 'الذي',\n",
       " 'الذين',\n",
       " 'اللاتي',\n",
       " 'اللائي',\n",
       " 'اللتان',\n",
       " 'اللتيا',\n",
       " 'اللتين',\n",
       " 'اللذان',\n",
       " 'اللذين',\n",
       " 'اللواتي',\n",
       " 'إلى',\n",
       " 'إليك',\n",
       " 'إليكم',\n",
       " 'إليكما',\n",
       " 'إليكن',\n",
       " 'أم',\n",
       " 'أما',\n",
       " 'أما',\n",
       " 'إما',\n",
       " 'أن',\n",
       " 'إن',\n",
       " 'إنا',\n",
       " 'أنا',\n",
       " 'أنت',\n",
       " 'أنتم',\n",
       " 'أنتما',\n",
       " 'أنتن',\n",
       " 'إنما',\n",
       " 'إنه',\n",
       " 'أنى',\n",
       " 'أنى',\n",
       " 'آه',\n",
       " 'آها',\n",
       " 'أو',\n",
       " 'أولاء',\n",
       " 'أولئك',\n",
       " 'أوه',\n",
       " 'آي',\n",
       " 'أي',\n",
       " 'أيها',\n",
       " 'إي',\n",
       " 'أين',\n",
       " 'أين',\n",
       " 'أينما',\n",
       " 'إيه',\n",
       " 'بخ',\n",
       " 'بس',\n",
       " 'بعد',\n",
       " 'بعض',\n",
       " 'بك',\n",
       " 'بكم',\n",
       " 'بكم',\n",
       " 'بكما',\n",
       " 'بكن',\n",
       " 'بل',\n",
       " 'بلى',\n",
       " 'بما',\n",
       " 'بماذا',\n",
       " 'بمن',\n",
       " 'بنا',\n",
       " 'به',\n",
       " 'بها',\n",
       " 'بهم',\n",
       " 'بهما',\n",
       " 'بهن',\n",
       " 'بي',\n",
       " 'بين',\n",
       " 'بيد',\n",
       " 'تلك',\n",
       " 'تلكم',\n",
       " 'تلكما',\n",
       " 'ته',\n",
       " 'تي',\n",
       " 'تين',\n",
       " 'تينك',\n",
       " 'ثم',\n",
       " 'ثمة',\n",
       " 'حاشا',\n",
       " 'حبذا',\n",
       " 'حتى',\n",
       " 'حيث',\n",
       " 'حيثما',\n",
       " 'حين',\n",
       " 'خلا',\n",
       " 'دون',\n",
       " 'ذا',\n",
       " 'ذات',\n",
       " 'ذاك',\n",
       " 'ذان',\n",
       " 'ذانك',\n",
       " 'ذلك',\n",
       " 'ذلكم',\n",
       " 'ذلكما',\n",
       " 'ذلكن',\n",
       " 'ذه',\n",
       " 'ذو',\n",
       " 'ذوا',\n",
       " 'ذواتا',\n",
       " 'ذواتي',\n",
       " 'ذي',\n",
       " 'ذين',\n",
       " 'ذينك',\n",
       " 'ريث',\n",
       " 'سوف',\n",
       " 'سوى',\n",
       " 'شتان',\n",
       " 'عدا',\n",
       " 'عسى',\n",
       " 'عل',\n",
       " 'على',\n",
       " 'عليك',\n",
       " 'عليه',\n",
       " 'عما',\n",
       " 'عن',\n",
       " 'عند',\n",
       " 'غير',\n",
       " 'فإذا',\n",
       " 'فإن',\n",
       " 'فلا',\n",
       " 'فمن',\n",
       " 'في',\n",
       " 'فيم',\n",
       " 'فيما',\n",
       " 'فيه',\n",
       " 'فيها',\n",
       " 'قد',\n",
       " 'كأن',\n",
       " 'كأنما',\n",
       " 'كأي',\n",
       " 'كأين',\n",
       " 'كذا',\n",
       " 'كذلك',\n",
       " 'كل',\n",
       " 'كلا',\n",
       " 'كلاهما',\n",
       " 'كلتا',\n",
       " 'كلما',\n",
       " 'كليكما',\n",
       " 'كليهما',\n",
       " 'كم',\n",
       " 'كم',\n",
       " 'كما',\n",
       " 'كي',\n",
       " 'كيت',\n",
       " 'كيف',\n",
       " 'كيفما',\n",
       " 'لا',\n",
       " 'لاسيما',\n",
       " 'لدى',\n",
       " 'لست',\n",
       " 'لستم',\n",
       " 'لستما',\n",
       " 'لستن',\n",
       " 'لسن',\n",
       " 'لسنا',\n",
       " 'لعل',\n",
       " 'لك',\n",
       " 'لكم',\n",
       " 'لكما',\n",
       " 'لكن',\n",
       " 'لكنما',\n",
       " 'لكي',\n",
       " 'لكيلا',\n",
       " 'لم',\n",
       " 'لما',\n",
       " 'لن',\n",
       " 'لنا',\n",
       " 'له',\n",
       " 'لها',\n",
       " 'لهم',\n",
       " 'لهما',\n",
       " 'لهن',\n",
       " 'لو',\n",
       " 'لولا',\n",
       " 'لوما',\n",
       " 'لي',\n",
       " 'لئن',\n",
       " 'ليت',\n",
       " 'ليس',\n",
       " 'ليسا',\n",
       " 'ليست',\n",
       " 'ليستا',\n",
       " 'ليسوا',\n",
       " 'ما',\n",
       " 'ماذا',\n",
       " 'متى',\n",
       " 'مذ',\n",
       " 'مع',\n",
       " 'مما',\n",
       " 'ممن',\n",
       " 'من',\n",
       " 'منه',\n",
       " 'منها',\n",
       " 'منذ',\n",
       " 'مه',\n",
       " 'مهما',\n",
       " 'نحن',\n",
       " 'نحو',\n",
       " 'نعم',\n",
       " 'ها',\n",
       " 'هاتان',\n",
       " 'هاته',\n",
       " 'هاتي',\n",
       " 'هاتين',\n",
       " 'هاك',\n",
       " 'هاهنا',\n",
       " 'هذا',\n",
       " 'هذان',\n",
       " 'هذه',\n",
       " 'هذي',\n",
       " 'هذين',\n",
       " 'هكذا',\n",
       " 'هل',\n",
       " 'هلا',\n",
       " 'هم',\n",
       " 'هما',\n",
       " 'هن',\n",
       " 'هنا',\n",
       " 'هناك',\n",
       " 'هنالك',\n",
       " 'هو',\n",
       " 'هؤلاء',\n",
       " 'هي',\n",
       " 'هيا',\n",
       " 'هيت',\n",
       " 'هيهات',\n",
       " 'والذي',\n",
       " 'والذين',\n",
       " 'وإذ',\n",
       " 'وإذا',\n",
       " 'وإن',\n",
       " 'ولا',\n",
       " 'ولكن',\n",
       " 'ولو',\n",
       " 'وما',\n",
       " 'ومن',\n",
       " 'وهو',\n",
       " 'يا',\n",
       " 'أبٌ',\n",
       " 'أخٌ',\n",
       " 'حمٌ',\n",
       " 'فو',\n",
       " 'أنتِ',\n",
       " 'يناير',\n",
       " 'فبراير',\n",
       " 'مارس',\n",
       " 'أبريل',\n",
       " 'مايو',\n",
       " 'يونيو',\n",
       " 'يوليو',\n",
       " 'أغسطس',\n",
       " 'سبتمبر',\n",
       " 'أكتوبر',\n",
       " 'نوفمبر',\n",
       " 'ديسمبر',\n",
       " 'جانفي',\n",
       " 'فيفري',\n",
       " 'مارس',\n",
       " 'أفريل',\n",
       " 'ماي',\n",
       " 'جوان',\n",
       " 'جويلية',\n",
       " 'أوت',\n",
       " 'كانون',\n",
       " 'شباط',\n",
       " 'آذار',\n",
       " 'نيسان',\n",
       " 'أيار',\n",
       " 'حزيران',\n",
       " 'تموز',\n",
       " 'آب',\n",
       " 'أيلول',\n",
       " 'تشرين',\n",
       " 'دولار',\n",
       " 'دينار',\n",
       " 'ريال',\n",
       " 'درهم',\n",
       " 'ليرة',\n",
       " 'جنيه',\n",
       " 'قرش',\n",
       " 'مليم',\n",
       " 'فلس',\n",
       " 'هللة',\n",
       " 'سنتيم',\n",
       " 'يورو',\n",
       " 'ين',\n",
       " 'يوان',\n",
       " 'شيكل',\n",
       " 'واحد',\n",
       " 'اثنان',\n",
       " 'ثلاثة',\n",
       " 'أربعة',\n",
       " 'خمسة',\n",
       " 'ستة',\n",
       " 'سبعة',\n",
       " 'ثمانية',\n",
       " 'تسعة',\n",
       " 'عشرة',\n",
       " 'أحد',\n",
       " 'اثنا',\n",
       " 'اثني',\n",
       " 'إحدى',\n",
       " 'ثلاث',\n",
       " 'أربع',\n",
       " 'خمس',\n",
       " 'ست',\n",
       " 'سبع',\n",
       " 'ثماني',\n",
       " 'تسع',\n",
       " 'عشر',\n",
       " 'ثمان',\n",
       " 'سبت',\n",
       " 'أحد',\n",
       " 'اثنين',\n",
       " 'ثلاثاء',\n",
       " 'أربعاء',\n",
       " 'خميس',\n",
       " 'جمعة',\n",
       " 'أول',\n",
       " 'ثان',\n",
       " 'ثاني',\n",
       " 'ثالث',\n",
       " 'رابع',\n",
       " 'خامس',\n",
       " 'سادس',\n",
       " 'سابع',\n",
       " 'ثامن',\n",
       " 'تاسع',\n",
       " 'عاشر',\n",
       " 'حادي',\n",
       " 'أ',\n",
       " 'ب',\n",
       " 'ت',\n",
       " 'ث',\n",
       " 'ج',\n",
       " 'ح',\n",
       " 'خ',\n",
       " 'د',\n",
       " 'ذ',\n",
       " 'ر',\n",
       " 'ز',\n",
       " 'س',\n",
       " 'ش',\n",
       " 'ص',\n",
       " 'ض',\n",
       " 'ط',\n",
       " 'ظ',\n",
       " 'ع',\n",
       " 'غ',\n",
       " 'ف',\n",
       " 'ق',\n",
       " 'ك',\n",
       " 'ل',\n",
       " 'م',\n",
       " 'ن',\n",
       " 'ه',\n",
       " 'و',\n",
       " 'ي',\n",
       " 'ء',\n",
       " 'ى',\n",
       " 'آ',\n",
       " 'ؤ',\n",
       " 'ئ',\n",
       " 'أ',\n",
       " 'ة',\n",
       " 'ألف',\n",
       " 'باء',\n",
       " 'تاء',\n",
       " 'ثاء',\n",
       " 'جيم',\n",
       " 'حاء',\n",
       " 'خاء',\n",
       " 'دال',\n",
       " 'ذال',\n",
       " 'راء',\n",
       " 'زاي',\n",
       " 'سين',\n",
       " 'شين',\n",
       " 'صاد',\n",
       " 'ضاد',\n",
       " 'طاء',\n",
       " 'ظاء',\n",
       " 'عين',\n",
       " 'غين',\n",
       " 'فاء',\n",
       " 'قاف',\n",
       " 'كاف',\n",
       " 'لام',\n",
       " 'ميم',\n",
       " 'نون',\n",
       " 'هاء',\n",
       " 'واو',\n",
       " 'ياء',\n",
       " 'همزة',\n",
       " 'ي',\n",
       " 'نا',\n",
       " 'ك',\n",
       " 'كن',\n",
       " 'ه',\n",
       " 'إياه',\n",
       " 'إياها',\n",
       " 'إياهما',\n",
       " 'إياهم',\n",
       " 'إياهن',\n",
       " 'إياك',\n",
       " 'إياكما',\n",
       " 'إياكم',\n",
       " 'إياك',\n",
       " 'إياكن',\n",
       " 'إياي',\n",
       " 'إيانا',\n",
       " 'أولالك',\n",
       " 'تانِ',\n",
       " 'تانِك',\n",
       " 'تِه',\n",
       " 'تِي',\n",
       " 'تَيْنِ',\n",
       " 'ثمّ',\n",
       " 'ثمّة',\n",
       " 'ذانِ',\n",
       " 'ذِه',\n",
       " 'ذِي',\n",
       " 'ذَيْنِ',\n",
       " 'هَؤلاء',\n",
       " 'هَاتانِ',\n",
       " 'هَاتِه',\n",
       " 'هَاتِي',\n",
       " 'هَاتَيْنِ',\n",
       " 'هَذا',\n",
       " 'هَذانِ',\n",
       " 'هَذِه',\n",
       " 'هَذِي',\n",
       " 'هَذَيْنِ',\n",
       " 'الألى',\n",
       " 'الألاء',\n",
       " 'أل',\n",
       " 'أنّى',\n",
       " 'أيّ',\n",
       " 'ّأيّان',\n",
       " 'أنّى',\n",
       " 'أيّ',\n",
       " 'ّأيّان',\n",
       " 'ذيت',\n",
       " 'كأيّ',\n",
       " 'كأيّن',\n",
       " 'بضع',\n",
       " 'فلان',\n",
       " 'وا',\n",
       " 'آمينَ',\n",
       " 'آهِ',\n",
       " 'آهٍ',\n",
       " 'آهاً',\n",
       " 'أُفٍّ',\n",
       " 'أُفٍّ',\n",
       " 'أفٍّ',\n",
       " 'أمامك',\n",
       " 'أمامكَ',\n",
       " 'أوّهْ',\n",
       " 'إلَيْكَ',\n",
       " 'إلَيْكَ',\n",
       " 'إليكَ',\n",
       " 'إليكنّ',\n",
       " 'إيهٍ',\n",
       " 'بخٍ',\n",
       " 'بسّ',\n",
       " 'بَسْ',\n",
       " 'بطآن',\n",
       " 'بَلْهَ',\n",
       " 'حاي',\n",
       " 'حَذارِ',\n",
       " 'حيَّ',\n",
       " 'حيَّ',\n",
       " 'دونك',\n",
       " 'رويدك',\n",
       " 'سرعان',\n",
       " 'شتانَ',\n",
       " 'شَتَّانَ',\n",
       " 'صهْ',\n",
       " 'صهٍ',\n",
       " 'طاق',\n",
       " 'طَق',\n",
       " 'عَدَسْ',\n",
       " 'كِخ',\n",
       " 'مكانَك',\n",
       " 'مكانَك',\n",
       " 'مكانَك',\n",
       " 'مكانكم',\n",
       " 'مكانكما',\n",
       " 'مكانكنّ',\n",
       " 'نَخْ',\n",
       " 'هاكَ',\n",
       " 'هَجْ',\n",
       " 'هلم',\n",
       " 'هيّا',\n",
       " 'هَيْهات',\n",
       " 'وا',\n",
       " 'واهاً',\n",
       " 'وراءَك',\n",
       " 'وُشْكَانَ',\n",
       " 'وَيْ',\n",
       " 'يفعلان',\n",
       " 'تفعلان',\n",
       " 'يفعلون',\n",
       " 'تفعلون',\n",
       " 'تفعلين',\n",
       " 'اتخذ',\n",
       " 'ألفى',\n",
       " 'تخذ',\n",
       " 'ترك',\n",
       " 'تعلَّم',\n",
       " 'جعل',\n",
       " 'حجا',\n",
       " 'حبيب',\n",
       " 'خال',\n",
       " 'حسب',\n",
       " 'خال',\n",
       " 'درى',\n",
       " 'رأى',\n",
       " 'زعم',\n",
       " 'صبر',\n",
       " 'ظنَّ',\n",
       " 'عدَّ',\n",
       " 'علم',\n",
       " 'غادر',\n",
       " 'ذهب',\n",
       " 'وجد',\n",
       " 'ورد',\n",
       " 'وهب',\n",
       " 'أسكن',\n",
       " 'أطعم',\n",
       " 'أعطى',\n",
       " 'رزق',\n",
       " 'زود',\n",
       " 'سقى',\n",
       " 'كسا',\n",
       " 'أخبر',\n",
       " 'أرى',\n",
       " 'أعلم',\n",
       " 'أنبأ',\n",
       " 'حدَث',\n",
       " 'خبَّر',\n",
       " 'نبَّا',\n",
       " 'أفعل به',\n",
       " 'ما أفعله',\n",
       " 'بئس',\n",
       " 'ساء',\n",
       " 'طالما',\n",
       " 'قلما',\n",
       " 'لات',\n",
       " 'لكنَّ',\n",
       " 'ءَ',\n",
       " 'أجل',\n",
       " 'إذاً',\n",
       " 'أمّا',\n",
       " 'إمّا',\n",
       " 'إنَّ',\n",
       " 'أنًّ',\n",
       " 'أى',\n",
       " 'إى',\n",
       " 'أيا',\n",
       " 'ب',\n",
       " 'ثمَّ',\n",
       " 'جلل',\n",
       " 'جير',\n",
       " 'رُبَّ',\n",
       " 'س',\n",
       " 'علًّ',\n",
       " 'ف',\n",
       " 'كأنّ',\n",
       " 'كلَّا',\n",
       " 'كى',\n",
       " 'ل',\n",
       " 'لات',\n",
       " 'لعلَّ',\n",
       " 'لكنَّ',\n",
       " 'لكنَّ',\n",
       " 'م',\n",
       " 'نَّ',\n",
       " 'هلّا',\n",
       " 'وا',\n",
       " 'أل',\n",
       " 'إلّا',\n",
       " 'ت',\n",
       " 'ك',\n",
       " 'لمّا',\n",
       " 'ن',\n",
       " 'ه',\n",
       " 'و',\n",
       " 'ا',\n",
       " 'ي',\n",
       " 'تجاه',\n",
       " 'تلقاء',\n",
       " 'جميع',\n",
       " 'حسب',\n",
       " 'سبحان',\n",
       " 'شبه',\n",
       " 'لعمر',\n",
       " 'مثل',\n",
       " 'معاذ',\n",
       " 'أبو',\n",
       " 'أخو',\n",
       " 'حمو',\n",
       " 'فو',\n",
       " 'مئة',\n",
       " 'مئتان',\n",
       " 'ثلاثمئة',\n",
       " 'أربعمئة',\n",
       " 'خمسمئة',\n",
       " 'ستمئة',\n",
       " 'سبعمئة',\n",
       " 'ثمنمئة',\n",
       " 'تسعمئة',\n",
       " 'مائة',\n",
       " 'ثلاثمائة',\n",
       " 'أربعمائة',\n",
       " 'خمسمائة',\n",
       " 'ستمائة',\n",
       " 'سبعمائة',\n",
       " 'ثمانمئة',\n",
       " 'تسعمائة',\n",
       " 'عشرون',\n",
       " 'ثلاثون',\n",
       " 'اربعون',\n",
       " 'خمسون',\n",
       " 'ستون',\n",
       " 'سبعون',\n",
       " 'ثمانون',\n",
       " 'تسعون',\n",
       " 'عشرين',\n",
       " 'ثلاثين',\n",
       " 'اربعين',\n",
       " 'خمسين',\n",
       " 'ستين',\n",
       " 'سبعين',\n",
       " 'ثمانين',\n",
       " 'تسعين',\n",
       " 'بضع',\n",
       " 'نيف',\n",
       " 'أجمع',\n",
       " 'جميع',\n",
       " 'عامة',\n",
       " 'عين',\n",
       " 'نفس',\n",
       " 'لا سيما',\n",
       " 'أصلا',\n",
       " 'أهلا',\n",
       " 'أيضا',\n",
       " 'بؤسا',\n",
       " 'بعدا',\n",
       " 'بغتة',\n",
       " 'تعسا',\n",
       " 'حقا',\n",
       " 'حمدا',\n",
       " 'خلافا',\n",
       " 'خاصة',\n",
       " 'دواليك',\n",
       " 'سحقا',\n",
       " 'سرا',\n",
       " 'سمعا',\n",
       " 'صبرا',\n",
       " 'صدقا',\n",
       " 'صراحة',\n",
       " 'طرا',\n",
       " 'عجبا',\n",
       " 'عيانا',\n",
       " 'غالبا',\n",
       " 'فرادى',\n",
       " 'فضلا',\n",
       " 'قاطبة',\n",
       " 'كثيرا',\n",
       " 'لبيك',\n",
       " 'معاذ',\n",
       " 'أبدا',\n",
       " 'إزاء',\n",
       " 'أصلا',\n",
       " 'الآن',\n",
       " 'أمد',\n",
       " 'أمس',\n",
       " 'آنفا',\n",
       " 'آناء',\n",
       " 'أنّى',\n",
       " 'أول',\n",
       " 'أيّان',\n",
       " 'تارة',\n",
       " 'ثمّ',\n",
       " 'ثمّة',\n",
       " 'حقا',\n",
       " 'صباح',\n",
       " 'مساء',\n",
       " 'ضحوة',\n",
       " 'عوض',\n",
       " 'غدا',\n",
       " 'غداة',\n",
       " 'قطّ',\n",
       " 'كلّما',\n",
       " 'لدن',\n",
       " 'لمّا',\n",
       " 'مرّة',\n",
       " 'قبل',\n",
       " 'خلف',\n",
       " 'أمام',\n",
       " 'فوق',\n",
       " 'تحت',\n",
       " 'يمين',\n",
       " 'شمال',\n",
       " 'ارتدّ',\n",
       " 'استحال',\n",
       " 'أصبح',\n",
       " 'أضحى',\n",
       " 'آض',\n",
       " 'أمسى',\n",
       " 'انقلب',\n",
       " 'بات',\n",
       " 'تبدّل',\n",
       " 'تحوّل',\n",
       " 'حار',\n",
       " 'رجع',\n",
       " 'راح',\n",
       " 'صار',\n",
       " 'ظلّ',\n",
       " 'عاد',\n",
       " 'غدا',\n",
       " 'كان',\n",
       " 'ما انفك',\n",
       " 'ما برح',\n",
       " 'مادام',\n",
       " 'مازال',\n",
       " 'مافتئ',\n",
       " 'ابتدأ',\n",
       " 'أخذ',\n",
       " 'اخلولق',\n",
       " 'أقبل',\n",
       " 'انبرى',\n",
       " 'أنشأ',\n",
       " 'أوشك',\n",
       " 'جعل',\n",
       " 'حرى',\n",
       " 'شرع',\n",
       " 'طفق',\n",
       " 'علق',\n",
       " 'قام',\n",
       " 'كرب',\n",
       " 'كاد',\n",
       " 'هبّa',\n",
       " 'ad',\n",
       " 'altı',\n",
       " 'altmış',\n",
       " 'amma',\n",
       " 'arasında',\n",
       " 'artıq',\n",
       " 'ay',\n",
       " 'az',\n",
       " 'bax',\n",
       " ...]"
      ]
     },
     "execution_count": 155,
     "metadata": {},
     "output_type": "execute_result"
    }
   ],
   "source": [
    "stopwords.words()"
   ]
  },
  {
   "cell_type": "code",
   "execution_count": 156,
   "id": "10d00d51",
   "metadata": {},
   "outputs": [
    {
     "name": "stderr",
     "output_type": "stream",
     "text": [
      "[nltk_data] Downloading package stopwords to\n",
      "[nltk_data]     C:\\Users\\rootl\\AppData\\Roaming\\nltk_data...\n",
      "[nltk_data]   Package stopwords is already up-to-date!\n"
     ]
    },
    {
     "data": {
      "text/plain": [
       "True"
      ]
     },
     "execution_count": 156,
     "metadata": {},
     "output_type": "execute_result"
    }
   ],
   "source": [
    "nltk.download('stopwords')"
   ]
  },
  {
   "cell_type": "code",
   "execution_count": 157,
   "id": "d5cbcea0",
   "metadata": {},
   "outputs": [
    {
     "data": {
      "text/plain": [
       "True"
      ]
     },
     "execution_count": 157,
     "metadata": {},
     "output_type": "execute_result"
    }
   ],
   "source": [
    "'is' in stopwords.words()"
   ]
  },
  {
   "cell_type": "code",
   "execution_count": 158,
   "id": "1b41be23",
   "metadata": {},
   "outputs": [
    {
     "data": {
      "text/plain": [
       "11009"
      ]
     },
     "execution_count": 158,
     "metadata": {},
     "output_type": "execute_result"
    }
   ],
   "source": [
    "len(stopwords.words())"
   ]
  },
  {
   "cell_type": "code",
   "execution_count": 159,
   "id": "84663a78",
   "metadata": {},
   "outputs": [
    {
     "data": {
      "text/plain": [
       "'euron offers 50 selfpaced data science courses learning'"
      ]
     },
     "execution_count": 159,
     "metadata": {},
     "output_type": "execute_result"
    }
   ],
   "source": [
    "text"
   ]
  },
  {
   "cell_type": "code",
   "execution_count": 160,
   "id": "0ca3ef4f",
   "metadata": {},
   "outputs": [
    {
     "data": {
      "text/plain": [
       "['euron',\n",
       " 'offers',\n",
       " '50',\n",
       " 'selfpaced',\n",
       " 'data',\n",
       " 'science',\n",
       " 'courses',\n",
       " 'learning']"
      ]
     },
     "execution_count": 160,
     "metadata": {},
     "output_type": "execute_result"
    }
   ],
   "source": [
    "word_tokenize(text)"
   ]
  },
  {
   "cell_type": "code",
   "execution_count": 161,
   "id": "dfd5a61d",
   "metadata": {},
   "outputs": [],
   "source": [
    "word = word_tokenize(text)"
   ]
  },
  {
   "cell_type": "code",
   "execution_count": 162,
   "id": "6d23c395",
   "metadata": {},
   "outputs": [
    {
     "data": {
      "text/plain": [
       "['euron',\n",
       " 'offers',\n",
       " '50',\n",
       " 'selfpaced',\n",
       " 'data',\n",
       " 'science',\n",
       " 'courses',\n",
       " 'learning']"
      ]
     },
     "execution_count": 162,
     "metadata": {},
     "output_type": "execute_result"
    }
   ],
   "source": [
    "[w for w in word if w not in stopwords.words()]"
   ]
  },
  {
   "cell_type": "code",
   "execution_count": 163,
   "id": "028af1f1",
   "metadata": {},
   "outputs": [
    {
     "data": {
      "text/plain": [
       "['euron',\n",
       " 'offers',\n",
       " '50',\n",
       " 'selfpaced',\n",
       " 'data',\n",
       " 'science',\n",
       " 'courses',\n",
       " 'learning']"
      ]
     },
     "execution_count": 163,
     "metadata": {},
     "output_type": "execute_result"
    }
   ],
   "source": [
    "text = [w for w in word if w not in stopwords.words()]\n",
    "text"
   ]
  },
  {
   "cell_type": "code",
   "execution_count": 164,
   "id": "7be49437",
   "metadata": {},
   "outputs": [
    {
     "data": {
      "text/plain": [
       "list"
      ]
     },
     "execution_count": 164,
     "metadata": {},
     "output_type": "execute_result"
    }
   ],
   "source": [
    "type(text)"
   ]
  },
  {
   "cell_type": "code",
   "execution_count": 165,
   "id": "63b84815",
   "metadata": {},
   "outputs": [],
   "source": [
    "text = \" \".join(text)"
   ]
  },
  {
   "cell_type": "code",
   "execution_count": 166,
   "id": "833a0400",
   "metadata": {},
   "outputs": [
    {
     "data": {
      "text/plain": [
       "'euron offers 50 selfpaced data science courses learning'"
      ]
     },
     "execution_count": 166,
     "metadata": {},
     "output_type": "execute_result"
    }
   ],
   "source": [
    "text"
   ]
  },
  {
   "cell_type": "code",
   "execution_count": 167,
   "id": "96eacfdb",
   "metadata": {},
   "outputs": [
    {
     "data": {
      "text/plain": [
       "'euron offers 50 selfpaced data science courses learning'"
      ]
     },
     "execution_count": 167,
     "metadata": {},
     "output_type": "execute_result"
    }
   ],
   "source": [
    "re.sub(r\"\\s+\",\" \",text)"
   ]
  },
  {
   "cell_type": "code",
   "execution_count": 168,
   "id": "cb7b8b4a",
   "metadata": {},
   "outputs": [
    {
     "data": {
      "text/plain": [
       "'euron offers  selfpaced data science courses learning'"
      ]
     },
     "execution_count": 168,
     "metadata": {},
     "output_type": "execute_result"
    }
   ],
   "source": [
    "re.sub(r\"\\d+\",\"\",text)"
   ]
  },
  {
   "cell_type": "code",
   "execution_count": 187,
   "id": "11b6e661",
   "metadata": {},
   "outputs": [],
   "source": [
    "data = word_tokenize(text)"
   ]
  },
  {
   "cell_type": "code",
   "execution_count": 188,
   "id": "5cb3d3a0",
   "metadata": {},
   "outputs": [
    {
     "data": {
      "text/plain": [
       "['euron',\n",
       " 'offers',\n",
       " '50',\n",
       " 'selfpaced',\n",
       " 'data',\n",
       " 'science',\n",
       " 'courses',\n",
       " 'learning']"
      ]
     },
     "execution_count": 188,
     "metadata": {},
     "output_type": "execute_result"
    }
   ],
   "source": [
    "data"
   ]
  },
  {
   "cell_type": "markdown",
   "id": "db69895d",
   "metadata": {},
   "source": [
    "#### <font color='green'>PorterStemmer()</font>"
   ]
  },
  {
   "cell_type": "code",
   "execution_count": 171,
   "id": "479dd397",
   "metadata": {},
   "outputs": [],
   "source": [
    "streamer = PorterStemmer()"
   ]
  },
  {
   "cell_type": "code",
   "execution_count": 172,
   "id": "830c2b82",
   "metadata": {},
   "outputs": [
    {
     "data": {
      "text/plain": [
       "'learn'"
      ]
     },
     "execution_count": 172,
     "metadata": {},
     "output_type": "execute_result"
    }
   ],
   "source": [
    "streamer.stem('learning')"
   ]
  },
  {
   "cell_type": "code",
   "execution_count": 173,
   "id": "3a9588dd",
   "metadata": {},
   "outputs": [
    {
     "name": "stdout",
     "output_type": "stream",
     "text": [
      "euron\n",
      "offer\n",
      "50\n",
      "selfpac\n",
      "data\n",
      "scienc\n",
      "cours\n",
      "learn\n"
     ]
    }
   ],
   "source": [
    "for i in data:\n",
    "    print(streamer.stem(i))"
   ]
  },
  {
   "cell_type": "markdown",
   "id": "f3c6d394",
   "metadata": {},
   "source": [
    "#### <font color='green'>SnowballStemmer()</font>"
   ]
  },
  {
   "cell_type": "code",
   "execution_count": 174,
   "id": "6ef66dce",
   "metadata": {},
   "outputs": [],
   "source": [
    "snow = SnowballStemmer('english')"
   ]
  },
  {
   "cell_type": "code",
   "execution_count": 175,
   "id": "9c60ae7d",
   "metadata": {},
   "outputs": [
    {
     "data": {
      "text/plain": [
       "'learn'"
      ]
     },
     "execution_count": 175,
     "metadata": {},
     "output_type": "execute_result"
    }
   ],
   "source": [
    "snow.stem(\"learning\")"
   ]
  },
  {
   "cell_type": "code",
   "execution_count": 176,
   "id": "eae605a1",
   "metadata": {},
   "outputs": [
    {
     "name": "stdout",
     "output_type": "stream",
     "text": [
      "euron\n",
      "offer\n",
      "50\n",
      "selfpac\n",
      "data\n",
      "scienc\n",
      "cours\n",
      "learn\n"
     ]
    }
   ],
   "source": [
    "for i in data:\n",
    "    print(snow.stem(i))"
   ]
  },
  {
   "cell_type": "markdown",
   "id": "f4425181",
   "metadata": {},
   "source": [
    "#### <font color='green'>Spacy()</font>"
   ]
  },
  {
   "cell_type": "code",
   "execution_count": 177,
   "id": "349bd7bf",
   "metadata": {},
   "outputs": [
    {
     "data": {
      "text/plain": [
       "<spacy.lang.en.English at 0x1e82ec42560>"
      ]
     },
     "execution_count": 177,
     "metadata": {},
     "output_type": "execute_result"
    }
   ],
   "source": [
    "spacy.load(\"en_core_web_sm\")"
   ]
  },
  {
   "cell_type": "code",
   "execution_count": 178,
   "id": "78b49df6",
   "metadata": {},
   "outputs": [],
   "source": [
    "nlp = spacy.load(\"en_core_web_sm\")\n"
   ]
  },
  {
   "cell_type": "code",
   "execution_count": 189,
   "id": "9dc5daaf",
   "metadata": {},
   "outputs": [
    {
     "data": {
      "text/plain": [
       "['euron',\n",
       " 'offers',\n",
       " '50',\n",
       " 'selfpaced',\n",
       " 'data',\n",
       " 'science',\n",
       " 'courses',\n",
       " 'learning']"
      ]
     },
     "execution_count": 189,
     "metadata": {},
     "output_type": "execute_result"
    }
   ],
   "source": [
    "data"
   ]
  },
  {
   "cell_type": "code",
   "execution_count": 190,
   "id": "2f58ea31",
   "metadata": {},
   "outputs": [
    {
     "data": {
      "text/plain": [
       "list"
      ]
     },
     "execution_count": 190,
     "metadata": {},
     "output_type": "execute_result"
    }
   ],
   "source": [
    "type(data)"
   ]
  },
  {
   "cell_type": "code",
   "execution_count": 181,
   "id": "fb5b5729",
   "metadata": {},
   "outputs": [],
   "source": [
    "data=nlp(\" \".join(data))"
   ]
  },
  {
   "cell_type": "code",
   "execution_count": 182,
   "id": "eb25656c",
   "metadata": {},
   "outputs": [
    {
     "data": {
      "text/plain": [
       "spacy.tokens.doc.Doc"
      ]
     },
     "execution_count": 182,
     "metadata": {},
     "output_type": "execute_result"
    }
   ],
   "source": [
    "type(data)"
   ]
  },
  {
   "cell_type": "code",
   "execution_count": 191,
   "id": "822481e9",
   "metadata": {},
   "outputs": [
    {
     "data": {
      "text/plain": [
       "euron offers 50 selfpaced data science courses learning"
      ]
     },
     "execution_count": 191,
     "metadata": {},
     "output_type": "execute_result"
    }
   ],
   "source": [
    "data = nlp(\" \".join(data))\n",
    "data"
   ]
  },
  {
   "cell_type": "code",
   "execution_count": null,
   "id": "f886e16f",
   "metadata": {},
   "outputs": [
    {
     "name": "stdout",
     "output_type": "stream",
     "text": [
      "euron\n",
      "offer\n",
      "50\n",
      "selfpace\n",
      "datum\n",
      "science\n",
      "course\n",
      "learn\n"
     ]
    }
   ],
   "source": [
    "for i in data:\n",
    "    print(i.lemma_)"
   ]
  },
  {
   "cell_type": "code",
   "execution_count": null,
   "id": "cbf1fcbb",
   "metadata": {},
   "outputs": [],
   "source": []
  }
 ],
 "metadata": {
  "kernelspec": {
   "display_name": "genai",
   "language": "python",
   "name": "python3"
  },
  "language_info": {
   "codemirror_mode": {
    "name": "ipython",
    "version": 3
   },
   "file_extension": ".py",
   "mimetype": "text/x-python",
   "name": "python",
   "nbconvert_exporter": "python",
   "pygments_lexer": "ipython3",
   "version": "3.10.16"
  }
 },
 "nbformat": 4,
 "nbformat_minor": 5
}
